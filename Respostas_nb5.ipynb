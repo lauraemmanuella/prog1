{
  "nbformat": 4,
  "nbformat_minor": 0,
  "metadata": {
    "colab": {
      "name": "Respostas_nb5.ipynb",
      "provenance": [],
      "collapsed_sections": [],
      "authorship_tag": "ABX9TyPGPuMkevxwzll/3zUhinEn",
      "include_colab_link": true
    },
    "kernelspec": {
      "name": "python3",
      "display_name": "Python 3"
    },
    "language_info": {
      "name": "python"
    }
  },
  "cells": [
    {
      "cell_type": "markdown",
      "metadata": {
        "id": "view-in-github",
        "colab_type": "text"
      },
      "source": [
        "<a href=\"https://colab.research.google.com/github/lauraemmanuella/prog1/blob/main/Respostas_nb5.ipynb\" target=\"_parent\"><img src=\"https://colab.research.google.com/assets/colab-badge.svg\" alt=\"Open In Colab\"/></a>"
      ]
    },
    {
      "cell_type": "markdown",
      "source": [
        "## Exercícios String\n",
        "\n",
        "\n",
        "---"
      ],
      "metadata": {
        "id": "B8eH6U4l8OOd"
      }
    },
    {
      "cell_type": "markdown",
      "source": [
        "1. Faça um programa que leia 2 nomes. O programa deve mostrar os nomes seguidos dos seus tamanhos e informar se os nomes são iguais, independente de estarem em maiúsculo ou minúsculo."
      ],
      "metadata": {
        "id": "9AqfTiZkEEPH"
      }
    },
    {
      "cell_type": "code",
      "source": [
        "nome1 = input('Informe o primeiro nome: ')\n",
        "nome2 = input('Informe o segundo nome: ')\n",
        "\n",
        "print(f'\\n{nome1}: {len(nome1)} caracteres')\n",
        "print(f'{nome2}: {len(nome2)} caracteres')\n",
        "\n",
        "if nome1.upper() == nome2.upper():\n",
        "  print('\\nNomes iguais')"
      ],
      "metadata": {
        "colab": {
          "base_uri": "https://localhost:8080/"
        },
        "id": "IUa_WY2mvFZO",
        "outputId": "b7555244-5e88-4aee-c2e6-d5ae38f33631"
      },
      "execution_count": null,
      "outputs": [
        {
          "output_type": "stream",
          "name": "stdout",
          "text": [
            "Informe o primeiro nome: Laura\n",
            "Informe o segundo nome: laura\n",
            "\n",
            "Laura: 5 caracteres\n",
            "laura: 5 caracteres\n",
            "\n",
            "Nomes iguais\n"
          ]
        }
      ]
    },
    {
      "cell_type": "markdown",
      "source": [
        "2. Faça um programa que leia o primeiro nome e o último nome do usuário em 2 variáveis; junte-as em uma única variável, mostrando-a na saída."
      ],
      "metadata": {
        "id": "7Ke8oy4D4wUr"
      }
    },
    {
      "cell_type": "code",
      "source": [
        "nome = input('Informe seu primeiro nome: ')\n",
        "sobrenome = input('Informe seu último nome: ')\n",
        "\n",
        "nomecompleto = nome + ' ' + sobrenome\n",
        "\n",
        "print(f'Nome completo: {nomecompleto}')"
      ],
      "metadata": {
        "colab": {
          "base_uri": "https://localhost:8080/"
        },
        "id": "s10qc94t4qEw",
        "outputId": "01f8cf48-f1df-4ef3-c943-c32beeceebb5"
      },
      "execution_count": null,
      "outputs": [
        {
          "output_type": "stream",
          "name": "stdout",
          "text": [
            "Informe seu primeiro nome: Laura\n",
            "Informe seu último nome: Santana\n",
            "Nome completo: Laura Santana\n"
          ]
        }
      ]
    },
    {
      "cell_type": "markdown",
      "source": [
        "3. Faça um programa que permita ao usuário digitar o seu nome e em seguida mostre o nome do usuário de trás para frente utilizando somente letras minúsculas"
      ],
      "metadata": {
        "id": "J1IAIvigwHKD"
      }
    },
    {
      "cell_type": "code",
      "source": [
        "nome = input('Informe seu nome: ')\n",
        "\n",
        "print(nome[::-1].lower())"
      ],
      "metadata": {
        "colab": {
          "base_uri": "https://localhost:8080/"
        },
        "id": "RYzNYk0owR6T",
        "outputId": "5a521d4a-7bcc-4d83-d19b-27f43fa6fa43"
      },
      "execution_count": null,
      "outputs": [
        {
          "output_type": "stream",
          "name": "stdout",
          "text": [
            "Informe seu nome: Laura\n",
            "arual\n"
          ]
        }
      ]
    },
    {
      "cell_type": "markdown",
      "source": [
        "4. Faça um programa que solicite o nome do usuário e imprima-o na vertical."
      ],
      "metadata": {
        "id": "RT-Tr1hgwvyx"
      }
    },
    {
      "cell_type": "code",
      "source": [
        "nome = input('Informe seu nome: ')\n",
        "for i in nome:\n",
        "  print(i)"
      ],
      "metadata": {
        "colab": {
          "base_uri": "https://localhost:8080/"
        },
        "id": "fZzZB9afwsh9",
        "outputId": "1fe59880-41ab-471e-faec-2aff992369c1"
      },
      "execution_count": null,
      "outputs": [
        {
          "output_type": "stream",
          "name": "stdout",
          "text": [
            "Informe seu nome: Laura\n",
            "L\n",
            "a\n",
            "u\n",
            "r\n",
            "a\n"
          ]
        }
      ]
    },
    {
      "cell_type": "markdown",
      "source": [
        "5. Dado uma string com uma frase informada pelo usuário, conte quantas vezes aparecem as vogais a, e, i, o, u."
      ],
      "metadata": {
        "id": "iCuArLo2yr-Y"
      }
    },
    {
      "cell_type": "code",
      "source": [
        "frase = input('Informe uma frase: ')\n",
        "\n",
        "print(f'Quantidade de letra a: {frase.count(\"a\")}')\n",
        "print(f'Quantidade de letra e: {frase.count(\"e\")}')\n",
        "print(f'Quantidade de letra i: {frase.count(\"i\")}')\n",
        "print(f'Quantidade de letra o: {frase.count(\"o\")}')\n",
        "print(f'Quantidade de letra u: {frase.count(\"u\")}')"
      ],
      "metadata": {
        "colab": {
          "base_uri": "https://localhost:8080/"
        },
        "id": "RzasybJFyweZ",
        "outputId": "dda612d1-e422-487f-d215-c94c677c841a"
      },
      "execution_count": null,
      "outputs": [
        {
          "output_type": "stream",
          "name": "stdout",
          "text": [
            "Informe uma frase: gentileza gera gentileza\n",
            "Quantidade de letra a: 3\n",
            "Quantidade de letra e: 5\n",
            "Quantidade de letra i: 2\n",
            "Quantidade de letra o: 0\n",
            "Quantidade de letra u: 0\n"
          ]
        }
      ]
    },
    {
      "cell_type": "markdown",
      "source": [
        "6. Um palíndromo é uma sequência de caracteres cuja leitura é idêntica se feita da direita para esquerda ou vice−versa. Por exemplo: OSSO e OVO são palíndromos. Faça um programa que receba uma palavra e informe se ela é um palíndromo."
      ],
      "metadata": {
        "id": "7dS7IXeKzrYb"
      }
    },
    {
      "cell_type": "code",
      "source": [
        "palavra = input('Informe uma palavra: ')\n",
        "\n",
        "invertida = palavra[::-1]\n",
        "\n",
        "if invertida.upper() == palavra.upper():\n",
        "  print(f'\\n{palavra} é um palíndromo')\n",
        "else:\n",
        "  print(f'\\n{palavra} não é um palíndromo')"
      ],
      "metadata": {
        "colab": {
          "base_uri": "https://localhost:8080/"
        },
        "id": "GclhWb9JzzJS",
        "outputId": "accc7aa8-dbfc-462d-a155-0240a683413c"
      },
      "execution_count": null,
      "outputs": [
        {
          "output_type": "stream",
          "name": "stdout",
          "text": [
            "Informe uma palavra: Hannah\n",
            "\n",
            "Hannah é um palíndromo\n"
          ]
        }
      ]
    },
    {
      "cell_type": "markdown",
      "source": [
        "7. Faça um programa que solicite a data de nascimento (dd/mm/aaaa) do usuário e mostre dia, mês e ano separadamente.\n",
        "\n",
        "**DICA:** Lembre que a função split retorna uma lista de elementos da string separada por determinado caractere. Para mostrar os elementos retornados, use indexação a partir do 0."
      ],
      "metadata": {
        "id": "JBk6nxJWyFBc"
      }
    },
    {
      "cell_type": "code",
      "source": [
        "dtnasc = input('Informe a data de nascimento: ')\n",
        "\n",
        "data = dtnasc.split('/')\n",
        "\n",
        "print(f'dia: {data[0]}')\n",
        "print(f'mês: {data[1]}')\n",
        "print(f'ano: {data[2]}')"
      ],
      "metadata": {
        "colab": {
          "base_uri": "https://localhost:8080/"
        },
        "id": "8oaHoP2KyQZB",
        "outputId": "ffdba6c3-f3a3-42e5-89a1-f552bb159e71"
      },
      "execution_count": null,
      "outputs": [
        {
          "output_type": "stream",
          "name": "stdout",
          "text": [
            "Informe a data de nascimento: 11/06/2015\n",
            "dia: 11\n",
            "mês: 06\n",
            "ano: 2015\n"
          ]
        }
      ]
    },
    {
      "cell_type": "markdown",
      "source": [
        "### DESAFIOS"
      ],
      "metadata": {
        "id": "uML1kW2f6DNn"
      }
    },
    {
      "cell_type": "markdown",
      "source": [
        "**[DESAFIO 1]** Em textos mais complexos os espaços e pontuações são ignorados. A frase SUBI NO ONIBUS é o exemplo de uma frase palíndroma onde os espaços foram ignorados. Altere o programa 6 para que ele analise uma frase (dica: remova os espaços da frase)"
      ],
      "metadata": {
        "id": "mtUCANYX1g4k"
      }
    },
    {
      "cell_type": "code",
      "source": [
        "frase = input('Informe uma frase: ')\n",
        "\n",
        "frase2 = frase.replace(' ', '')\n",
        "\n",
        "invertida = frase2[::-1]\n",
        "\n",
        "if invertida.upper() == frase2.upper():\n",
        "  print(f'\\n{frase} é um palíndromo')\n",
        "else:\n",
        "  print(f'\\n{frase} não é um palíndromo')"
      ],
      "metadata": {
        "colab": {
          "base_uri": "https://localhost:8080/"
        },
        "id": "yFjIYxZr1hBr",
        "outputId": "a95c2ea7-6e86-4d52-b683-a31e333f8f36"
      },
      "execution_count": null,
      "outputs": [
        {
          "output_type": "stream",
          "name": "stdout",
          "text": [
            "Informe uma frase: subi no onibus\n",
            "\n",
            "subi no onibus é um palíndromo\n"
          ]
        }
      ]
    },
    {
      "cell_type": "markdown",
      "source": [
        "**[DESAFIO 2]** Modifique o programa 4 de forma a mostrar o nome em formato de escada.\n",
        "\n",
        "**DICA:** Use 2 laços aninhados."
      ],
      "metadata": {
        "id": "D8o57eeiw19U"
      }
    },
    {
      "cell_type": "code",
      "source": [
        "nome = input('Informe seu nome: ')\n",
        "for i in range(len(nome)):\n",
        "  saida = ''\n",
        "  for j in range(i+1):\n",
        "    saida = saida + nome[j]\n",
        "  print(saida)"
      ],
      "metadata": {
        "colab": {
          "base_uri": "https://localhost:8080/"
        },
        "id": "Se54f6Miw4w-",
        "outputId": "35c72bf2-8dc3-4f2b-c80b-bf448ff95c49"
      },
      "execution_count": null,
      "outputs": [
        {
          "output_type": "stream",
          "name": "stdout",
          "text": [
            "Informe seu nome: laura\n",
            "l\n",
            "la\n",
            "lau\n",
            "laur\n",
            "laura\n"
          ]
        }
      ]
    }
  ]
}
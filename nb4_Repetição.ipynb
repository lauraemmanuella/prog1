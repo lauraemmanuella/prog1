{
  "nbformat": 4,
  "nbformat_minor": 0,
  "metadata": {
    "colab": {
      "provenance": [],
      "authorship_tag": "ABX9TyNpOSi12oLlHHwgoly/tE2U",
      "include_colab_link": true
    },
    "kernelspec": {
      "name": "python3",
      "display_name": "Python 3"
    },
    "language_info": {
      "name": "python"
    }
  },
  "cells": [
    {
      "cell_type": "markdown",
      "metadata": {
        "id": "view-in-github",
        "colab_type": "text"
      },
      "source": [
        "<a href=\"https://colab.research.google.com/github/lauraemmanuella/prog1/blob/main/nb4_Repeti%C3%A7%C3%A3o.ipynb\" target=\"_parent\"><img src=\"https://colab.research.google.com/assets/colab-badge.svg\" alt=\"Open In Colab\"/></a>"
      ]
    },
    {
      "cell_type": "markdown",
      "source": [
        "# Estrutura de repetição FOR\n",
        "\n",
        "\n",
        "---\n",
        "\n",
        "O que vamos ver aqui?\n",
        "\n",
        "1. Iteração de itens com a função range()\n",
        "2. Exercícios\n",
        "\n",
        "\n",
        "Python tem uma estrutura de repetição especialmente projetada para percorrer itens de uma sequência de elementos, isso é particularmente útil para percorrer dados estruturados como listas, dicionários ou mesmo strings\n",
        "\n",
        "\n",
        "> A ideia é que a cada volta do laço, a variável de controle irá receber um item da sequência. O laço será encerrado quando terminar a sequência\n",
        "\n",
        "\n",
        "**Depois vamos ver mais exemplos usando essas estruturas de dados, por enquanto, vamos ver como usar o for com a função geradora range**"
      ],
      "metadata": {
        "id": "ive2q4Zp9SpG"
      }
    },
    {
      "cell_type": "markdown",
      "source": [
        "## 1. Função geradora range()\n",
        "\n",
        "range() é uma função do Python que gera números inteiros, ela tem 3 formas de uso:\n",
        "* **range(stop)**, por exemplo, range(10) gera os números inteiros de 0 até 9 (não inclui o valor stop)\n",
        "* **range(start, stop)**, por exemplo, range(2, 20) gera os números inteiros de 2 até 19\n",
        "* **range(start, stop, step)**, por exemplo, range(1, 10, 2) gera os números inteiros de 1 até 9 de 2 em 2, ou seja: 1, 3, 5, 7, 9\n",
        "\n",
        "> Para vermos ou manipularmos esse valores gerados pelo range, precisamos percorrer esses itens no laço FOR, veja os exemplos abaixo:"
      ],
      "metadata": {
        "id": "hJVKHOKZBGzq"
      }
    },
    {
      "cell_type": "code",
      "execution_count": null,
      "metadata": {
        "colab": {
          "base_uri": "https://localhost:8080/"
        },
        "id": "CtEt0RQc9N8f",
        "outputId": "150a282b-e40f-4ca9-94ce-3b0365edf9e8"
      },
      "outputs": [
        {
          "output_type": "stream",
          "name": "stdout",
          "text": [
            "0\n",
            "1\n",
            "2\n",
            "3\n",
            "4\n",
            "5\n",
            "6\n",
            "7\n",
            "8\n",
            "9\n"
          ]
        }
      ],
      "source": [
        "#pode ler assim: para cada item i na sequência gerada pelo range\n",
        "for i in range(10):\n",
        "  print(i) #mostre o item i"
      ]
    },
    {
      "cell_type": "code",
      "source": [
        "for i in range(2, 20):\n",
        "  print(i)"
      ],
      "metadata": {
        "colab": {
          "base_uri": "https://localhost:8080/"
        },
        "id": "LUbst_AGG233",
        "outputId": "16b30d21-1f66-436e-c3a1-a3397ad78471"
      },
      "execution_count": null,
      "outputs": [
        {
          "output_type": "stream",
          "name": "stdout",
          "text": [
            "2\n",
            "3\n",
            "4\n",
            "5\n",
            "6\n",
            "7\n",
            "8\n",
            "9\n",
            "10\n",
            "11\n",
            "12\n",
            "13\n",
            "14\n",
            "15\n",
            "16\n",
            "17\n",
            "18\n",
            "19\n"
          ]
        }
      ]
    },
    {
      "cell_type": "code",
      "source": [
        "for i in range(1, 10, 2):\n",
        "  print(i)"
      ],
      "metadata": {
        "colab": {
          "base_uri": "https://localhost:8080/"
        },
        "id": "N4OrruSzG711",
        "outputId": "f587fc16-d0d1-43bd-f0a5-d2ad9f62ab3d"
      },
      "execution_count": null,
      "outputs": [
        {
          "output_type": "stream",
          "name": "stdout",
          "text": [
            "1\n",
            "3\n",
            "5\n",
            "7\n",
            "9\n"
          ]
        }
      ]
    },
    {
      "cell_type": "markdown",
      "source": [
        "> **Pelos exemplos acima, observamos que a cada volta do laço FOR, a variável controladora i recebe um dos itens gerados pelo range**\n",
        "\n",
        "**Exemplo**: Faça um programa que mostre todos os números pares entre 1 e 20:"
      ],
      "metadata": {
        "id": "eFjZ3tItHWqR"
      }
    },
    {
      "cell_type": "code",
      "source": [
        "for i in range(2, 21, 2):\n",
        "  print(i)"
      ],
      "metadata": {
        "colab": {
          "base_uri": "https://localhost:8080/"
        },
        "id": "dLAoCkr6Hp4-",
        "outputId": "21ac48bc-7e77-4a5e-824e-da0f060b112f"
      },
      "execution_count": null,
      "outputs": [
        {
          "output_type": "stream",
          "name": "stdout",
          "text": [
            "2\n",
            "4\n",
            "6\n",
            "8\n",
            "10\n",
            "12\n",
            "14\n",
            "16\n",
            "18\n",
            "20\n"
          ]
        }
      ]
    },
    {
      "cell_type": "markdown",
      "source": [
        "## 2. Exercícios\n",
        "\n",
        "\n",
        "---"
      ],
      "metadata": {
        "id": "CkI72KsiJoLt"
      }
    },
    {
      "cell_type": "markdown",
      "source": [
        "1. Faça um programa que mostre todos os números divisíveis por 3 entre 1 e 50:"
      ],
      "metadata": {
        "id": "nxDHqGmrJpTV"
      }
    },
    {
      "cell_type": "code",
      "source": [
        "#seu codigo aqui"
      ],
      "metadata": {
        "colab": {
          "base_uri": "https://localhost:8080/"
        },
        "id": "uyBapUzoJxEt",
        "outputId": "1881983a-0938-4f95-ede8-5fb126fc2127"
      },
      "execution_count": null,
      "outputs": [
        {
          "output_type": "stream",
          "name": "stdout",
          "text": [
            "3\n",
            "6\n",
            "9\n",
            "12\n",
            "15\n",
            "18\n",
            "21\n",
            "24\n",
            "27\n",
            "30\n",
            "33\n",
            "36\n",
            "39\n",
            "42\n",
            "45\n",
            "48\n"
          ]
        }
      ]
    },
    {
      "cell_type": "markdown",
      "source": [
        "2. Escreva um programa que imprima os números inteiros de 1 a 100. Para múltiplos de três imprima **multiplo de 3**, para os múltiplos de cinco imprima **multiplo de 5** e para números que são múltiplos de três e cinco imprima **multiplo de 3 e 5**"
      ],
      "metadata": {
        "id": "npiR6yKnKG_R"
      }
    },
    {
      "cell_type": "code",
      "source": [
        "#seu codigo aqui"
      ],
      "metadata": {
        "colab": {
          "base_uri": "https://localhost:8080/"
        },
        "id": "CG--fpQaJ5Yt",
        "outputId": "31c9f168-cda9-4d90-b3b8-511ea6d4c2d1"
      },
      "execution_count": null,
      "outputs": [
        {
          "output_type": "stream",
          "name": "stdout",
          "text": [
            "1\n",
            "2\n",
            "3 (múltiplo de 3)\n",
            "4\n",
            "5 (múltiplo de 5)\n",
            "6 (múltiplo de 3)\n",
            "7\n",
            "8\n",
            "9 (múltiplo de 3)\n",
            "10 (múltiplo de 5)\n",
            "11\n",
            "12 (múltiplo de 3)\n",
            "13\n",
            "14\n",
            "15 (múltiplo de 3 e 5)\n",
            "16\n",
            "17\n",
            "18 (múltiplo de 3)\n",
            "19\n",
            "20 (múltiplo de 5)\n",
            "21 (múltiplo de 3)\n",
            "22\n",
            "23\n",
            "24 (múltiplo de 3)\n",
            "25 (múltiplo de 5)\n",
            "26\n",
            "27 (múltiplo de 3)\n",
            "28\n",
            "29\n",
            "30 (múltiplo de 3 e 5)\n",
            "31\n",
            "32\n",
            "33 (múltiplo de 3)\n",
            "34\n",
            "35 (múltiplo de 5)\n",
            "36 (múltiplo de 3)\n",
            "37\n",
            "38\n",
            "39 (múltiplo de 3)\n",
            "40 (múltiplo de 5)\n",
            "41\n",
            "42 (múltiplo de 3)\n",
            "43\n",
            "44\n",
            "45 (múltiplo de 3 e 5)\n",
            "46\n",
            "47\n",
            "48 (múltiplo de 3)\n",
            "49\n",
            "50 (múltiplo de 5)\n",
            "51 (múltiplo de 3)\n",
            "52\n",
            "53\n",
            "54 (múltiplo de 3)\n",
            "55 (múltiplo de 5)\n",
            "56\n",
            "57 (múltiplo de 3)\n",
            "58\n",
            "59\n",
            "60 (múltiplo de 3 e 5)\n",
            "61\n",
            "62\n",
            "63 (múltiplo de 3)\n",
            "64\n",
            "65 (múltiplo de 5)\n",
            "66 (múltiplo de 3)\n",
            "67\n",
            "68\n",
            "69 (múltiplo de 3)\n",
            "70 (múltiplo de 5)\n",
            "71\n",
            "72 (múltiplo de 3)\n",
            "73\n",
            "74\n",
            "75 (múltiplo de 3 e 5)\n",
            "76\n",
            "77\n",
            "78 (múltiplo de 3)\n",
            "79\n",
            "80 (múltiplo de 5)\n",
            "81 (múltiplo de 3)\n",
            "82\n",
            "83\n",
            "84 (múltiplo de 3)\n",
            "85 (múltiplo de 5)\n",
            "86\n",
            "87 (múltiplo de 3)\n",
            "88\n",
            "89\n",
            "90 (múltiplo de 3 e 5)\n",
            "91\n",
            "92\n",
            "93 (múltiplo de 3)\n",
            "94\n",
            "95 (múltiplo de 5)\n",
            "96 (múltiplo de 3)\n",
            "97\n",
            "98\n",
            "99 (múltiplo de 3)\n",
            "100 (múltiplo de 5)\n"
          ]
        }
      ]
    }
  ]
}
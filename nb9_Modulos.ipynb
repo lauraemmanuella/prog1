{
  "nbformat": 4,
  "nbformat_minor": 0,
  "metadata": {
    "colab": {
      "provenance": [],
      "authorship_tag": "ABX9TyOaan02RPLqm8WL1Ggdshx4",
      "include_colab_link": true
    },
    "kernelspec": {
      "name": "python3",
      "display_name": "Python 3"
    },
    "language_info": {
      "name": "python"
    }
  },
  "cells": [
    {
      "cell_type": "markdown",
      "metadata": {
        "id": "view-in-github",
        "colab_type": "text"
      },
      "source": [
        "<a href=\"https://colab.research.google.com/github/lauraemmanuella/prog1/blob/main/nb9_Modulos.ipynb\" target=\"_parent\"><img src=\"https://colab.research.google.com/assets/colab-badge.svg\" alt=\"Open In Colab\"/></a>"
      ]
    },
    {
      "cell_type": "markdown",
      "source": [
        "\n",
        "\n",
        "# Módulos\n",
        "\n",
        "\n",
        "---\n",
        "\n",
        "O que vamos ver aqui?\n",
        "\n",
        "1. O que são módulos e bibliotecas\n",
        "2. Exemplos do módulo math\n",
        "3. Exemplos do módulo random\n",
        "4. Exemplos do módulo matplotlib\n",
        "5. Exercícios\n"
      ],
      "metadata": {
        "id": "cjAZrI631WF7"
      }
    },
    {
      "cell_type": "markdown",
      "source": [
        "## 1. O que são módulos e bibliotecas\n",
        "\n",
        "> Os módulos no Python são simplesmente arquivos com a extensão .py que implementam um conjunto de funcionalidades (**operações prontas para serem usadas através de um comando/nome**)\n",
        "\n",
        "Os módulos são importados, ou seja, **trazidos para o nosso programa**, usando o comando **import**.\n",
        "\n",
        "**Chamamos de biblioteca um conjunto de módulos**. Portanto, a biblioteca padrão Python é um conjunto de módulos disponíveis em Python para que você possa importá-los e usar as funcionalidades deles quando quiser.\n",
        "\n",
        "Há diversos módulos do Python que fazem parte da **biblioteca padrão**. Uma vez que o módulo é importado, podemos utilizar as coisas que estão definidas dentro dele.\n",
        "\n",
        "> Exemplo de módulos da biblioteca padrão do Python: **math** e **random**.\n",
        "\n",
        "* **Módulo math**: possui um conjunto de funcionalidades matemáticas, como raiz quadrada, potenciação, seno, coseno, etc...\n",
        "* **Módulo random**: possui um conjunto de funcionalidades para geração de números aleatórios."
      ],
      "metadata": {
        "id": "XOxP8xdj5qrF"
      }
    },
    {
      "cell_type": "markdown",
      "source": [
        "## 2. Exemplos do módulo math"
      ],
      "metadata": {
        "id": "ywXfdPxK5OaS"
      }
    },
    {
      "cell_type": "code",
      "execution_count": null,
      "metadata": {
        "id": "nACOH4Vu1E_k",
        "colab": {
          "base_uri": "https://localhost:8080/"
        },
        "outputId": "b3984236-2fa2-4cf3-83cd-984f3d83a7bc"
      },
      "outputs": [
        {
          "output_type": "stream",
          "name": "stdout",
          "text": [
            "Raiz quadrada de 49 = 7.0\n",
            "Fatorial de 5 = 120\n",
            "2 elevado a 3 = 8.0\n",
            "PI = 3.141592653589793\n"
          ]
        }
      ],
      "source": [
        "import math\n",
        "\n",
        "x = math.sqrt(49)\n",
        "print(f'Raiz quadrada de 49 = {x}')\n",
        "\n",
        "y = math.factorial(5)\n",
        "print(f'Fatorial de 5 = {y}')\n",
        "\n",
        "z = math.pow(2, 3)\n",
        "print(f'2 elevado a 3 = {z}')\n",
        "\n",
        "print(f'PI = {math.pi}')"
      ]
    },
    {
      "cell_type": "markdown",
      "source": [
        "> Veja a documentação do módulo usando o help abaixo:"
      ],
      "metadata": {
        "id": "J-1b-ELJ3qc3"
      }
    },
    {
      "cell_type": "code",
      "source": [
        "help(math)"
      ],
      "metadata": {
        "id": "_s14o9Yy3o9n",
        "colab": {
          "base_uri": "https://localhost:8080/"
        },
        "outputId": "4f09b100-4b4f-413e-b7e1-40d90045cb22"
      },
      "execution_count": null,
      "outputs": [
        {
          "output_type": "stream",
          "name": "stdout",
          "text": [
            "Help on built-in module math:\n",
            "\n",
            "NAME\n",
            "    math\n",
            "\n",
            "DESCRIPTION\n",
            "    This module provides access to the mathematical functions\n",
            "    defined by the C standard.\n",
            "\n",
            "FUNCTIONS\n",
            "    acos(x, /)\n",
            "        Return the arc cosine (measured in radians) of x.\n",
            "    \n",
            "    acosh(x, /)\n",
            "        Return the inverse hyperbolic cosine of x.\n",
            "    \n",
            "    asin(x, /)\n",
            "        Return the arc sine (measured in radians) of x.\n",
            "    \n",
            "    asinh(x, /)\n",
            "        Return the inverse hyperbolic sine of x.\n",
            "    \n",
            "    atan(x, /)\n",
            "        Return the arc tangent (measured in radians) of x.\n",
            "    \n",
            "    atan2(y, x, /)\n",
            "        Return the arc tangent (measured in radians) of y/x.\n",
            "        \n",
            "        Unlike atan(y/x), the signs of both x and y are considered.\n",
            "    \n",
            "    atanh(x, /)\n",
            "        Return the inverse hyperbolic tangent of x.\n",
            "    \n",
            "    ceil(x, /)\n",
            "        Return the ceiling of x as an Integral.\n",
            "        \n",
            "        This is the smallest integer >= x.\n",
            "    \n",
            "    copysign(x, y, /)\n",
            "        Return a float with the magnitude (absolute value) of x but the sign of y.\n",
            "        \n",
            "        On platforms that support signed zeros, copysign(1.0, -0.0)\n",
            "        returns -1.0.\n",
            "    \n",
            "    cos(x, /)\n",
            "        Return the cosine of x (measured in radians).\n",
            "    \n",
            "    cosh(x, /)\n",
            "        Return the hyperbolic cosine of x.\n",
            "    \n",
            "    degrees(x, /)\n",
            "        Convert angle x from radians to degrees.\n",
            "    \n",
            "    erf(x, /)\n",
            "        Error function at x.\n",
            "    \n",
            "    erfc(x, /)\n",
            "        Complementary error function at x.\n",
            "    \n",
            "    exp(x, /)\n",
            "        Return e raised to the power of x.\n",
            "    \n",
            "    expm1(x, /)\n",
            "        Return exp(x)-1.\n",
            "        \n",
            "        This function avoids the loss of precision involved in the direct evaluation of exp(x)-1 for small x.\n",
            "    \n",
            "    fabs(x, /)\n",
            "        Return the absolute value of the float x.\n",
            "    \n",
            "    factorial(x, /)\n",
            "        Find x!.\n",
            "        \n",
            "        Raise a ValueError if x is negative or non-integral.\n",
            "    \n",
            "    floor(x, /)\n",
            "        Return the floor of x as an Integral.\n",
            "        \n",
            "        This is the largest integer <= x.\n",
            "    \n",
            "    fmod(x, y, /)\n",
            "        Return fmod(x, y), according to platform C.\n",
            "        \n",
            "        x % y may differ.\n",
            "    \n",
            "    frexp(x, /)\n",
            "        Return the mantissa and exponent of x, as pair (m, e).\n",
            "        \n",
            "        m is a float and e is an int, such that x = m * 2.**e.\n",
            "        If x is 0, m and e are both 0.  Else 0.5 <= abs(m) < 1.0.\n",
            "    \n",
            "    fsum(seq, /)\n",
            "        Return an accurate floating point sum of values in the iterable seq.\n",
            "        \n",
            "        Assumes IEEE-754 floating point arithmetic.\n",
            "    \n",
            "    gamma(x, /)\n",
            "        Gamma function at x.\n",
            "    \n",
            "    gcd(x, y, /)\n",
            "        greatest common divisor of x and y\n",
            "    \n",
            "    hypot(x, y, /)\n",
            "        Return the Euclidean distance, sqrt(x*x + y*y).\n",
            "    \n",
            "    isclose(a, b, *, rel_tol=1e-09, abs_tol=0.0)\n",
            "        Determine whether two floating point numbers are close in value.\n",
            "        \n",
            "          rel_tol\n",
            "            maximum difference for being considered \"close\", relative to the\n",
            "            magnitude of the input values\n",
            "          abs_tol\n",
            "            maximum difference for being considered \"close\", regardless of the\n",
            "            magnitude of the input values\n",
            "        \n",
            "        Return True if a is close in value to b, and False otherwise.\n",
            "        \n",
            "        For the values to be considered close, the difference between them\n",
            "        must be smaller than at least one of the tolerances.\n",
            "        \n",
            "        -inf, inf and NaN behave similarly to the IEEE 754 Standard.  That\n",
            "        is, NaN is not close to anything, even itself.  inf and -inf are\n",
            "        only close to themselves.\n",
            "    \n",
            "    isfinite(x, /)\n",
            "        Return True if x is neither an infinity nor a NaN, and False otherwise.\n",
            "    \n",
            "    isinf(x, /)\n",
            "        Return True if x is a positive or negative infinity, and False otherwise.\n",
            "    \n",
            "    isnan(x, /)\n",
            "        Return True if x is a NaN (not a number), and False otherwise.\n",
            "    \n",
            "    ldexp(x, i, /)\n",
            "        Return x * (2**i).\n",
            "        \n",
            "        This is essentially the inverse of frexp().\n",
            "    \n",
            "    lgamma(x, /)\n",
            "        Natural logarithm of absolute value of Gamma function at x.\n",
            "    \n",
            "    log(...)\n",
            "        log(x, [base=math.e])\n",
            "        Return the logarithm of x to the given base.\n",
            "        \n",
            "        If the base not specified, returns the natural logarithm (base e) of x.\n",
            "    \n",
            "    log10(x, /)\n",
            "        Return the base 10 logarithm of x.\n",
            "    \n",
            "    log1p(x, /)\n",
            "        Return the natural logarithm of 1+x (base e).\n",
            "        \n",
            "        The result is computed in a way which is accurate for x near zero.\n",
            "    \n",
            "    log2(x, /)\n",
            "        Return the base 2 logarithm of x.\n",
            "    \n",
            "    modf(x, /)\n",
            "        Return the fractional and integer parts of x.\n",
            "        \n",
            "        Both results carry the sign of x and are floats.\n",
            "    \n",
            "    pow(x, y, /)\n",
            "        Return x**y (x to the power of y).\n",
            "    \n",
            "    radians(x, /)\n",
            "        Convert angle x from degrees to radians.\n",
            "    \n",
            "    remainder(x, y, /)\n",
            "        Difference between x and the closest integer multiple of y.\n",
            "        \n",
            "        Return x - n*y where n*y is the closest integer multiple of y.\n",
            "        In the case where x is exactly halfway between two multiples of\n",
            "        y, the nearest even value of n is used. The result is always exact.\n",
            "    \n",
            "    sin(x, /)\n",
            "        Return the sine of x (measured in radians).\n",
            "    \n",
            "    sinh(x, /)\n",
            "        Return the hyperbolic sine of x.\n",
            "    \n",
            "    sqrt(x, /)\n",
            "        Return the square root of x.\n",
            "    \n",
            "    tan(x, /)\n",
            "        Return the tangent of x (measured in radians).\n",
            "    \n",
            "    tanh(x, /)\n",
            "        Return the hyperbolic tangent of x.\n",
            "    \n",
            "    trunc(x, /)\n",
            "        Truncates the Real x to the nearest Integral toward 0.\n",
            "        \n",
            "        Uses the __trunc__ magic method.\n",
            "\n",
            "DATA\n",
            "    e = 2.718281828459045\n",
            "    inf = inf\n",
            "    nan = nan\n",
            "    pi = 3.141592653589793\n",
            "    tau = 6.283185307179586\n",
            "\n",
            "FILE\n",
            "    (built-in)\n",
            "\n",
            "\n"
          ]
        }
      ]
    },
    {
      "cell_type": "markdown",
      "source": [
        "## 3. Exemplos do módulo random"
      ],
      "metadata": {
        "id": "vhUNNC4Y5SZL"
      }
    },
    {
      "cell_type": "code",
      "source": [
        "import random\n",
        "\n",
        "dado = random.randint(1,6)\n",
        "print(f'Lançamento do dado = {dado}')\n",
        "\n",
        "lista = [576, 1001, 345, 6, 876]\n",
        "escolhido = random.choice(lista)\n",
        "\n",
        "print(f'Valor escolhido na lista: {escolhido}')\n",
        "\n",
        "aleatorio = random.randrange(0, 101, 2)\n",
        "print(f'Número aleatório par entre 1 e 100: {aleatorio}')"
      ],
      "metadata": {
        "colab": {
          "base_uri": "https://localhost:8080/"
        },
        "id": "0yzU_Kjz4D87",
        "outputId": "23f1b83c-0fff-4460-daf8-0df5530fb6c0"
      },
      "execution_count": null,
      "outputs": [
        {
          "output_type": "stream",
          "name": "stdout",
          "text": [
            "Lançamento do dado = 4\n",
            "Valor escolhido na lista: 345\n",
            "Número aleatório par entre 1 e 100: 54\n"
          ]
        }
      ]
    },
    {
      "cell_type": "markdown",
      "source": [
        "> Veja a documentação do módulo usando o help abaixo:"
      ],
      "metadata": {
        "id": "G6IxDJSm5Hkf"
      }
    },
    {
      "cell_type": "code",
      "source": [
        "help(random)"
      ],
      "metadata": {
        "id": "fupYWQIe4FiO"
      },
      "execution_count": null,
      "outputs": []
    },
    {
      "cell_type": "markdown",
      "source": [
        "## 4. Biblioteca matplotlib\n",
        "\n",
        "Matplotlib é uma biblioteca (ou seja, um conjunto de módulos Python) para criar visualizações de dados em Python\n",
        "\n",
        "Essa biblioteca não faz parte da biblioteca padrão, por isso, se você estiver usando Python na sua máquina precisará instalar (`pip install matplotlib`), mas usando o Colab a biblioteca já estará pronta para uso\n",
        "\n",
        "> Precisamos apenas importar para nosso programa\n",
        "\n",
        "**O módulo do matplotlib que usaremos aqui é chamado pyplot** e é comumento usado um alias para se referir a ele: **plt**"
      ],
      "metadata": {
        "id": "NIywZAQ16PIc"
      }
    },
    {
      "cell_type": "code",
      "source": [
        "import matplotlib.pyplot as plt \n",
        "  \n",
        "tempo = [0, 1, 2, 3, 4, 5, 6, 7, 8, 9, 10]\n",
        "distancia = [3, 8, 13, 18, 23, 28, 33, 38, 43, 48, 53] \n",
        "  \n",
        "plt.plot(tempo, distancia) \n",
        "plt.title('MRU')\n",
        "plt.xlabel('tempo')\n",
        "plt.ylabel('distancia')\n",
        "plt.show() "
      ],
      "metadata": {
        "colab": {
          "base_uri": "https://localhost:8080/",
          "height": 295
        },
        "id": "j6421P6T6SUz",
        "outputId": "50487e8e-29a8-425f-a06b-3857724dfac2"
      },
      "execution_count": null,
      "outputs": [
        {
          "output_type": "display_data",
          "data": {
            "text/plain": [
              "<Figure size 432x288 with 1 Axes>"
            ],
            "image/png": "[encoded data removed]"
          },
          "metadata": {
            "needs_background": "light"
          }
        }
      ]
    },
    {
      "cell_type": "code",
      "source": [
        "import matplotlib.pyplot as plt \n",
        "  \n",
        "tempo = [0, 1, 2, 3, 4, 5, 6, 7, 8, 9, 10]\n",
        "x0 = 3\n",
        "v0 = 5\n",
        "distancia = []\n",
        "for i in tempo:\n",
        "  distancia.append(x0 + v0 * i)\n",
        "print(distancia)\n",
        "  \n",
        "plt.plot(tempo, distancia) \n",
        "plt.title('MRU')\n",
        "plt.xlabel('tempo (s)')\n",
        "plt.ylabel('distancia (m)')\n",
        "plt.show() "
      ],
      "metadata": {
        "colab": {
          "base_uri": "https://localhost:8080/",
          "height": 313
        },
        "id": "gg17eSSo9dcw",
        "outputId": "8214ab6e-d3a7-4cef-dab2-9b6f230c00ac"
      },
      "execution_count": null,
      "outputs": [
        {
          "output_type": "stream",
          "name": "stdout",
          "text": [
            "[3, 8, 13, 18, 23, 28, 33, 38, 43, 48, 53]\n"
          ]
        },
        {
          "output_type": "display_data",
          "data": {
            "text/plain": [
              "<Figure size 432x288 with 1 Axes>"
            ],
            "image/png": "[encoded data removed]"
          },
          "metadata": {
            "needs_background": "light"
          }
        }
      ]
    },
    {
      "cell_type": "code",
      "source": [
        "import matplotlib.pyplot as plt \n",
        "  \n",
        "tempo = [0, 1, 2, 3, 4, 5, 6, 7, 8, 9, 10]\n",
        "x0 = 3\n",
        "v0 = 5\n",
        "a0 = 9.8\n",
        "distancia = []\n",
        "for i in tempo:\n",
        "  distancia.append(x0 + v0 * i + a0 * (i**2)/2)\n",
        "print(distancia)\n",
        "  \n",
        "plt.plot(tempo, distancia) \n",
        "plt.title('MRUV')\n",
        "plt.xlabel('tempo (s)')\n",
        "plt.ylabel('distancia (m)')\n",
        "plt.show() "
      ],
      "metadata": {
        "colab": {
          "base_uri": "https://localhost:8080/",
          "height": 313
        },
        "id": "1TAc5GhN-Kh3",
        "outputId": "80ead19d-b766-42e1-f6ad-3873fa58d35c"
      },
      "execution_count": null,
      "outputs": [
        {
          "output_type": "stream",
          "name": "stdout",
          "text": [
            "[3.0, 12.9, 32.6, 62.1, 101.4, 150.5, 209.4, 278.1, 356.6, 444.90000000000003, 543.0]\n"
          ]
        },
        {
          "output_type": "display_data",
          "data": {
            "text/plain": [
              "<Figure size 432x288 with 1 Axes>"
            ],
            "image/png": "[encoded data removed]"
          },
          "metadata": {
            "needs_background": "light"
          }
        }
      ]
    },
    {
      "cell_type": "markdown",
      "source": [
        "## 5. Exercícios\n",
        "\n",
        "> Use os módulos vistos para ajudar na realização do Trabalho: https://github.com/lauraemmanuella/prog1/blob/main/Exerc%C3%ADcios_de_Engenharia.ipynb"
      ],
      "metadata": {
        "id": "Z3el_-0D9gpJ"
      }
    }
  ]
}
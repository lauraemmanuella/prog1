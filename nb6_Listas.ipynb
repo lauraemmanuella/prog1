{
  "nbformat": 4,
  "nbformat_minor": 0,
  "metadata": {
    "colab": {
      "provenance": [],
      "authorship_tag": "ABX9TyN1+YJPhykY8MNbyiFLbioJ",
      "include_colab_link": true
    },
    "kernelspec": {
      "name": "python3",
      "display_name": "Python 3"
    },
    "language_info": {
      "name": "python"
    }
  },
  "cells": [
    {
      "cell_type": "markdown",
      "metadata": {
        "id": "view-in-github",
        "colab_type": "text"
      },
      "source": [
        "<a href=\"https://colab.research.google.com/github/lauraemmanuella/prog1/blob/main/nb6_Listas.ipynb\" target=\"_parent\"><img src=\"https://colab.research.google.com/assets/colab-badge.svg\" alt=\"Open In Colab\"/></a>"
      ]
    },
    {
      "cell_type": "markdown",
      "source": [
        "# Listas\n",
        "\n",
        "\n",
        "---\n",
        "\n",
        "O que vamos ver aqui?\n",
        "\n",
        "1. Indexação\n",
        "2. Operador in\n",
        "3. Cortes\n",
        "4. Métodos das listas\n",
        "5. Iterando os elementos da lista (for)\n",
        "6. Listas aninhadas\n",
        "7. Exercícios\n",
        "\n",
        "\n",
        "> As listas são **sequências de valores quaisquer** colocados entre colchetes e separados por vírgula. Exemplos:"
      ],
      "metadata": {
        "id": "j9YuwnCxzMaT"
      }
    },
    {
      "cell_type": "code",
      "execution_count": null,
      "metadata": {
        "id": "7g5TFit2y9Xr"
      },
      "outputs": [],
      "source": [
        "pares = [2, 4, 6, 8, 10, 12, 14, 16, 18, 20]\n",
        "alunos = ['Ana', 'Bruno', 'Clara', 'David']"
      ]
    },
    {
      "cell_type": "markdown",
      "source": [
        "## 1. Indexação"
      ],
      "metadata": {
        "id": "SLd0aYs-AFYl"
      }
    },
    {
      "cell_type": "markdown",
      "source": [
        "> Listas são um tipo de variável que permite o armazamento de vários valores, **acessados por um índice.**\n",
        "\n",
        "Dessa forma, **podemos fazer referência a um elemento da lista usando indexação**, assim como nas strings"
      ],
      "metadata": {
        "id": "dUfnyEjv_bmI"
      }
    },
    {
      "cell_type": "code",
      "source": [
        "print(pares[0]) #primeiro elemento da lista pares"
      ],
      "metadata": {
        "colab": {
          "base_uri": "https://localhost:8080/"
        },
        "id": "79KjJL-kz5Q_",
        "outputId": "a1be3524-01e2-4870-d36a-7f967b633038"
      },
      "execution_count": null,
      "outputs": [
        {
          "output_type": "stream",
          "name": "stdout",
          "text": [
            "2\n"
          ]
        }
      ]
    },
    {
      "cell_type": "markdown",
      "source": [
        "Assim como nas strings, o último elemento também pode ser referenciado pelo índice -1"
      ],
      "metadata": {
        "id": "JGSgY8fO0ia0"
      }
    },
    {
      "cell_type": "code",
      "source": [
        "print(alunos[-1]) #último elemento da lista alunos"
      ],
      "metadata": {
        "colab": {
          "base_uri": "https://localhost:8080/"
        },
        "id": "t_lsnl4FAuND",
        "outputId": "d13297f3-0938-469e-8c96-cda2a6feb875"
      },
      "execution_count": null,
      "outputs": [
        {
          "output_type": "stream",
          "name": "stdout",
          "text": [
            "David\n"
          ]
        }
      ]
    },
    {
      "cell_type": "markdown",
      "source": [
        "\n",
        "\n",
        "---\n",
        "\n",
        "\n",
        "**Ao contrário das strings, eles são mutáveis, o que significa que os elementos dentro de uma lista podem ser alterados por indexação.**\n",
        "\n",
        "\n",
        "---\n",
        "\n"
      ],
      "metadata": {
        "id": "w7xUR24L0qIz"
      }
    },
    {
      "cell_type": "code",
      "source": [
        "alunos[0] = 'Ana Maria' #altera o elemento da posição de índice 0\n",
        "print(alunos)"
      ],
      "metadata": {
        "colab": {
          "base_uri": "https://localhost:8080/"
        },
        "id": "HP1veVwu0Oz4",
        "outputId": "8ba51db9-63ce-43ff-b343-495c573f372e"
      },
      "execution_count": null,
      "outputs": [
        {
          "output_type": "stream",
          "name": "stdout",
          "text": [
            "['Ana Maria', 'Bruno', 'Clara', 'David']\n"
          ]
        }
      ]
    },
    {
      "cell_type": "markdown",
      "source": [
        "Uma das características mais úteis das listas em Python é que é uma **estrutura de dados heterogênea**, ou seja, pode armazenar elementos de diferentes tipos, como no exemplo abaixo:"
      ],
      "metadata": {
        "id": "78ca02yr1Tto"
      }
    },
    {
      "cell_type": "code",
      "source": [
        "minhalista = ['Engenharia', 2022, 9.5, True]"
      ],
      "metadata": {
        "id": "4Xo2RMnG0Hxm"
      },
      "execution_count": null,
      "outputs": []
    },
    {
      "cell_type": "markdown",
      "source": [
        "\n",
        "O tamanho da lista é igual a quantidade de elementos que ela contem.\n",
        "\n",
        "> Para saber a quantidade de elementos da lista, podemos usa o **método len**, assim como nas strings"
      ],
      "metadata": {
        "id": "UG9m8KL4_tuQ"
      }
    },
    {
      "cell_type": "code",
      "source": [
        "len(minhalista)"
      ],
      "metadata": {
        "colab": {
          "base_uri": "https://localhost:8080/"
        },
        "id": "fxN5HrbE14Ez",
        "outputId": "dbd1d794-2452-479f-bbf2-770a11953a58"
      },
      "execution_count": null,
      "outputs": [
        {
          "output_type": "execute_result",
          "data": {
            "text/plain": [
              "4"
            ]
          },
          "metadata": {},
          "execution_count": 12
        }
      ]
    },
    {
      "cell_type": "markdown",
      "source": [
        "## 2. Operador in\n",
        "\n",
        "O operador `in` verifica se o operando à esquerda está contido na estrutura à direita, da mesma forma que o operador `not in` que verifica o contrário.\n",
        "\n",
        "> Podemos verificar se uma determinado elemento está contido em uma lista, assim como fazemos nas strings\n",
        "\n",
        "**O operador in ou not in retorna True ou False**"
      ],
      "metadata": {
        "id": "mZCecuR2K6yT"
      }
    },
    {
      "cell_type": "code",
      "source": [
        "print(3 in pares)"
      ],
      "metadata": {
        "colab": {
          "base_uri": "https://localhost:8080/"
        },
        "id": "laelAxOaLFbP",
        "outputId": "e20be7e2-73b0-455e-c787-897cd222c886"
      },
      "execution_count": null,
      "outputs": [
        {
          "output_type": "stream",
          "name": "stdout",
          "text": [
            "False\n"
          ]
        }
      ]
    },
    {
      "cell_type": "code",
      "source": [
        "valor = 2\n",
        "if valor in pares:\n",
        "  print(f'{valor} está na lista')\n",
        "else:\n",
        "  print(f'{valor} não está na lista')"
      ],
      "metadata": {
        "colab": {
          "base_uri": "https://localhost:8080/"
        },
        "id": "GAxTHGplLmBs",
        "outputId": "ec0c0070-4942-441d-83d0-f0729fdbc75f"
      },
      "execution_count": null,
      "outputs": [
        {
          "output_type": "stream",
          "name": "stdout",
          "text": [
            "2 está na lista\n"
          ]
        }
      ]
    },
    {
      "cell_type": "markdown",
      "source": [
        "## 3. Cortes"
      ],
      "metadata": {
        "id": "aiGy1FNCBJMZ"
      }
    },
    {
      "cell_type": "markdown",
      "source": [
        "Também podemos fazer cortes, buscando uma parte da lista, assim como fazemos com as strings\n",
        "\n",
        "> Lembre que ao fazer um corte, informamos a posição inicial (start), a posição final (stop) e podemos informar também a quantidade de passos (step)\n",
        "\n",
        "`lista[start:stop:step]`"
      ],
      "metadata": {
        "id": "AFJIJkHu18GF"
      }
    },
    {
      "cell_type": "code",
      "source": [
        "print(pares[1:5]) #retorna apenas os elementos das posição de índice 1 até 4"
      ],
      "metadata": {
        "colab": {
          "base_uri": "https://localhost:8080/"
        },
        "id": "Vk3s6e5dCG3P",
        "outputId": "788845c8-51df-4d4d-9610-1255ad3ff8b6"
      },
      "execution_count": null,
      "outputs": [
        {
          "output_type": "stream",
          "name": "stdout",
          "text": [
            "[4, 6, 8, 10]\n"
          ]
        }
      ]
    },
    {
      "cell_type": "code",
      "source": [
        "print(pares[::2]) #retorna os elementos da lista saltando de 2 em 2"
      ],
      "metadata": {
        "colab": {
          "base_uri": "https://localhost:8080/"
        },
        "id": "cXA2mnHfCVTc",
        "outputId": "f85c261c-9ab3-4b60-d19e-d8516fd0a678"
      },
      "execution_count": null,
      "outputs": [
        {
          "output_type": "stream",
          "name": "stdout",
          "text": [
            "[2, 6, 10, 14, 18]\n"
          ]
        }
      ]
    },
    {
      "cell_type": "code",
      "source": [
        "print(pares[::-1]) #retorna a lista de trás pra frente"
      ],
      "metadata": {
        "colab": {
          "base_uri": "https://localhost:8080/"
        },
        "id": "tY_xKC4nCYYT",
        "outputId": "0e15f67d-37ba-47a2-d23a-de99757eee7b"
      },
      "execution_count": null,
      "outputs": [
        {
          "output_type": "stream",
          "name": "stdout",
          "text": [
            "[20, 18, 16, 14, 12, 10, 8, 6, 4, 2]\n"
          ]
        }
      ]
    },
    {
      "cell_type": "markdown",
      "source": [
        "## 4. Métodos das listas"
      ],
      "metadata": {
        "id": "svt7RNBEC-YC"
      }
    },
    {
      "cell_type": "markdown",
      "source": [
        "> O tipo de dado Lista do Python (`classe list`), possui um conjunto de operações disponíveis (`chamadas de Métodos`)\n",
        "\n",
        "Veja mais em: https://docs.python.org/pt-br/3.10/tutorial/datastructures.html#more-on-lists"
      ],
      "metadata": {
        "id": "8ySAYaUWDB7r"
      }
    },
    {
      "cell_type": "code",
      "source": [
        "listapython = [] #CRIA LISTA VAZIA"
      ],
      "metadata": {
        "id": "Gb135EKpkoxV"
      },
      "execution_count": null,
      "outputs": []
    },
    {
      "cell_type": "code",
      "source": [
        "print(listapython)"
      ],
      "metadata": {
        "colab": {
          "base_uri": "https://localhost:8080/"
        },
        "id": "7doWsEN3PHmx",
        "outputId": "5cd500d8-9159-4c91-8f4d-ac30b3445404"
      },
      "execution_count": null,
      "outputs": [
        {
          "output_type": "stream",
          "name": "stdout",
          "text": [
            "[]\n"
          ]
        }
      ]
    },
    {
      "cell_type": "markdown",
      "source": [
        "###APPEND\n",
        "\n",
        "O método `append` insere um elemento ao final da lista já criada"
      ],
      "metadata": {
        "id": "IiZZcmKJEgZK"
      }
    },
    {
      "cell_type": "code",
      "source": [
        "##INSERIR ELEMENTO AO FINAL DA LISTA\n",
        "listapython.append(6)\n",
        "listapython.append(89)\n",
        "listapython.append(99)\n",
        "listapython.append(99)\n",
        "listapython.append(54)"
      ],
      "metadata": {
        "id": "AwzEFjAck2yu"
      },
      "execution_count": null,
      "outputs": []
    },
    {
      "cell_type": "code",
      "source": [
        "print(listapython)"
      ],
      "metadata": {
        "colab": {
          "base_uri": "https://localhost:8080/"
        },
        "id": "Lmp2z2bLk-__",
        "outputId": "08da5cfa-1490-4a30-ee56-ca4964f8980a"
      },
      "execution_count": null,
      "outputs": [
        {
          "output_type": "stream",
          "name": "stdout",
          "text": [
            "[6, 89, 99, 99, 54]\n"
          ]
        }
      ]
    },
    {
      "cell_type": "markdown",
      "source": [
        "###INSERT\n",
        "\n",
        "O método `insert` insere um elemento em uma posição específica da lista"
      ],
      "metadata": {
        "id": "LZrA50VFE1sM"
      }
    },
    {
      "cell_type": "code",
      "source": [
        "#INSERIR ELEMENTO EM DETERMINADA POSIÇÃO DA LISTA\n",
        "listapython.insert(1, 56)"
      ],
      "metadata": {
        "id": "9NT5cqpZmsPd"
      },
      "execution_count": null,
      "outputs": []
    },
    {
      "cell_type": "code",
      "source": [
        "print(listapython)"
      ],
      "metadata": {
        "colab": {
          "base_uri": "https://localhost:8080/"
        },
        "id": "phbNmtjiTGog",
        "outputId": "9a0cc474-86fb-400e-f1b9-a16adfc0c7f6"
      },
      "execution_count": null,
      "outputs": [
        {
          "output_type": "stream",
          "name": "stdout",
          "text": [
            "[6, 56, 89, 99, 99, 54]\n"
          ]
        }
      ]
    },
    {
      "cell_type": "markdown",
      "source": [
        "###POP\n",
        "\n",
        "O método `pop` remove o elemento de determinada posição da lista\n",
        "\n",
        "> Existe 2 modos de uso do `pop`:\n",
        "* Podemos informar qual a posição que queremos remover\n",
        "* Ou podemos remover o último elemento da lista. Nesse caso, não passamos a informação sobre o índice."
      ],
      "metadata": {
        "id": "1KeOpZxAE_PG"
      }
    },
    {
      "cell_type": "code",
      "source": [
        "#REMOVER ÚLTIMO ELEMENTO DA LISTA\n",
        "listapython.pop()  #observe que ao executamos o método pop, ele retorna o elemento removido da lista"
      ],
      "metadata": {
        "colab": {
          "base_uri": "https://localhost:8080/"
        },
        "id": "Hb-u_rI7Po1k",
        "outputId": "9eb9e16f-2a0f-4dcd-bd5d-6a91983313c5"
      },
      "execution_count": null,
      "outputs": [
        {
          "output_type": "execute_result",
          "data": {
            "text/plain": [
              "54"
            ]
          },
          "metadata": {},
          "execution_count": 85
        }
      ]
    },
    {
      "cell_type": "code",
      "source": [
        "print(listapython)"
      ],
      "metadata": {
        "colab": {
          "base_uri": "https://localhost:8080/"
        },
        "id": "t00nr-0omxh-",
        "outputId": "cade4831-4e35-4d35-ca61-bab1f746e587"
      },
      "execution_count": null,
      "outputs": [
        {
          "output_type": "stream",
          "name": "stdout",
          "text": [
            "[6, 56, 89, 99, 99]\n"
          ]
        }
      ]
    },
    {
      "cell_type": "code",
      "source": [
        "#REMOVER ELEMENTO DE DETERMINADA POSIÇÃO DA LISTA\n",
        "listapython.pop(0)"
      ],
      "metadata": {
        "colab": {
          "base_uri": "https://localhost:8080/"
        },
        "id": "QaiZdvdePxwa",
        "outputId": "e62eced0-481e-46a4-fa4c-cb2b5b7e0ffd"
      },
      "execution_count": null,
      "outputs": [
        {
          "output_type": "execute_result",
          "data": {
            "text/plain": [
              "6"
            ]
          },
          "metadata": {},
          "execution_count": 87
        }
      ]
    },
    {
      "cell_type": "code",
      "source": [
        "print(listapython)"
      ],
      "metadata": {
        "colab": {
          "base_uri": "https://localhost:8080/"
        },
        "id": "xNuhdo3VP37-",
        "outputId": "3ce3f2b2-440a-471a-b84a-12dedde4bd12"
      },
      "execution_count": null,
      "outputs": [
        {
          "output_type": "stream",
          "name": "stdout",
          "text": [
            "[56, 89, 99, 99]\n"
          ]
        }
      ]
    },
    {
      "cell_type": "markdown",
      "source": [
        "###REMOVE\n",
        "\n",
        "O método `remove` remove a primeira ocorrência de determinado valor da lista"
      ],
      "metadata": {
        "id": "uHOw5HmFFcU1"
      }
    },
    {
      "cell_type": "code",
      "source": [
        "#REMOVER PRIMEIRA OCORRÊNCIA DE UM ELEMENTO\n",
        "listapython.remove(99)"
      ],
      "metadata": {
        "id": "7btJQnGHoG15"
      },
      "execution_count": null,
      "outputs": []
    },
    {
      "cell_type": "code",
      "source": [
        "print(listapython)"
      ],
      "metadata": {
        "colab": {
          "base_uri": "https://localhost:8080/"
        },
        "id": "gJm_gxBgP60W",
        "outputId": "1045a471-96c1-4143-b973-32f3ea2fe0ef"
      },
      "execution_count": null,
      "outputs": [
        {
          "output_type": "stream",
          "name": "stdout",
          "text": [
            "[56, 89, 99]\n"
          ]
        }
      ]
    },
    {
      "cell_type": "code",
      "source": [
        "teste = [100, 30, 100, 20, 100, 10, 100]\n",
        "while 100 in teste:\n",
        "  teste.remove(100)\n",
        "print(teste)"
      ],
      "metadata": {
        "colab": {
          "base_uri": "https://localhost:8080/"
        },
        "id": "8KrEwPRMPpzK",
        "outputId": "0fbc5bb7-1572-44ea-83ea-da8a88d62791"
      },
      "execution_count": null,
      "outputs": [
        {
          "output_type": "stream",
          "name": "stdout",
          "text": [
            "[30, 20, 10]\n"
          ]
        }
      ]
    },
    {
      "cell_type": "markdown",
      "source": [
        "## EXERCÍCIO 1\n",
        "\n",
        "Faça um programa que mostre o seguinte menu de opções ao usuário para gestão de uma lista de compras:\n",
        "\n",
        "MINHA LISTA DE COMPRAS\n",
        "1. Inserir item ao final da lista\n",
        "2. Inserir item em posição específica\n",
        "3. Remover item por posição\n",
        "4. Remover item por valor (todas as ocorrências)\n",
        "5. Mostrar lista\n",
        "6. Fechar"
      ],
      "metadata": {
        "id": "wPawI5arHzLb"
      }
    },
    {
      "cell_type": "code",
      "source": [
        "#Seu código aqui"
      ],
      "metadata": {
        "colab": {
          "base_uri": "https://localhost:8080/"
        },
        "id": "boJTILMDH1-l",
        "outputId": "b0a3b911-4270-4983-d6bc-4e50cfa6c650"
      },
      "execution_count": null,
      "outputs": [
        {
          "name": "stdout",
          "output_type": "stream",
          "text": [
            "\n",
            "MINHA LISTA DE COMPRAS\n",
            "1-Inserir item ao final da lista\n",
            "2-Inserir item em posição específica\n",
            "3-Remover item por posição\n",
            "4-Remover item por valor (todas as ocorrências)\n",
            "5-Mostrar lista\n",
            "6-Fechar\n",
            "1\n",
            "\n",
            "Informe o item a ser inserido: caneta\n",
            "\n",
            "['CANETA']\n",
            "\n",
            "MINHA LISTA DE COMPRAS\n",
            "1-Inserir item ao final da lista\n",
            "2-Inserir item em posição específica\n",
            "3-Remover item por posição\n",
            "4-Remover item por valor (todas as ocorrências)\n",
            "5-Mostrar lista\n",
            "6-Fechar\n",
            "1\n",
            "\n",
            "Informe o item a ser inserido: lápis\n",
            "\n",
            "['CANETA', 'LÁPIS']\n",
            "\n",
            "MINHA LISTA DE COMPRAS\n",
            "1-Inserir item ao final da lista\n",
            "2-Inserir item em posição específica\n",
            "3-Remover item por posição\n",
            "4-Remover item por valor (todas as ocorrências)\n",
            "5-Mostrar lista\n",
            "6-Fechar\n",
            "1\n",
            "\n",
            "Informe o item a ser inserido: caneta\n",
            "\n",
            "['CANETA', 'LÁPIS', 'CANETA']\n",
            "\n",
            "MINHA LISTA DE COMPRAS\n",
            "1-Inserir item ao final da lista\n",
            "2-Inserir item em posição específica\n",
            "3-Remover item por posição\n",
            "4-Remover item por valor (todas as ocorrências)\n",
            "5-Mostrar lista\n",
            "6-Fechar\n",
            "2\n",
            "\n",
            "Informe a posição para inserir o item: 0\n",
            "Informe o item a ser inserido: caderno\n",
            "\n",
            "['CADERNO', 'CANETA', 'LÁPIS', 'CANETA']\n",
            "\n",
            "MINHA LISTA DE COMPRAS\n",
            "1-Inserir item ao final da lista\n",
            "2-Inserir item em posição específica\n",
            "3-Remover item por posição\n",
            "4-Remover item por valor (todas as ocorrências)\n",
            "5-Mostrar lista\n",
            "6-Fechar\n",
            "3\n",
            "\n",
            "Informe a posição para remover o item: 2\n",
            "\n",
            "['CADERNO', 'CANETA', 'CANETA']\n",
            "\n",
            "MINHA LISTA DE COMPRAS\n",
            "1-Inserir item ao final da lista\n",
            "2-Inserir item em posição específica\n",
            "3-Remover item por posição\n",
            "4-Remover item por valor (todas as ocorrências)\n",
            "5-Mostrar lista\n",
            "6-Fechar\n",
            "4\n",
            "\n",
            "Informe o valor a ser removido: caneta\n",
            "\n",
            "['CADERNO']\n",
            "\n",
            "MINHA LISTA DE COMPRAS\n",
            "1-Inserir item ao final da lista\n",
            "2-Inserir item em posição específica\n",
            "3-Remover item por posição\n",
            "4-Remover item por valor (todas as ocorrências)\n",
            "5-Mostrar lista\n",
            "6-Fechar\n",
            "6\n"
          ]
        }
      ]
    },
    {
      "cell_type": "markdown",
      "source": [
        "###EXTEND\n",
        "\n",
        "O método `extend` combina elementos de 2 listas"
      ],
      "metadata": {
        "id": "JlaDrw6KF1Dl"
      }
    },
    {
      "cell_type": "code",
      "source": [
        "novalista = [1,2,3]\n",
        "listapython.append(novalista)"
      ],
      "metadata": {
        "id": "YKORF52yMSTK"
      },
      "execution_count": null,
      "outputs": []
    },
    {
      "cell_type": "code",
      "source": [
        "print(listapython)"
      ],
      "metadata": {
        "colab": {
          "base_uri": "https://localhost:8080/"
        },
        "id": "z-iBW2YlMZQe",
        "outputId": "46958c0a-5b9b-43e5-db65-a992234079b0"
      },
      "execution_count": null,
      "outputs": [
        {
          "output_type": "stream",
          "name": "stdout",
          "text": [
            "[56, 89, 99, 100, 100, 100, 100, [1, 2, 3]]\n"
          ]
        }
      ]
    },
    {
      "cell_type": "code",
      "source": [
        "listapython = [56, 89, 99]\n",
        "print(listapython)\n",
        "\n",
        "outralista = [100, 100, 100, 100]\n",
        "\n",
        "listapython.extend(outralista)\n",
        "\n",
        "print(listapython)"
      ],
      "metadata": {
        "colab": {
          "base_uri": "https://localhost:8080/"
        },
        "id": "Mk2uNVD3F662",
        "outputId": "699f0215-915e-413a-bc95-b2a3eb08e21c"
      },
      "execution_count": null,
      "outputs": [
        {
          "output_type": "stream",
          "name": "stdout",
          "text": [
            "[56, 89, 99]\n",
            "[56, 89, 99, 100, 100, 100, 100]\n"
          ]
        }
      ]
    },
    {
      "cell_type": "markdown",
      "source": [
        "> O método extend faz o mesmo que o operador + (concatenação)\n",
        "\n",
        "**Observe o exemplo abaixo, onde juntamos 2 listas usando o operador de concatenação (+)**"
      ],
      "metadata": {
        "id": "P_1bn2kKalyG"
      }
    },
    {
      "cell_type": "code",
      "source": [
        "lista1 = [2,4,6]\n",
        "lista2 = [1,3,5]\n",
        "lista1 = lista1 + lista2\n",
        "print(lista1)"
      ],
      "metadata": {
        "colab": {
          "base_uri": "https://localhost:8080/"
        },
        "id": "s_ACb_Rlal6o",
        "outputId": "e9598833-5eee-4ba1-b6d8-2255954c64c0"
      },
      "execution_count": null,
      "outputs": [
        {
          "output_type": "stream",
          "name": "stdout",
          "text": [
            "[2, 4, 6, 1, 3, 5]\n"
          ]
        }
      ]
    },
    {
      "cell_type": "markdown",
      "source": [
        "###INDEX\n",
        "\n",
        "O método `index` retorna o índice da primeira ocorrência de determinado valor dentro da lista"
      ],
      "metadata": {
        "id": "SizU7rgKGMPL"
      }
    },
    {
      "cell_type": "code",
      "source": [
        "print(listapython)\n",
        "print(listapython.index(100))"
      ],
      "metadata": {
        "colab": {
          "base_uri": "https://localhost:8080/"
        },
        "id": "OdC3Buh_GNWj",
        "outputId": "2d3fe653-a698-476a-f73a-19557d37e29d"
      },
      "execution_count": null,
      "outputs": [
        {
          "output_type": "stream",
          "name": "stdout",
          "text": [
            "[56, 89, 99, 100, 100, 100, 100]\n",
            "3\n"
          ]
        }
      ]
    },
    {
      "cell_type": "markdown",
      "source": [
        "###COUNT\n",
        "\n",
        "O método `count` retorna a quantidade de ocorrências de determinado valor dentro da lista."
      ],
      "metadata": {
        "id": "ssjaUs_FGQCI"
      }
    },
    {
      "cell_type": "code",
      "source": [
        "print(listapython.count(100))"
      ],
      "metadata": {
        "colab": {
          "base_uri": "https://localhost:8080/"
        },
        "id": "zTmLnHo7GPdK",
        "outputId": "10fd07e2-2818-43c8-bdd8-3e154cd22742"
      },
      "execution_count": null,
      "outputs": [
        {
          "output_type": "stream",
          "name": "stdout",
          "text": [
            "4\n"
          ]
        }
      ]
    },
    {
      "cell_type": "markdown",
      "source": [
        "### REVERSE\n",
        "\n",
        "O método `reverse` inverte a ordem dos elementos da lista"
      ],
      "metadata": {
        "id": "ulgMLdM9GHTR"
      }
    },
    {
      "cell_type": "code",
      "source": [
        "listapython.reverse()\n",
        "print(listapython)"
      ],
      "metadata": {
        "colab": {
          "base_uri": "https://localhost:8080/"
        },
        "id": "X2x4Q57BYY6a",
        "outputId": "3acea46e-d7d2-49b7-c9b0-7109c22af6bc"
      },
      "execution_count": null,
      "outputs": [
        {
          "output_type": "stream",
          "name": "stdout",
          "text": [
            "[100, 100, 100, 100, 99, 89, 56]\n"
          ]
        }
      ]
    },
    {
      "cell_type": "markdown",
      "source": [
        "###SORT\n",
        "\n",
        "O método `sort` ordena os elementos da lista"
      ],
      "metadata": {
        "id": "adHsHgqsGIxi"
      }
    },
    {
      "cell_type": "code",
      "source": [
        "listapython.sort()\n",
        "print(listapython)"
      ],
      "metadata": {
        "colab": {
          "base_uri": "https://localhost:8080/"
        },
        "id": "P7ww9vl0GJ5t",
        "outputId": "8bdfb3dc-fd5f-4bad-ca05-c554604cba6e"
      },
      "execution_count": null,
      "outputs": [
        {
          "output_type": "stream",
          "name": "stdout",
          "text": [
            "[56, 89, 99, 100, 100, 100, 100]\n"
          ]
        }
      ]
    },
    {
      "cell_type": "markdown",
      "source": [
        "### COPY\n",
        "\n",
        "O método `copy` faz uma cópia da lista.\n",
        "\n",
        "> É especialmente útil quando queremos fazer algumas alterações, mas queremos manter o original também"
      ],
      "metadata": {
        "id": "kNSLmgHqF7Ef"
      }
    },
    {
      "cell_type": "code",
      "source": [
        "lista1 = [1,2,3]\n",
        "lista2 = lista1\n",
        "lista1.append(55)\n",
        "print(f'lista 1: {lista1}')\n",
        "print(f'lista 2: {lista2}')"
      ],
      "metadata": {
        "colab": {
          "base_uri": "https://localhost:8080/"
        },
        "id": "GFRUA3d2Omiz",
        "outputId": "58bfc0e0-6b66-4a84-d3cf-a1b84b7a19b4"
      },
      "execution_count": null,
      "outputs": [
        {
          "output_type": "stream",
          "name": "stdout",
          "text": [
            "lista 1: [1, 2, 3, 55]\n",
            "lista 2: [1, 2, 3, 55]\n"
          ]
        }
      ]
    },
    {
      "cell_type": "code",
      "source": [
        "copialista = listapython.copy()\n",
        "referencia = listapython\n",
        "\n",
        "listapython[0] = 1999\n",
        "\n",
        "print(f'listapython: {listapython}')\n",
        "print(f'copialista: {copialista}')\n",
        "print(f'referencia: {referencia}')"
      ],
      "metadata": {
        "colab": {
          "base_uri": "https://localhost:8080/"
        },
        "id": "yyzyj8loF9ui",
        "outputId": "73bef6e4-bf36-4cd3-9423-b055d7a005d2"
      },
      "execution_count": null,
      "outputs": [
        {
          "output_type": "stream",
          "name": "stdout",
          "text": [
            "listapython: [1999, 89, 99, 100, 100, 100, 100]\n",
            "copialista: [56, 89, 99, 100, 100, 100, 100]\n",
            "referencia: [1999, 89, 99, 100, 100, 100, 100]\n"
          ]
        }
      ]
    },
    {
      "cell_type": "markdown",
      "source": [
        "\n",
        "\n",
        "---\n",
        "\n",
        "\n",
        "Observe que a referencia reflete todas as alterações na lista e vice-versa, mas a cópia é independente\n",
        "\n",
        "\n",
        "---\n",
        "\n"
      ],
      "metadata": {
        "id": "QSuoBq7VZP4K"
      }
    },
    {
      "cell_type": "markdown",
      "source": [
        "### CLEAR\n",
        "\n",
        "O método `clear` apaga os elementos da lista, tornando a lista vazia"
      ],
      "metadata": {
        "id": "NXrjuz3IFtX9"
      }
    },
    {
      "cell_type": "code",
      "source": [
        "listapython.clear()\n",
        "print(listapython)\n",
        "print(referencia)"
      ],
      "metadata": {
        "colab": {
          "base_uri": "https://localhost:8080/"
        },
        "id": "omU5Ki1pF02u",
        "outputId": "dfe428b6-51f0-4bd5-e716-b55be98fcd25"
      },
      "execution_count": null,
      "outputs": [
        {
          "output_type": "stream",
          "name": "stdout",
          "text": [
            "[]\n",
            "[]\n"
          ]
        }
      ]
    },
    {
      "cell_type": "markdown",
      "source": [
        "## 5. Iterando os caracteres da lista (for)\n",
        "\n",
        "Assim como nas strings, podemos usar a estrutura `for` para percorrer os itens da lista. Veja o exemplo abaixo:"
      ],
      "metadata": {
        "id": "C6JsH8csgK4R"
      }
    },
    {
      "cell_type": "code",
      "source": [
        "lista = ['ana', 'maria', 'joão']\n",
        "for item in lista:\n",
        "  print(item)"
      ],
      "metadata": {
        "colab": {
          "base_uri": "https://localhost:8080/"
        },
        "id": "ugArr_aXgLJK",
        "outputId": "5bba0dfc-7a29-4499-9501-6f27b73204c6"
      },
      "execution_count": null,
      "outputs": [
        {
          "output_type": "stream",
          "name": "stdout",
          "text": [
            "ana\n",
            "maria\n",
            "joão\n"
          ]
        }
      ]
    },
    {
      "cell_type": "markdown",
      "source": [
        "## 6. Listas aninhadas\n",
        "\n",
        "Uma ótima característica das estruturas de dados do Python é que eles suportam **aninhamento**.\n",
        "\n",
        "> Isso significa que podemos ter estruturas de dados dentro das estruturas de dados. Por exemplo: **uma lista dentro de uma lista.**"
      ],
      "metadata": {
        "id": "5P8bkPd4opMP"
      }
    },
    {
      "cell_type": "code",
      "metadata": {
        "id": "9zecj_XbElgc"
      },
      "source": [
        "lista1 = [1,2,3]\n",
        "lista2 = [4,5,6]\n",
        "lista3 = [7,8,9]\n",
        "matriz = [lista1, lista2, lista3]"
      ],
      "execution_count": null,
      "outputs": []
    },
    {
      "cell_type": "code",
      "metadata": {
        "id": "8APd6zO9Elgc",
        "colab": {
          "base_uri": "https://localhost:8080/"
        },
        "outputId": "c66100bc-57c6-498d-ec54-0779cf6cd924"
      },
      "source": [
        "print(matriz)"
      ],
      "execution_count": null,
      "outputs": [
        {
          "output_type": "stream",
          "name": "stdout",
          "text": [
            "[[1, 2, 3], [4, 5, 6], [7, 8, 9]]\n"
          ]
        }
      ]
    },
    {
      "cell_type": "code",
      "metadata": {
        "id": "rLk_qAMLElgd",
        "outputId": "b69612a7-246f-4764-b05e-99038530ae58",
        "colab": {
          "base_uri": "https://localhost:8080/"
        }
      },
      "source": [
        "print(matriz[0]) #retorna o elemento da posição 0 (que é uma lista!!)"
      ],
      "execution_count": null,
      "outputs": [
        {
          "output_type": "stream",
          "name": "stdout",
          "text": [
            "[1, 2, 3]\n"
          ]
        }
      ]
    },
    {
      "cell_type": "code",
      "metadata": {
        "id": "GGLrf1rIElgd",
        "outputId": "3de87d7b-f909-4b72-e90b-b1a78d0bbacf",
        "colab": {
          "base_uri": "https://localhost:8080/"
        }
      },
      "source": [
        "print(matriz[0][0]) #retorna o primeiro elemento da lista retornada"
      ],
      "execution_count": null,
      "outputs": [
        {
          "output_type": "stream",
          "name": "stdout",
          "text": [
            "1\n"
          ]
        }
      ]
    },
    {
      "cell_type": "code",
      "execution_count": null,
      "metadata": {
        "colab": {
          "base_uri": "https://localhost:8080/"
        },
        "id": "n2r1Rl0PoAIo",
        "outputId": "7e925681-437a-4021-f920-27ccf3b6a077"
      },
      "outputs": [
        {
          "output_type": "stream",
          "name": "stdout",
          "text": [
            "[[10, 20, 30], [11, 21, 31], [100, 200, 300]]\n",
            "200\n"
          ]
        }
      ],
      "source": [
        "matriz2 = [[10, 20, 30],[11, 21, 31],[100, 200, 300]]\n",
        "print(matriz2)\n",
        "print(matriz2[2][1])"
      ]
    },
    {
      "cell_type": "markdown",
      "source": [
        "## EXERCÍCIOS 2"
      ],
      "metadata": {
        "id": "mWNs_IQ1djBq"
      }
    },
    {
      "cell_type": "markdown",
      "source": [
        "1. A célula abaixo gera uma lista com 20 valores aleatórios entre 1 e 100. Execute a célula abaixo:"
      ],
      "metadata": {
        "id": "tbPmULXbfXMO"
      }
    },
    {
      "cell_type": "code",
      "source": [
        "import random\n",
        "\n",
        "dados1 = []\n",
        "for i in range(20): #executa 20 vezes\n",
        "  dados1.append(random.randint(1, 100)) #gera um valor aleatório entre 1 e 100 e adiciona na lista\n",
        "\n",
        "print(dados1)"
      ],
      "metadata": {
        "colab": {
          "base_uri": "https://localhost:8080/"
        },
        "id": "LAJ2ge91dr-l",
        "outputId": "1fec17a4-ba05-4087-ae89-0d92e67d80ab"
      },
      "execution_count": null,
      "outputs": [
        {
          "output_type": "stream",
          "name": "stdout",
          "text": [
            "[30, 27, 36, 15, 83, 14, 40, 40, 41, 67, 51, 62, 100, 77, 84, 25, 47, 57, 82, 53]\n"
          ]
        }
      ]
    },
    {
      "cell_type": "markdown",
      "source": [
        "2. Mostre o menor e o maior valor da lista e suas posições"
      ],
      "metadata": {
        "id": "-D3VR2Wbh3Uz"
      }
    },
    {
      "cell_type": "code",
      "source": [
        "#seu código aqui"
      ],
      "metadata": {
        "colab": {
          "base_uri": "https://localhost:8080/"
        },
        "id": "uhAZ_8tJiBtp",
        "outputId": "7ddc4a91-3543-464b-9988-ff2943d75db8"
      },
      "execution_count": null,
      "outputs": [
        {
          "output_type": "stream",
          "name": "stdout",
          "text": [
            "100\n",
            "14\n"
          ]
        }
      ]
    },
    {
      "cell_type": "markdown",
      "source": [
        "3. Gere outra lista (dados2) com 20 elementos aleatórios entre 1 e 200"
      ],
      "metadata": {
        "id": "Or7hHwAkkCzT"
      }
    },
    {
      "cell_type": "code",
      "source": [
        "#seu código aqui"
      ],
      "metadata": {
        "colab": {
          "base_uri": "https://localhost:8080/"
        },
        "id": "OSaC6FqikKcH",
        "outputId": "dbdfa9e1-abca-41a6-832c-ef9efd3e2566"
      },
      "execution_count": null,
      "outputs": [
        {
          "output_type": "stream",
          "name": "stdout",
          "text": [
            "[170, 45, 50, 84, 4, 139, 114, 70, 2, 34, 187, 108, 100, 153, 179, 24, 120, 51, 197, 164]\n"
          ]
        }
      ]
    },
    {
      "cell_type": "markdown",
      "source": [
        "4. Una as duas listas em uma única variável (dados) e mostre os elementos repetidos e a quantidade de vezes em que eles se repetem"
      ],
      "metadata": {
        "id": "SU3f3zRkke5N"
      }
    },
    {
      "cell_type": "code",
      "source": [
        "#seu código aqui"
      ],
      "metadata": {
        "colab": {
          "base_uri": "https://localhost:8080/"
        },
        "id": "vKep7vJUkr5f",
        "outputId": "04160b24-ffaf-4e19-d479-d11c54051b18"
      },
      "execution_count": null,
      "outputs": [
        {
          "output_type": "stream",
          "name": "stdout",
          "text": [
            "valor: 4 - 2 vezes \n",
            "valor: 50 - 2 vezes \n",
            "valor: 100 - 2 vezes \n"
          ]
        }
      ]
    },
    {
      "cell_type": "markdown",
      "source": [
        "5. Gere 2 listas (pares e ímpares) onde 1 delas será preenchida com os elementos pares da lista `dados` e a outra com os elementos ímpares. Mostre as listas e seus tamanhos:"
      ],
      "metadata": {
        "id": "KA37IYByhWRg"
      }
    },
    {
      "cell_type": "code",
      "source": [
        "#seu código aqui"
      ],
      "metadata": {
        "colab": {
          "base_uri": "https://localhost:8080/"
        },
        "id": "1VG9HA0nfyDf",
        "outputId": "7e387d28-6aa0-4f73-b4e0-c6ff859f07c3"
      },
      "execution_count": null,
      "outputs": [
        {
          "output_type": "stream",
          "name": "stdout",
          "text": [
            "Pares: [88, 74, 62, 16, 76, 28, 4, 48, 50, 36, 40, 100, 58, 170, 50, 84, 4, 114, 70, 2, 34, 108, 100, 24, 120, 164] - 26 itens\n",
            "ímpares: [3, 11, 83, 69, 37, 53, 93, 45, 139, 187, 153, 179, 51, 197] - 14 itens\n"
          ]
        }
      ]
    },
    {
      "cell_type": "markdown",
      "source": [
        "6. Agora coloque as duas listas anteriores (pares e ímpares) em ordem crescente. Mostre o menor e maior valor de cada lista:"
      ],
      "metadata": {
        "id": "HOlkkybPhn2x"
      }
    },
    {
      "cell_type": "code",
      "source": [
        "#seu código aqui"
      ],
      "metadata": {
        "colab": {
          "base_uri": "https://localhost:8080/"
        },
        "id": "AwQiAsLXhrKv",
        "outputId": "fecade0a-674c-44f9-e701-a82b3456005f"
      },
      "execution_count": null,
      "outputs": [
        {
          "output_type": "stream",
          "name": "stdout",
          "text": [
            "[2, 4, 4, 16, 24, 28, 34, 36, 40, 48, 50, 50, 58, 62, 70, 74, 76, 84, 88, 100, 100, 108, 114, 120, 164, 170]\n",
            "Menor: 2 Maior: 170\n",
            "[3, 11, 37, 45, 51, 53, 69, 83, 93, 139, 153, 179, 187, 197]\n",
            "Menor: 3 Maior: 197\n"
          ]
        }
      ]
    },
    {
      "cell_type": "markdown",
      "source": [
        "7. Faça um código que imprima o valor 2 da lista abaixo:"
      ],
      "metadata": {
        "id": "yac6caPZ4n-I"
      }
    },
    {
      "cell_type": "code",
      "execution_count": null,
      "metadata": {
        "id": "8GM6yD7d4n-Y"
      },
      "outputs": [],
      "source": [
        "lista = [1, 1, [1,2]]"
      ]
    },
    {
      "cell_type": "code",
      "source": [
        "#seu código aqui\n"
      ],
      "metadata": {
        "colab": {
          "base_uri": "https://localhost:8080/"
        },
        "id": "w4FNPv8p5Lyp",
        "outputId": "e1f004b4-40fe-444d-9c03-dfd2669b95bc"
      },
      "execution_count": null,
      "outputs": [
        {
          "output_type": "execute_result",
          "data": {
            "text/plain": [
              "2"
            ]
          },
          "metadata": {},
          "execution_count": 4
        }
      ]
    },
    {
      "cell_type": "markdown",
      "source": [
        "8. Dada a matriz abaixo, gere uma lista cujos valores sejam cada elemento da segunda linha multiplicado por 100"
      ],
      "metadata": {
        "id": "pCrnMxeI0tCN"
      }
    },
    {
      "cell_type": "code",
      "source": [
        "matriz = [[13,7, 9], [2, 6, 1], [8, 3, 4]]"
      ],
      "metadata": {
        "id": "B3NT3TVr2JcN"
      },
      "execution_count": null,
      "outputs": []
    },
    {
      "cell_type": "code",
      "source": [
        "#seu código aqui"
      ],
      "metadata": {
        "colab": {
          "base_uri": "https://localhost:8080/"
        },
        "id": "CPc1TMirsthB",
        "outputId": "cf446279-e5a7-4fb8-d377-c49a85523382"
      },
      "execution_count": null,
      "outputs": [
        {
          "output_type": "stream",
          "name": "stdout",
          "text": [
            "[200, 600, 100]\n"
          ]
        }
      ]
    }
  ]
}
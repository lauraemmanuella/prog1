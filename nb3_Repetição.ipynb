{
  "nbformat": 4,
  "nbformat_minor": 0,
  "metadata": {
    "colab": {
      "provenance": [],
      "toc_visible": true,
      "authorship_tag": "ABX9TyNswQn5Mun4AUjJpiCikpUs",
      "include_colab_link": true
    },
    "kernelspec": {
      "name": "python3",
      "display_name": "Python 3"
    },
    "language_info": {
      "name": "python"
    }
  },
  "cells": [
    {
      "cell_type": "markdown",
      "metadata": {
        "id": "view-in-github",
        "colab_type": "text"
      },
      "source": [
        "<a href=\"https://colab.research.google.com/github/lauraemmanuella/prog1/blob/main/nb3_Repeti%C3%A7%C3%A3o.ipynb\" target=\"_parent\"><img src=\"https://colab.research.google.com/assets/colab-badge.svg\" alt=\"Open In Colab\"/></a>"
      ]
    },
    {
      "cell_type": "markdown",
      "source": [
        "# Estrutura de repetição WHILE\n",
        "\n",
        "\n",
        "---\n",
        "\n",
        "O que vamos ver aqui?\n",
        "\n",
        "1. Repetição por condição (while)\n",
        "2. Variáveis controladoras do laço\n",
        "3. Contadores\n",
        "4. Acumuladores\n",
        "5. Operadores de atribuição especiais\n",
        "6. Comando break\n",
        "7. Comando continue\n",
        "8. Repetições aninhadas\n",
        "9. Exercícios\n",
        "\n",
        "\n",
        "---\n",
        "\n",
        "> *No mundo real é comum a repetição de procedimentos para se realizar tarefas. Esses procedimentos não são repetidos eternamente, mas se encerram quando o objetivo é atingido*  - Marco Medina (Algoritmos e Programação)\n",
        "\n",
        "\n",
        "Repetições representam a base de muitos programas. Esse processo é chamado de loop ou laço de repetição\n",
        "\n",
        "> **São usadas para executar a mesma parte de um programa várias vezes**\n",
        "\n",
        "A quantidade de repetições pode depender de uma **condição** ou da **iteração** sobre um conjunto de elementos\n"
      ],
      "metadata": {
        "id": "NlMCyWMBxWod"
      }
    },
    {
      "cell_type": "markdown",
      "source": [
        "## 1. Repetição por condição\n",
        "\n",
        "Em Python o comando para criar estruturas de repetição por condição é `while`, sua sintaxe é:\n",
        "\n",
        "\n",
        "\n",
        "```\n",
        "while condicao:\n",
        "  codigo\n",
        "```\n",
        "\n",
        "> O código será executado enquanto a condição for verdadeira\n",
        "\n",
        "\n",
        "**Exemplo 1**: Escreva um programa para escrever a contagem regressiva do lançamento de um foguete. O programa deve imprimir os números de 10 a 0 e Fogo! na tela"
      ],
      "metadata": {
        "id": "64gV0VbKyhIn"
      }
    },
    {
      "cell_type": "code",
      "source": [
        "t = 10\n",
        "while t >= 0:\n",
        "  print(t)\n",
        "  t = t - 1\n",
        "print('Fogo!')"
      ],
      "metadata": {
        "colab": {
          "base_uri": "https://localhost:8080/"
        },
        "id": "zDT7wEQMyNyq",
        "outputId": "735709ef-6ff7-40a7-ee20-606d74ed86b9"
      },
      "execution_count": null,
      "outputs": [
        {
          "output_type": "stream",
          "name": "stdout",
          "text": [
            "10\n",
            "9\n",
            "8\n",
            "7\n",
            "6\n",
            "5\n",
            "4\n",
            "3\n",
            "2\n",
            "1\n",
            "0\n",
            "Fogo!\n"
          ]
        }
      ]
    },
    {
      "cell_type": "markdown",
      "source": [
        "## 2. Variáveis controladoras do laço\n",
        "\n",
        "**Precisamos ter atenção para evitar a criação de um laço infinito, ou seja, um laço cuja condição nunca se torne falsa**\n",
        "\n",
        "Normalmente, a condição do laço depende de uma variável que tem seu valor alterado dentro do fluxo de execução do laço. É essa alteração que garante que o laço irá ser encerrado em algum momento (claro que a alteração precisa permitir que a condição testada se torne falsa!)\n",
        "\n",
        "Variáveis desse tipo normalmente são chamadas de contadoras, como podemos ver a seguir."
      ],
      "metadata": {
        "id": "OSRYgt7J5AqL"
      }
    },
    {
      "cell_type": "markdown",
      "source": [
        "## 3. Contadores\n",
        "\n",
        "Variáveis contadoras são muito importantes nas estruturas de repetição, pois muitas vezes são elas que determinam o encerramento do laço\n",
        "\n",
        "> Um contador se caracteriza por receber um valor inicial e ter esse valor aumentado ou diminuido a medida que o laço se repete, chegando em algum momento no valor da condição testada\n",
        "\n",
        "**Exemplo 2:** Faça um programa que imprima a tabuada de multiplicação (0 a 10) de um número informado pelo usuário\n",
        "\n"
      ],
      "metadata": {
        "id": "tZgET0Mm2xTA"
      }
    },
    {
      "cell_type": "code",
      "source": [
        "num = int(input('Tabuada de: '))\n",
        "\n",
        "x = 1\n",
        "while x <= 10:\n",
        "  print(f'{num} * {x} = {num * x}')\n",
        "  x = x + 1 #variável contadora"
      ],
      "metadata": {
        "colab": {
          "base_uri": "https://localhost:8080/"
        },
        "id": "AHuqQ3ke57Ec",
        "outputId": "ee6a30be-1213-45c6-e8c6-130fdc779828"
      },
      "execution_count": null,
      "outputs": [
        {
          "output_type": "stream",
          "name": "stdout",
          "text": [
            "Tabuada de: 9\n",
            "9 * 1 = 9\n",
            "9 * 2 = 18\n",
            "9 * 3 = 27\n",
            "9 * 4 = 36\n",
            "9 * 5 = 45\n",
            "9 * 6 = 54\n",
            "9 * 7 = 63\n",
            "9 * 8 = 72\n",
            "9 * 9 = 81\n",
            "9 * 10 = 90\n"
          ]
        }
      ]
    },
    {
      "cell_type": "markdown",
      "source": [
        "## 4. Acumuladores\n",
        "\n",
        "Um acumulador é uma variável utilizada para acumular a soma de vários valores\n",
        "\n",
        "**Exemplo 3**: Faça um programa que receba um número e mostre a soma de todos os valores entre 1 e o número informado\n"
      ],
      "metadata": {
        "id": "MXJOqv3Ovaiu"
      }
    },
    {
      "cell_type": "code",
      "source": [
        "num = int(input('Informe um número inteiro maior que 0: '))\n",
        "i = 1\n",
        "soma = 0\n",
        "while i <= num:\n",
        "  soma = soma + i #variável acumuladora\n",
        "  i = i + 1\n",
        "print(f'Soma = {soma}')"
      ],
      "metadata": {
        "colab": {
          "base_uri": "https://localhost:8080/"
        },
        "id": "GkkLovFPvaxS",
        "outputId": "7dc0061e-2dab-4cac-ea0d-f55b21c4f5fc"
      },
      "execution_count": null,
      "outputs": [
        {
          "output_type": "stream",
          "name": "stdout",
          "text": [
            "Informe um número inteiro maior que 0: 10\n",
            "Soma = 55\n"
          ]
        }
      ]
    },
    {
      "cell_type": "markdown",
      "source": [
        "## 5. Operadores de atribuição especiais\n",
        "\n",
        "Ao utilizarmos variáveis contadoras e acumuladoras, estamos fazendo uma operação aritmética sobre ela mesma. Nesses casos, podemos usar operadores de atribuição especiais, como mostrado na tabela abaixo:\n",
        "\n",
        "<table>\n",
        "<tr>\n",
        "    <th>Operador</th> \n",
        "    <th>Exemplo</th>\n",
        "    <th>Equivalência</th>\n",
        "</tr>\n",
        "\n",
        "<tr>\n",
        "    <td>+=</td>\n",
        "    <td>x += 1</td>\n",
        "    <td>x = x + 1</td> \n",
        "</tr>\n",
        "\n",
        "<tr>\n",
        "    <td>-=</td> \n",
        "    <td>y -= 1</td> \n",
        "    <td>y = y - 1</td> \n",
        "</tr>\n",
        "\n",
        "<tr>\n",
        "    <td>*=</td> \n",
        "    <td>c *= 2</td> \n",
        "    <td>c = c * 2</td> \n",
        "</tr>\n",
        "\n",
        "<tr>\n",
        "    <td>/=</td> \n",
        "    <td>d /= 2</td> \n",
        "    <td>d = d / 2</td> \n",
        "</tr>\n",
        "\n",
        "\n",
        "<tr>\n",
        "    <td>**=</td> \n",
        "    <td>e **= 2</td> \n",
        "    <td>e = e ** 2</td> \n",
        "</tr>\n",
        "\n",
        "<tr>\n",
        "    <td>//=</td> \n",
        "    <td>f //= 4</td> \n",
        "    <td>f = f // 4</td> \n",
        "</tr>\n",
        " </table>"
      ],
      "metadata": {
        "id": "r13G0qk-w_yY"
      }
    },
    {
      "cell_type": "code",
      "source": [
        "x = 100\n",
        "x += 1\n",
        "print(x)"
      ],
      "metadata": {
        "colab": {
          "base_uri": "https://localhost:8080/"
        },
        "id": "LKJz5o8f9l7B",
        "outputId": "3df03ed8-10b5-4596-96f3-fbf0a351ad93"
      },
      "execution_count": null,
      "outputs": [
        {
          "output_type": "stream",
          "name": "stdout",
          "text": [
            "101\n"
          ]
        }
      ]
    },
    {
      "cell_type": "markdown",
      "source": [
        "## 6. Comando break\n",
        "\n",
        "A estrutura de repetição while só verifica sua condição de parada no início de cada repetição. Dependendo do problema, pode ser útil verificar a condição de encerramento do laço durante sua execução (ao invés de esperar até o início da próxima repetição). Observe o exemplo 4.\n",
        "\n",
        "**Exemplo 4**: Faça um programa que simule uma calculadora. Sua calculadora apresentará ao usuário um menu de opções, como mostrado abaixo e fará a operação sobre 2 números reais recebidos do usuário:\n",
        "\n",
        "1. Soma\n",
        "2. Subtração\n",
        "3. Multiplicação\n",
        "4. Divisão\n",
        "5. Sair"
      ],
      "metadata": {
        "id": "XfAIAz5e6tQ6"
      }
    },
    {
      "cell_type": "markdown",
      "source": [
        "**Solução sem break**"
      ],
      "metadata": {
        "id": "hE3yGG5QzK_8"
      }
    },
    {
      "cell_type": "code",
      "source": [
        "op = 1\n",
        "while op != 5:\n",
        "  op = int(input('Escolha uma operação\\n1-Soma\\n2-Subtração\\n3-Multiplicação\\n4-Divisão\\n5-Sair\\n'))\n",
        "  x = float(input('Informe o primeiro número: '))\n",
        "  y = float(input('Informe o segundo número: '))\n",
        "  if op == 1:\n",
        "    print(f'{x} + {y} = {x+y}\\n')\n",
        "  elif op == 2:\n",
        "    print(f'{x} - {y} = {x-y}\\n')\n",
        "  elif op == 3:\n",
        "    print(f'{x} * {y} = {x*y}\\n')\n",
        "  elif op == 4:\n",
        "    print(f'{x} / {y} = {x/y}\\n')"
      ],
      "metadata": {
        "colab": {
          "base_uri": "https://localhost:8080/"
        },
        "id": "V8tr5glS72_6",
        "outputId": "1af493e3-34e8-4e8f-e831-e7c389a06fee"
      },
      "execution_count": null,
      "outputs": [
        {
          "name": "stdout",
          "output_type": "stream",
          "text": [
            "Escolha uma operação\n",
            "1-Soma\n",
            "2-Subtração\n",
            "3-Multiplicação\n",
            "4-Divisão\n",
            "5-Sair\n",
            "1\n",
            "Informe o primeiro número: 5\n",
            "Informe o segundo número: 89\n",
            "5.0 + 89.0 = 94.0\n",
            "\n",
            "Escolha uma operação\n",
            "1-Soma\n",
            "2-Subtração\n",
            "3-Multiplicação\n",
            "4-Divisão\n",
            "5-Sair\n",
            "5\n",
            "Informe o primeiro número: 0\n",
            "Informe o segundo número: 0\n"
          ]
        }
      ]
    },
    {
      "cell_type": "markdown",
      "source": [
        "Observe que essa solução não é boa, pois quando o usuário pede para sair, o programa ainda pede os 2 números de entrada\n",
        "\n",
        "Podemos ajustar essa solução para que após a entrada da opção, façamos o teste para encerrar o laço\n",
        "\n",
        "> **Nesse caso, vamos usar o comando break para seu encerramento**"
      ],
      "metadata": {
        "id": "o_EMcK00z8sJ"
      }
    },
    {
      "cell_type": "code",
      "source": [
        "while True: #fazemos um \"laço infinito\" aqui\n",
        "  op = int(input('Escolha uma operação\\n1-Soma\\n2-Subtração\\n3-Multiplicação\\n4-Divisão\\n5-Sair\\n'))\n",
        "  if op == 5: #testamos aqui\n",
        "    break #encerra o laço\n",
        "  x = float(input('Informe o primeiro número: '))\n",
        "  y = float(input('Informe o segundo número: '))\n",
        "  if op == 1:\n",
        "    print(f'{x} + {y} = {x+y}\\n')\n",
        "  elif op == 2:\n",
        "    print(f'{x} - {y} = {x-y}\\n')\n",
        "  elif op == 3:\n",
        "    print(f'{x} * {y} = {x*y}\\n')\n",
        "  elif op == 4:\n",
        "    print(f'{x} / {y} = {x/y}\\n')\n"
      ],
      "metadata": {
        "colab": {
          "base_uri": "https://localhost:8080/"
        },
        "id": "nVPNLCt-0NJu",
        "outputId": "d2797d18-c528-47b9-c700-d06a65f9f545"
      },
      "execution_count": null,
      "outputs": [
        {
          "name": "stdout",
          "output_type": "stream",
          "text": [
            "Escolha uma operação\n",
            "1-Soma\n",
            "2-Subtração\n",
            "3-Multiplicação\n",
            "4-Divisão\n",
            "5-Sair\n",
            "2\n",
            "Informe o primeiro número: 125\n",
            "Informe o segundo número: 654\n",
            "125.0 - 654.0 = -529.0\n",
            "\n",
            "Escolha uma operação\n",
            "1-Soma\n",
            "2-Subtração\n",
            "3-Multiplicação\n",
            "4-Divisão\n",
            "5-Sair\n",
            "5\n"
          ]
        }
      ]
    },
    {
      "cell_type": "markdown",
      "source": [
        "## 7. Comando continue\n",
        "\n",
        "**Exemplo 5**: Faça um programa que receba um número e mostre a soma de todos os valores entre 1 e o número, mas não some o valor 5!"
      ],
      "metadata": {
        "id": "QZYKZFj20xNp"
      }
    },
    {
      "cell_type": "code",
      "source": [
        "num = int(input('Informe um número inteiro maior que 0: '))\n",
        "i = 0\n",
        "soma = 0\n",
        "while i < num:\n",
        "  i = i + 1 #ou i += 1\n",
        "  if i == 5:\n",
        "    continue #volta para o início do laço\n",
        "  soma = soma + i #ou soma += i\n",
        "print(f'Soma sem o 5 = {soma}')"
      ],
      "metadata": {
        "colab": {
          "base_uri": "https://localhost:8080/"
        },
        "id": "LF6mRjQB09Xb",
        "outputId": "9ead91dd-4c8f-4f47-a08c-de9ee7eb02dd"
      },
      "execution_count": null,
      "outputs": [
        {
          "output_type": "stream",
          "name": "stdout",
          "text": [
            "Informe um número inteiro maior que 0: 10\n",
            "Soma sem o 5 = 50\n"
          ]
        }
      ]
    },
    {
      "cell_type": "markdown",
      "source": [
        "## 8. Repetições aninhadas\n",
        "\n",
        "Podemos combinar várias estruturas de repetição, como no exemplo abaixo\n",
        "\n",
        "**Exemplo 6**: Faça um programa que imprima a tabuada de multiplicação (0 a 10) de todos os números de 2 a 9"
      ],
      "metadata": {
        "id": "fetWQ98D3s__"
      }
    },
    {
      "cell_type": "code",
      "source": [
        "num = 2\n",
        "while num <= 9:\n",
        "  print(f'\\nTabuada de {num}')\n",
        "  x = 1\n",
        "  while x <= 10:\n",
        "    print(f'{num} * {x} = {num * x}')\n",
        "    x = x + 1\n",
        "  num = num + 1"
      ],
      "metadata": {
        "colab": {
          "base_uri": "https://localhost:8080/"
        },
        "id": "DIvLS6jH3tK6",
        "outputId": "642f7f20-917d-4ed4-818d-e5ea3d5e396b"
      },
      "execution_count": null,
      "outputs": [
        {
          "output_type": "stream",
          "name": "stdout",
          "text": [
            "\n",
            "Tabuada de 2\n",
            "2 * 1 = 2\n",
            "2 * 2 = 4\n",
            "2 * 3 = 6\n",
            "2 * 4 = 8\n",
            "2 * 5 = 10\n",
            "2 * 6 = 12\n",
            "2 * 7 = 14\n",
            "2 * 8 = 16\n",
            "2 * 9 = 18\n",
            "2 * 10 = 20\n",
            "\n",
            "Tabuada de 3\n",
            "3 * 1 = 3\n",
            "3 * 2 = 6\n",
            "3 * 3 = 9\n",
            "3 * 4 = 12\n",
            "3 * 5 = 15\n",
            "3 * 6 = 18\n",
            "3 * 7 = 21\n",
            "3 * 8 = 24\n",
            "3 * 9 = 27\n",
            "3 * 10 = 30\n",
            "\n",
            "Tabuada de 4\n",
            "4 * 1 = 4\n",
            "4 * 2 = 8\n",
            "4 * 3 = 12\n",
            "4 * 4 = 16\n",
            "4 * 5 = 20\n",
            "4 * 6 = 24\n",
            "4 * 7 = 28\n",
            "4 * 8 = 32\n",
            "4 * 9 = 36\n",
            "4 * 10 = 40\n",
            "\n",
            "Tabuada de 5\n",
            "5 * 1 = 5\n",
            "5 * 2 = 10\n",
            "5 * 3 = 15\n",
            "5 * 4 = 20\n",
            "5 * 5 = 25\n",
            "5 * 6 = 30\n",
            "5 * 7 = 35\n",
            "5 * 8 = 40\n",
            "5 * 9 = 45\n",
            "5 * 10 = 50\n",
            "\n",
            "Tabuada de 6\n",
            "6 * 1 = 6\n",
            "6 * 2 = 12\n",
            "6 * 3 = 18\n",
            "6 * 4 = 24\n",
            "6 * 5 = 30\n",
            "6 * 6 = 36\n",
            "6 * 7 = 42\n",
            "6 * 8 = 48\n",
            "6 * 9 = 54\n",
            "6 * 10 = 60\n",
            "\n",
            "Tabuada de 7\n",
            "7 * 1 = 7\n",
            "7 * 2 = 14\n",
            "7 * 3 = 21\n",
            "7 * 4 = 28\n",
            "7 * 5 = 35\n",
            "7 * 6 = 42\n",
            "7 * 7 = 49\n",
            "7 * 8 = 56\n",
            "7 * 9 = 63\n",
            "7 * 10 = 70\n",
            "\n",
            "Tabuada de 8\n",
            "8 * 1 = 8\n",
            "8 * 2 = 16\n",
            "8 * 3 = 24\n",
            "8 * 4 = 32\n",
            "8 * 5 = 40\n",
            "8 * 6 = 48\n",
            "8 * 7 = 56\n",
            "8 * 8 = 64\n",
            "8 * 9 = 72\n",
            "8 * 10 = 80\n",
            "\n",
            "Tabuada de 9\n",
            "9 * 1 = 9\n",
            "9 * 2 = 18\n",
            "9 * 3 = 27\n",
            "9 * 4 = 36\n",
            "9 * 5 = 45\n",
            "9 * 6 = 54\n",
            "9 * 7 = 63\n",
            "9 * 8 = 72\n",
            "9 * 9 = 81\n",
            "9 * 10 = 90\n"
          ]
        }
      ]
    },
    {
      "cell_type": "markdown",
      "source": [
        "## 9. Exercícios\n",
        "\n",
        "\n",
        "---\n"
      ],
      "metadata": {
        "id": "id_GSdR37zXF"
      }
    },
    {
      "cell_type": "markdown",
      "source": [
        "1. Faça um programa que receba um número inteiro positivo do usuário e mostre todos os **números pares entre 1 e o número informado**:"
      ],
      "metadata": {
        "id": "0RjNv386-lhy"
      }
    },
    {
      "cell_type": "code",
      "source": [
        "#seu código aqui\n",
        "\n"
      ],
      "metadata": {
        "colab": {
          "base_uri": "https://localhost:8080/"
        },
        "id": "0DNex_OC72K9",
        "outputId": "8c8d8242-b7fb-4843-d90f-6577c7e9dd45"
      },
      "execution_count": null,
      "outputs": [
        {
          "output_type": "stream",
          "name": "stdout",
          "text": [
            "Informe um número inteiro positivo: 10\n",
            "2\n",
            "4\n",
            "6\n",
            "8\n",
            "10\n"
          ]
        }
      ]
    },
    {
      "cell_type": "markdown",
      "source": [
        "2. Faça um programa que receba um número inteiro positivo e **mostre todos os seus divisores**:"
      ],
      "metadata": {
        "id": "n5KpKAbX_Awy"
      }
    },
    {
      "cell_type": "code",
      "source": [
        "#seu código aqui\n",
        "\n"
      ],
      "metadata": {
        "colab": {
          "base_uri": "https://localhost:8080/"
        },
        "id": "TR8sImfa_N8e",
        "outputId": "ec59e96d-66a0-414b-f120-2c647a1a8d75"
      },
      "execution_count": null,
      "outputs": [
        {
          "output_type": "stream",
          "name": "stdout",
          "text": [
            "Informe um número inteiro positivo: 10\n",
            "1\n",
            "2\n",
            "5\n",
            "10\n"
          ]
        }
      ]
    },
    {
      "cell_type": "markdown",
      "source": [
        "3. Escreva um programa que leia 2 números inteiros positivos e mostre a multiplicação entre eles, mas usando apenas o operador soma (+). Exemplo: 2 * 3 = 2 + 2 + 2"
      ],
      "metadata": {
        "id": "ZykjuYc1_One"
      }
    },
    {
      "cell_type": "code",
      "source": [
        "#seu código aqui\n",
        "\n"
      ],
      "metadata": {
        "colab": {
          "base_uri": "https://localhost:8080/"
        },
        "id": "-wzFaHhD_q6s",
        "outputId": "36059803-e486-46c4-da39-184deb8e4e8e"
      },
      "execution_count": null,
      "outputs": [
        {
          "output_type": "stream",
          "name": "stdout",
          "text": [
            "Informe o primeiro número inteiro positivo: 2\n",
            "Informe o segundi número inteiro positivo: 3\n",
            "2 * 3 = 6\n"
          ]
        }
      ]
    },
    {
      "cell_type": "markdown",
      "source": [
        "4. Escreva um programa que pergunte o depósito inicial e a taxa de juros de uma poupança (exemplo: 0.005) e mostre o valor da poupança a cada mês durante um ano."
      ],
      "metadata": {
        "id": "IZeEYdRX_rzJ"
      }
    },
    {
      "cell_type": "code",
      "source": [
        "#seu código aqui\n",
        "\n"
      ],
      "metadata": {
        "colab": {
          "base_uri": "https://localhost:8080/"
        },
        "id": "6xOx58al_q7x",
        "outputId": "c807ba98-f279-469d-8aba-d7b12832e533"
      },
      "execution_count": null,
      "outputs": [
        {
          "output_type": "stream",
          "name": "stdout",
          "text": [
            "Informe o valor do depósito: 100\n",
            "Informe a taxa de juros mensal: 0.005\n",
            "mes 1 = 100.50\n",
            "mes 2 = 101.00\n",
            "mes 3 = 101.51\n",
            "mes 4 = 102.02\n",
            "mes 5 = 102.53\n",
            "mes 6 = 103.04\n",
            "mes 7 = 103.55\n",
            "mes 8 = 104.07\n",
            "mes 9 = 104.59\n",
            "mes 10 = 105.11\n",
            "mes 11 = 105.64\n",
            "mes 12 = 106.17\n"
          ]
        }
      ]
    },
    {
      "cell_type": "markdown",
      "source": [
        "5. Faça um programa que leia números inteiros até receber um 0. Mostre a soma de todos os números e a média aritmética."
      ],
      "metadata": {
        "id": "a4AtKdlrBJed"
      }
    },
    {
      "cell_type": "code",
      "source": [
        "#seu código aqui\n",
        "\n"
      ],
      "metadata": {
        "colab": {
          "base_uri": "https://localhost:8080/"
        },
        "id": "mWnXd69qBJ5_",
        "outputId": "a049bd6d-b0fa-4cac-c2b3-9075d1a38f78"
      },
      "execution_count": null,
      "outputs": [
        {
          "output_type": "stream",
          "name": "stdout",
          "text": [
            "Informe um número: 10\n",
            "Informe um número: 20\n",
            "Informe um número: 30\n",
            "Informe um número: 0\n",
            "Soma = 60\n",
            "Média = 20.0\n"
          ]
        }
      ]
    }
  ]
}
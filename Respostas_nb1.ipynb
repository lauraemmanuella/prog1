{
  "nbformat": 4,
  "nbformat_minor": 0,
  "metadata": {
    "colab": {
      "name": "Respostas_nb1.ipynb",
      "provenance": [],
      "collapsed_sections": [],
      "authorship_tag": "ABX9TyMz6bMQOQGEaCCiBxAciryg",
      "include_colab_link": true
    },
    "kernelspec": {
      "name": "python3",
      "display_name": "Python 3"
    },
    "language_info": {
      "name": "python"
    }
  },
  "cells": [
    {
      "cell_type": "markdown",
      "metadata": {
        "id": "view-in-github",
        "colab_type": "text"
      },
      "source": [
        "<a href=\"https://colab.research.google.com/github/lauraemmanuella/prog1/blob/main/Respostas_nb1.ipynb\" target=\"_parent\"><img src=\"https://colab.research.google.com/assets/colab-badge.svg\" alt=\"Open In Colab\"/></a>"
      ]
    },
    {
      "cell_type": "markdown",
      "source": [
        "##Exercícios Sequencial\n",
        "\n",
        "\n",
        "---\n",
        "\n",
        "\n",
        "\n"
      ],
      "metadata": {
        "id": "n4HYqXGrFsN4"
      }
    },
    {
      "cell_type": "markdown",
      "source": [
        "1. Escreva um código que faça a conversão de um valor recebido em metros para centímetros e milímetros:"
      ],
      "metadata": {
        "id": "xt62tYrz4K0f"
      }
    },
    {
      "cell_type": "code",
      "source": [
        "metros = float(input('Informe o valor metros:'))\n",
        "\n",
        "cent = metros * 100\n",
        "mili = metros * 1000\n",
        "\n",
        "print(f'{metros} m = {cent} cm = {mili} mm') #Usando F-String \n"
      ],
      "metadata": {
        "colab": {
          "base_uri": "https://localhost:8080/"
        },
        "id": "eN8cGtS75dRA",
        "outputId": "a7223d2d-428d-4354-db78-4483a5a672ac"
      },
      "execution_count": null,
      "outputs": [
        {
          "output_type": "stream",
          "name": "stdout",
          "text": [
            "Informe o valor metros:1.55\n",
            "1.55 m = 155.0 cm = 1550.0 mm\n"
          ]
        }
      ]
    },
    {
      "cell_type": "code",
      "source": [
        "#outra forma de fazer o print, usando format\n",
        "\n",
        "metros = float(input('Informe o valor metros:'))\n",
        "\n",
        "cent = metros * 100\n",
        "mili = metros * 1000\n",
        "\n",
        "print('{} m = {} cm = {} mm'.format(metros, cent, mili)) #Usando Format"
      ],
      "metadata": {
        "colab": {
          "base_uri": "https://localhost:8080/"
        },
        "id": "qPW3Lv62Yvsf",
        "outputId": "38fd7f80-1814-4273-9666-b58d9808137c"
      },
      "execution_count": null,
      "outputs": [
        {
          "output_type": "stream",
          "name": "stdout",
          "text": [
            "Informe o valor metros:3.6\n",
            "3.6 m = 360.0 cm = 3600.0 mm\n"
          ]
        }
      ]
    },
    {
      "cell_type": "code",
      "source": [
        "#outra forma de fazer o print\n",
        "\n",
        "metros = float(input('Informe o valor metros:'))\n",
        "\n",
        "cent = metros * 100\n",
        "mili = metros * 1000\n",
        "\n",
        "print(metros, 'm =', cent, 'cm =', mili, 'mm') #Usado em interpretadores Python com versões mais antigas"
      ],
      "metadata": {
        "colab": {
          "base_uri": "https://localhost:8080/"
        },
        "id": "JBleBj2rZHWg",
        "outputId": "e82b8de4-dae2-4d67-d934-c6327b00790f"
      },
      "execution_count": null,
      "outputs": [
        {
          "output_type": "stream",
          "name": "stdout",
          "text": [
            "Informe o valor metros:8.9\n",
            "8.9 m = 890.0 cm = 8900.0 mm\n"
          ]
        }
      ]
    },
    {
      "cell_type": "markdown",
      "source": [
        "2. Escreva uma expressão que será utilizada para decidir se um aluno foi ou não aprovado. Para ser aprovado, todas as médias do aluno devem ser maiores ou iguais a 5. Considere que o aluno cursa apenas três disciplinas e que a média de cada uma será armazenada nas variáveis: media1, media2 e media3. Receba as médias como entrada e mostre se aprovado é` True ou False`:"
      ],
      "metadata": {
        "id": "_CSiBlS92nEh"
      }
    },
    {
      "cell_type": "code",
      "source": [
        "media1 = float(input('Informe a média da disciplina 1:'))\n",
        "media2 = float(input('Informe a média da disciplina 2:'))\n",
        "media3 = float(input('Informe a média da disciplina 3:'))\n",
        "\n",
        "aprovado = media1 >=5 and media2 >= 5 and media3 >=5\n",
        "\n",
        "print(f'Aprovado: {aprovado}')"
      ],
      "metadata": {
        "colab": {
          "base_uri": "https://localhost:8080/"
        },
        "id": "T0wwawO33D3r",
        "outputId": "a04fdbb2-54a5-42dd-b009-bb27da4d9da0"
      },
      "execution_count": null,
      "outputs": [
        {
          "output_type": "stream",
          "name": "stdout",
          "text": [
            "Informe a média da disciplina 1:5.5\n",
            "Informe a média da disciplina 2:6\n",
            "Informe a média da disciplina 3:7\n",
            "Aprovado: True\n"
          ]
        }
      ]
    },
    {
      "cell_type": "markdown",
      "source": [
        "3. Escreva uma expressão que será utilizada para decidir se um aluno foi ou não aprovado em uma disciplina. Para ser aprovado, a média do aluno deve ser maior ou igual a 7, ou a média deve ser maior ou igual a 5 e o percentual de faltas menor que 50%. Receba a média e o percentual de faltas como entrada e mostre se aprovado é `True ou False`:"
      ],
      "metadata": {
        "id": "mqe7z9Sf8htK"
      }
    },
    {
      "cell_type": "code",
      "source": [
        "media = float(input('Informe a média na disciplina:'))\n",
        "faltas = float(input('Informe o percentual de faltas na disciplina:'))\n",
        "\n",
        "aprovado = media >=7 or (media >=5 and faltas < 0.5)\n",
        "\n",
        "print(f'Aprovado: {aprovado}')"
      ],
      "metadata": {
        "colab": {
          "base_uri": "https://localhost:8080/"
        },
        "id": "3PV0Zr0t8iHz",
        "outputId": "bde65d34-280f-49f9-8e5d-a8f80ffd5db9"
      },
      "execution_count": null,
      "outputs": [
        {
          "output_type": "stream",
          "name": "stdout",
          "text": [
            "Informe a média na disciplina:4\n",
            "Informe o percentual de faltas na disciplina:0\n",
            "Aprovado: False\n"
          ]
        }
      ]
    },
    {
      "cell_type": "markdown",
      "source": [
        "4. Escreva um algoritmo que calcule o salário líquido de um professor. Receba como entrada o valor da hora aula, número de horas trabalhadas no mês e percentual de desconto do INSS. O salário líquido será o salário bruto menos o percentual de desconto: "
      ],
      "metadata": {
        "id": "IoRpeWmAACC8"
      }
    },
    {
      "cell_type": "code",
      "source": [
        "hora_aula = float(input('Informe o valor da hora aula:'))\n",
        "num_horas = float(input('Informe o número de horas trabalhadas no mês:'))\n",
        "perc_desc = float(input('Informe percentual de desconto do INSS:'))\n",
        "\n",
        "sal_bruto = hora_aula * num_horas\n",
        "sal_liquido = sal_bruto * (1 - perc_desc)\n",
        "\n",
        "print(f'Salário líquido: {sal_liquido}')"
      ],
      "metadata": {
        "colab": {
          "base_uri": "https://localhost:8080/"
        },
        "id": "IzFvzXCjACPs",
        "outputId": "94d1c546-026a-4ab4-a262-9337ff531ab7"
      },
      "execution_count": null,
      "outputs": [
        {
          "output_type": "stream",
          "name": "stdout",
          "text": [
            "Informe o valor da hora aula:100\n",
            "Informe o número de horas trabalhadas no mês:32\n",
            "Informe percentual de desconto do INSS:0.08\n",
            "Salário líquido: 2944.0\n"
          ]
        }
      ]
    },
    {
      "cell_type": "markdown",
      "source": [
        "\n",
        "5. Escreva um programa que receba um número inteiro maior que zero e mostre o número digitado ao quadrado e o número digitado ao cubo:\n",
        "\n",
        "\n",
        "\n"
      ],
      "metadata": {
        "id": "R5Zsm96la0I9"
      }
    },
    {
      "cell_type": "code",
      "source": [
        "num = int(input('Informe um número inteiro maior que zero: '))\n",
        "\n",
        "quad = num ** 2\n",
        "cub = num ** 3\n",
        "\n",
        "print(f'Quadrado de {num} = {quad}')\n",
        "print(f'Cubo de {num} = {cub}')"
      ],
      "metadata": {
        "colab": {
          "base_uri": "https://localhost:8080/"
        },
        "id": "P4TzBs3Za0T4",
        "outputId": "7724981c-3e13-46ef-fe37-fd02d83aced4"
      },
      "execution_count": null,
      "outputs": [
        {
          "output_type": "stream",
          "name": "stdout",
          "text": [
            "Informe um número inteiro maior que zero: 5\n",
            "Quadrado de 5 = 25\n",
            "Cubo de 5 = 125\n"
          ]
        }
      ]
    },
    {
      "cell_type": "markdown",
      "source": [
        "6. Faça um programa que receba uma temperatura em graus Celsius e mostre seu valor em graus Fahrenheit, sabendo que` F = C*1.8 + 32`"
      ],
      "metadata": {
        "id": "Tvn25lEncOen"
      }
    },
    {
      "cell_type": "code",
      "source": [
        "celsius = float(input('Informe o valor da temperatura em graus Celsius: '))\n",
        "\n",
        "far = celsius * 1.8 + 32\n",
        "\n",
        "print(f'{celsius} graus Celsius = {far} graus Fahrenheit')\n"
      ],
      "metadata": {
        "colab": {
          "base_uri": "https://localhost:8080/"
        },
        "id": "A1uoS35-cOs7",
        "outputId": "1b8d8fb6-9f84-41ff-be63-6c5af63e7c45"
      },
      "execution_count": null,
      "outputs": [
        {
          "output_type": "stream",
          "name": "stdout",
          "text": [
            "Informe o valor da temperatura em graus Celsius: 30\n",
            "30.0 graus Celsius = 86.0 graus Fahrenheit\n"
          ]
        }
      ]
    },
    {
      "cell_type": "markdown",
      "source": [
        "7. Elabore um programa que calcule o volume de uma caixa retangular, utilizando a fórmula: `volume = comprimento * largura * altura`\n",
        "Receba os valores em centímetros e mostre em mililitros, sabendo que `1 cm3 = 1 ml`"
      ],
      "metadata": {
        "id": "B_1LFL-pfpgx"
      }
    },
    {
      "cell_type": "code",
      "source": [
        "c = float(input('Informe o comprimento da caixa (cm):'))\n",
        "l = float(input('Informe a largura da caixa (cm):'))\n",
        "a = float(input('Informe a altura da caixa (cm):'))\n",
        "\n",
        "volume = c * l * a\n",
        "\n",
        "print(f'O volume da caixa é: {volume} ml')"
      ],
      "metadata": {
        "colab": {
          "base_uri": "https://localhost:8080/"
        },
        "id": "jo99IBqHf3ho",
        "outputId": "188f036b-eb3f-4742-f81c-cab390232ecf"
      },
      "execution_count": null,
      "outputs": [
        {
          "output_type": "stream",
          "name": "stdout",
          "text": [
            "Informe o comprimento da caixa (cm):10\n",
            "Informe a largura da caixa (cm):40\n",
            "Informe a altura da caixa (cm):2\n",
            "O volume da caixa é: 800.0 ml\n"
          ]
        }
      ]
    },
    {
      "cell_type": "markdown",
      "source": [
        "8. Faça um programa que apresente o valor da conversão em real de um valor lido em dólar. O programa deve pedir ao usuário a cotação do dólar."
      ],
      "metadata": {
        "id": "690QK9OshGKD"
      }
    },
    {
      "cell_type": "code",
      "source": [
        "d = float(input('Informe o valor em dólar:'))\n",
        "c = float(input('Informe a cotação do dólar:'))\n",
        "\n",
        "r = d * c\n",
        "\n",
        "print(f'{d} dólares = {r} reais')"
      ],
      "metadata": {
        "colab": {
          "base_uri": "https://localhost:8080/"
        },
        "id": "zTOPBnO_hFtc",
        "outputId": "70839f0a-4d33-4341-e261-3caa769816de"
      },
      "execution_count": null,
      "outputs": [
        {
          "output_type": "stream",
          "name": "stdout",
          "text": [
            "Informe o valor em dólar:5\n",
            "Informe a cotação do dólar:5\n",
            "5.0 dólares = 25.0 reais\n"
          ]
        }
      ]
    },
    {
      "cell_type": "markdown",
      "source": [
        "9. Faça um programa que leia 2 números do usuário e mostre o resultados das seguintes operações aritméticas:\n",
        "* +\n",
        "* -\n",
        "* *\n",
        "* /\n",
        "* //\n",
        "* %"
      ],
      "metadata": {
        "id": "MRsZSJR-PPbb"
      }
    },
    {
      "cell_type": "code",
      "source": [
        "x = float(input('Informe o valor do primeiro número:'))\n",
        "y = float(input('Informe o valor do segundo número:'))\n",
        "\n",
        "soma = x + y\n",
        "sub = x - y\n",
        "mult = x * y\n",
        "div = x / y\n",
        "div_int = x //y\n",
        "resto = x % y\n",
        "\n",
        "\n",
        "print(f'{x} + {y} = {soma}')\n",
        "print(f'{x} - {y} = {sub}')\n",
        "print(f'{x} * {y} = {mult}')\n",
        "print(f'{x} / {y} = {div}')\n",
        "print(f'{x} // {y} = {div_int}')\n",
        "print(f'{x} % {y} = {resto}')\n"
      ],
      "metadata": {
        "colab": {
          "base_uri": "https://localhost:8080/"
        },
        "id": "TQhozde4PPm4",
        "outputId": "b921e434-151d-4e46-b71d-54b623929164"
      },
      "execution_count": null,
      "outputs": [
        {
          "output_type": "stream",
          "name": "stdout",
          "text": [
            "Informe o valor do primeiro número:9\n",
            "Informe o valor do segundo número:2\n",
            "9.0 + 2.0 = 11.0\n",
            "9.0 - 2.0 = 7.0\n",
            "9.0 * 2.0 = 18.0\n",
            "9.0 / 2.0 = 4.5\n",
            "9.0 // 2.0 = 4.0\n",
            "9.0 % 2.0 = 1.0\n"
          ]
        }
      ]
    },
    {
      "cell_type": "markdown",
      "source": [
        "10. Leia dois números inteiros e apresente o resultado do quadrado da divisão do primeiro pelo segundo:"
      ],
      "metadata": {
        "id": "yvdWtQ3bPPzH"
      }
    },
    {
      "cell_type": "code",
      "source": [
        "a = float(input('Informe o primeiro número:'))\n",
        "b = float(input('Informe o segundo número:'))\n",
        "\n",
        "y = (a/b) ** 2\n",
        "\n",
        "print(f'({a}/{b}) ** 2 = {y}')"
      ],
      "metadata": {
        "colab": {
          "base_uri": "https://localhost:8080/"
        },
        "id": "GKvc_NkrPP72",
        "outputId": "2aa0a9c1-23b6-4fd0-c928-09b9bd6f6e44"
      },
      "execution_count": null,
      "outputs": [
        {
          "output_type": "stream",
          "name": "stdout",
          "text": [
            "Informe o primeiro número:8\n",
            "Informe o segundo número:2\n",
            "(8.0/2.0) ** 2 = 16.0\n"
          ]
        }
      ]
    }
  ]
}
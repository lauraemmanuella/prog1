{
  "nbformat": 4,
  "nbformat_minor": 0,
  "metadata": {
    "colab": {
      "name": "prova1-A-Respostas.ipynb",
      "provenance": [],
      "collapsed_sections": [],
      "authorship_tag": "ABX9TyOxNKnbY4pL+KzOBtc8dyHJ",
      "include_colab_link": true
    },
    "kernelspec": {
      "name": "python3",
      "display_name": "Python 3"
    },
    "language_info": {
      "name": "python"
    }
  },
  "cells": [
    {
      "cell_type": "markdown",
      "metadata": {
        "id": "view-in-github",
        "colab_type": "text"
      },
      "source": [
        "<a href=\"https://colab.research.google.com/github/lauraemmanuella/prog1/blob/main/prova1_A_Respostas.ipynb\" target=\"_parent\"><img src=\"https://colab.research.google.com/assets/colab-badge.svg\" alt=\"Open In Colab\"/></a>"
      ]
    },
    {
      "cell_type": "markdown",
      "source": [
        "# Prova 1A \n",
        "\n",
        "> Programação Computacional I - 2022.1"
      ],
      "metadata": {
        "id": "wWUI-KiLrJwh"
      }
    },
    {
      "cell_type": "markdown",
      "source": [
        "**Questão 1:** Faça um programa que receba do usuário um número inteiro positivo e mostre o fatorial desse número. \n",
        "\n",
        "> O fatorial de um número n, representado por n!, é a multiplicação de n por seus antecessores maiores ou iguais a 1. Exemplo: `Fatorial de 5 = 5 * 4 * 3 * 2 * 1 = 120`"
      ],
      "metadata": {
        "id": "tZ9dstnI10Ds"
      }
    },
    {
      "cell_type": "code",
      "execution_count": null,
      "metadata": {
        "colab": {
          "base_uri": "https://localhost:8080/"
        },
        "id": "0jimbGrfa0Bi",
        "outputId": "c07e9b40-2db5-44ff-f019-ac20b1b282f6"
      },
      "outputs": [
        {
          "output_type": "stream",
          "name": "stdout",
          "text": [
            "Informe um número inteiro para o cálculo do fatorial: 5\n",
            "Fatorial de 5 é 120\n"
          ]
        }
      ],
      "source": [
        "num = int(input('Informe um número inteiro para o cálculo do fatorial: '))\n",
        "i = 1\n",
        "fat = 1\n",
        "while i <= num:\n",
        "  fat = fat * i\n",
        "  i = i + 1\n",
        "print(f'Fatorial de {num} é {fat}')\n",
        "#Exemplo de execução"
      ]
    },
    {
      "cell_type": "markdown",
      "source": [
        "**Questão 2:** Faça um programa que receba números inteiros como entrada até receber um número negativo. O programa deverá mostrar como saída a quantidade de números positivos lidos e o maior número lido."
      ],
      "metadata": {
        "id": "AtyHeMSJDapa"
      }
    },
    {
      "cell_type": "code",
      "source": [
        "i = 0\n",
        "while True:\n",
        "  num = int(input('Informe um número inteiro positivo: '))\n",
        "  if num < 0:\n",
        "    break\n",
        "  if i == 0 or num > maior:\n",
        "    maior = num\n",
        "  i += 1\n",
        "\n",
        "print(f'Foram lidos {i} números positivos. O maior valor lido foi: {maior}')\n",
        "#Exemplo de execução"
      ],
      "metadata": {
        "colab": {
          "base_uri": "https://localhost:8080/"
        },
        "id": "PXUxPaUAdkpG",
        "outputId": "67a8ab99-ce34-4e0d-c01e-fedd7ac3fb7f"
      },
      "execution_count": null,
      "outputs": [
        {
          "output_type": "stream",
          "name": "stdout",
          "text": [
            "Informe um número inteiro positivo: 5\n",
            "Informe um número inteiro positivo: 7\n",
            "Informe um número inteiro positivo: 98\n",
            "Informe um número inteiro positivo: 1\n",
            "Informe um número inteiro positivo: -1\n",
            "Foram lidos 4 números. O maior valor lido foi: 98\n"
          ]
        }
      ]
    },
    {
      "cell_type": "markdown",
      "source": [
        "**Questão 3:** Faça um programa que receba `n` notas de `x` alunos, e para cada aluno mostre sua média. Ao final da execução o programa deverá mostrar a média de todos os alunos, conforme exemplo de execução abaixo.\n",
        "\n",
        "> OBS: Para mostrar o contator no input, basta usar o F-String igual no print. Exemplo: \n",
        "\n",
        "`qtdNotas = int(input(f'\\nInforme a quantidade de notas do aluno {i}: '))`"
      ],
      "metadata": {
        "id": "oNMYcEwLnb7P"
      }
    },
    {
      "cell_type": "code",
      "source": [
        "qtdAlunos = int(input('Informe a quantidade de alunos: '))\n",
        "\n",
        "i = 1\n",
        "mediaTotal = 0\n",
        "while i <= qtdAlunos:\n",
        "  qtdNotas = int(input(f'\\nInforme a quantidade de notas do aluno {i}: '))\n",
        "  j = 1\n",
        "  media = 0\n",
        "  while j <= qtdNotas:\n",
        "    nota = float(input(f'Informe a nota {j}: '))\n",
        "    media = media + nota\n",
        "    j += 1\n",
        "  media = media / qtdNotas\n",
        "  print(f'Média do aluno: {media:.2f}') \n",
        "  mediaTotal = mediaTotal + media\n",
        "  i += 1\n",
        "mediaTotal = mediaTotal / qtdAlunos\n",
        "print(f'\\nMédia total: {mediaTotal:.2f}') \n",
        "#Exemplo de execução"
      ],
      "metadata": {
        "colab": {
          "base_uri": "https://localhost:8080/"
        },
        "id": "Si00xVbbnbnM",
        "outputId": "052d2702-221d-4434-f62b-c2ef23fd2b0c"
      },
      "execution_count": null,
      "outputs": [
        {
          "output_type": "stream",
          "name": "stdout",
          "text": [
            "Informe a quantidade de alunos: 2\n",
            "\n",
            "Informe a quantidade de notas do aluno 1: 3\n",
            "Informe a nota 1: 10\n",
            "Informe a nota 2: 9\n",
            "Informe a nota 3: 9\n",
            "Média do aluno: 9.33\n",
            "\n",
            "Informe a quantidade de notas do aluno 2: 2\n",
            "Informe a nota 1: 6\n",
            "Informe a nota 2: 5\n",
            "Média do aluno: 5.50\n",
            "\n",
            "Média total: 7.42\n"
          ]
        }
      ]
    },
    {
      "cell_type": "markdown",
      "source": [
        "**Questão 4: Jogo de adivinhação.** Seu programa deve gerar um número aleatório (*segue abaixo o código necessário*) e pedir ao usuário que ele tente adivinhar o número sorteado até que ele consiga acertar. \n",
        "\n",
        "Se o número que o usuário informar for maior que o número sorteado, mostre a mensagem `\"Tente um número menor\"`, se o número informado for menor, mostre a mensagem `\"Tente um número maior\"` e quando ele acertar mostre a mensagem `\"Você acertou\"`. \n",
        "\n",
        "> Caso, o usuário demore mais que 5 tentativas para acertar, mostre **também** uma mensagem `\"Até que enfim!\"` e se ele acertar com até 3 tentativas, mostre a mensagem `\"Uau! Você é muito bom\"`. Segue exemplo de execução."
      ],
      "metadata": {
        "id": "nlmS11qFEw35"
      }
    },
    {
      "cell_type": "code",
      "source": [
        "import random #módulo Python para geração de números aleatórios\n",
        "\n",
        "n = random.randint(1,100) #função randint(n1, n2) gera números inteiros entre n1 e n2 (inclusive)\n",
        "\n",
        "\n",
        "i = 0\n",
        "while True:\n",
        "  chute = int(input('Tente adivinhar o número sorteado entre 1 e 100 (inclusive): '))\n",
        "  i += 1\n",
        "  if chute > n:\n",
        "    print('Tente um número menor')\n",
        "  elif chute < n:\n",
        "    print('Tente um número maior')\n",
        "  else:\n",
        "    if i > 5:\n",
        "      print('\\nUFA!! Até que enfim!')\n",
        "    elif i <= 3:\n",
        "      print('\\nUAU!! Você é muito bom!')\n",
        "    print(f'\\nVocê acertou! O número sorteado foi {n}')\n",
        "    break\n",
        "#Exemplo de execução"
      ],
      "metadata": {
        "colab": {
          "base_uri": "https://localhost:8080/"
        },
        "id": "XnB4GDdFExAc",
        "outputId": "db48e278-0c35-43b3-8bcc-58206462833b"
      },
      "execution_count": null,
      "outputs": [
        {
          "output_type": "stream",
          "name": "stdout",
          "text": [
            "Tente adivinhar o número sorteado entre 1 e 100 (inclusive): 100\n",
            "Tente um número menor\n",
            "Tente adivinhar o número sorteado entre 1 e 100 (inclusive): 1\n",
            "Tente um número maior\n",
            "Tente adivinhar o número sorteado entre 1 e 100 (inclusive): 50\n",
            "Tente um número menor\n",
            "Tente adivinhar o número sorteado entre 1 e 100 (inclusive): 2\n",
            "Tente um número maior\n",
            "Tente adivinhar o número sorteado entre 1 e 100 (inclusive): 49\n",
            "Tente um número menor\n",
            "Tente adivinhar o número sorteado entre 1 e 100 (inclusive): 3\n",
            "Tente um número maior\n",
            "Tente adivinhar o número sorteado entre 1 e 100 (inclusive): 45\n",
            "Tente um número menor\n",
            "Tente adivinhar o número sorteado entre 1 e 100 (inclusive): 10\n",
            "Tente um número maior\n",
            "Tente adivinhar o número sorteado entre 1 e 100 (inclusive): 20\n",
            "Tente um número maior\n",
            "Tente adivinhar o número sorteado entre 1 e 100 (inclusive): 30\n",
            "Tente um número maior\n",
            "Tente adivinhar o número sorteado entre 1 e 100 (inclusive): 35\n",
            "\n",
            "UFA!! Até que enfim!\n",
            "\n",
            "Você acertou! O número sorteado foi 35\n"
          ]
        }
      ]
    }
  ]
}
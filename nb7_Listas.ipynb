{
  "nbformat": 4,
  "nbformat_minor": 0,
  "metadata": {
    "colab": {
      "name": "nb7-Listas.ipynb",
      "provenance": [],
      "collapsed_sections": [],
      "toc_visible": true,
      "authorship_tag": "ABX9TyP/xk5YAcqgtsKKSJrZL5ZP",
      "include_colab_link": true
    },
    "kernelspec": {
      "name": "python3",
      "display_name": "Python 3"
    },
    "language_info": {
      "name": "python"
    }
  },
  "cells": [
    {
      "cell_type": "markdown",
      "metadata": {
        "id": "view-in-github",
        "colab_type": "text"
      },
      "source": [
        "<a href=\"https://colab.research.google.com/github/lauraemmanuella/prog1/blob/main/nb7_Listas.ipynb\" target=\"_parent\"><img src=\"https://colab.research.google.com/assets/colab-badge.svg\" alt=\"Open In Colab\"/></a>"
      ]
    },
    {
      "cell_type": "markdown",
      "source": [
        "# Listas\n",
        "\n",
        "\n",
        "---\n",
        "\n",
        "O que vamos ver aqui?\n",
        "\n",
        "1. Listas aninhadas\n",
        "2. Compreensão de listas\n",
        "3. Exercícios\n"
      ],
      "metadata": {
        "id": "7yPzseM1oIaW"
      }
    },
    {
      "cell_type": "markdown",
      "source": [
        "## Listas aninhadas\n",
        "\n",
        "Uma ótima característica das estruturas de dados do Python é que eles suportam **aninhamento**. \n",
        "\n",
        "> Isso significa que podemos ter estruturas de dados dentro das estruturas de dados. Por exemplo: **uma lista dentro de uma lista.**"
      ],
      "metadata": {
        "id": "5P8bkPd4opMP"
      }
    },
    {
      "cell_type": "code",
      "metadata": {
        "id": "9zecj_XbElgc"
      },
      "source": [
        "lista1 = [1,2,3]\n",
        "lista2 = [4,5,6]\n",
        "lista3 = [7,8,9]\n",
        "matriz = [lista1, lista2, lista3]"
      ],
      "execution_count": 1,
      "outputs": []
    },
    {
      "cell_type": "code",
      "metadata": {
        "id": "8APd6zO9Elgc",
        "colab": {
          "base_uri": "https://localhost:8080/"
        },
        "outputId": "c66100bc-57c6-498d-ec54-0779cf6cd924"
      },
      "source": [
        "print(matriz)"
      ],
      "execution_count": 2,
      "outputs": [
        {
          "output_type": "stream",
          "name": "stdout",
          "text": [
            "[[1, 2, 3], [4, 5, 6], [7, 8, 9]]\n"
          ]
        }
      ]
    },
    {
      "cell_type": "code",
      "metadata": {
        "id": "rLk_qAMLElgd",
        "outputId": "b69612a7-246f-4764-b05e-99038530ae58",
        "colab": {
          "base_uri": "https://localhost:8080/"
        }
      },
      "source": [
        "print(matriz[0]) #retorna o elemento da posição 0 (que é uma lista!!)"
      ],
      "execution_count": 3,
      "outputs": [
        {
          "output_type": "stream",
          "name": "stdout",
          "text": [
            "[1, 2, 3]\n"
          ]
        }
      ]
    },
    {
      "cell_type": "code",
      "metadata": {
        "id": "GGLrf1rIElgd",
        "outputId": "3de87d7b-f909-4b72-e90b-b1a78d0bbacf",
        "colab": {
          "base_uri": "https://localhost:8080/"
        }
      },
      "source": [
        "print(matriz[0][0]) #retorna o primeiro elemento da lista retornada"
      ],
      "execution_count": 4,
      "outputs": [
        {
          "output_type": "stream",
          "name": "stdout",
          "text": [
            "1\n"
          ]
        }
      ]
    },
    {
      "cell_type": "code",
      "execution_count": 17,
      "metadata": {
        "colab": {
          "base_uri": "https://localhost:8080/"
        },
        "id": "n2r1Rl0PoAIo",
        "outputId": "7e925681-437a-4021-f920-27ccf3b6a077"
      },
      "outputs": [
        {
          "output_type": "stream",
          "name": "stdout",
          "text": [
            "[[10, 20, 30], [11, 21, 31], [100, 200, 300]]\n",
            "200\n"
          ]
        }
      ],
      "source": [
        "matriz2 = [[10, 20, 30],[11, 21, 31],[100, 200, 300]]\n",
        "print(matriz2)\n",
        "print(matriz2[2][1])"
      ]
    },
    {
      "cell_type": "markdown",
      "metadata": {
        "id": "_CoWJ7BpElgd"
      },
      "source": [
        "## Compreensão de listas\n",
        "\n",
        "https://docs.python.org/pt-br/3.10/tutorial/datastructures.html#tut-listcomps\n",
        "\n",
        "Uma forma simples de criar uma lista em Python é utilizando uma operação chamada de **compreensão de lista**.\n",
        "\n",
        "As compreensões de lista nos permitem construir listas usando uma notação diferente. \n",
        "\n",
        ">Você pode pensar nisso essencialmente como um loop construído dentro de colchetes."
      ]
    },
    {
      "cell_type": "markdown",
      "source": [
        "**Exemplo 1:** Gerar uma lista com os números de 1 a 20."
      ],
      "metadata": {
        "id": "chr0zutmyeig"
      }
    },
    {
      "cell_type": "code",
      "source": [
        "exemplo1 = [i for i in range(1, 21)]\n",
        "print(exemplo1)"
      ],
      "metadata": {
        "colab": {
          "base_uri": "https://localhost:8080/"
        },
        "id": "O2Uxm9vsylTT",
        "outputId": "cb47e2fc-b6c4-44b2-b1d9-1a0e6073a13b"
      },
      "execution_count": 1,
      "outputs": [
        {
          "output_type": "stream",
          "name": "stdout",
          "text": [
            "[1, 2, 3, 4, 5, 6, 7, 8, 9, 10, 11, 12, 13, 14, 15, 16, 17, 18, 19, 20]\n"
          ]
        }
      ]
    },
    {
      "cell_type": "markdown",
      "source": [
        "> O código da compreensão de listas acima tem o mesmo resultado do código convencional abaixo:"
      ],
      "metadata": {
        "id": "AiUFFQKxzQlW"
      }
    },
    {
      "cell_type": "code",
      "source": [
        "exemplo1 = []\n",
        "for i in range(1, 21):\n",
        "  exemplo1.append(i)\n",
        "print(exemplo1)"
      ],
      "metadata": {
        "colab": {
          "base_uri": "https://localhost:8080/"
        },
        "id": "oEuJF_lgzQGm",
        "outputId": "cf306a33-c6ee-4da5-9bcf-d54cd88c1939"
      },
      "execution_count": 4,
      "outputs": [
        {
          "output_type": "stream",
          "name": "stdout",
          "text": [
            "[1, 2, 3, 4, 5, 6, 7, 8, 9, 10, 11, 12, 13, 14, 15, 16, 17, 18, 19, 20]\n"
          ]
        }
      ]
    },
    {
      "cell_type": "markdown",
      "source": [
        "**Exemplo 2:** Gere uma lista com os números pares de 1 a 20"
      ],
      "metadata": {
        "id": "o5yCCdvIyvx3"
      }
    },
    {
      "cell_type": "code",
      "source": [
        "exemplo2 = [i for i in range(1, 21, 2)]\n",
        "print(exemplo2)"
      ],
      "metadata": {
        "colab": {
          "base_uri": "https://localhost:8080/"
        },
        "id": "n5Piy0_Ty49X",
        "outputId": "1694c4de-1bb8-494b-f54f-c7129377dd22"
      },
      "execution_count": 2,
      "outputs": [
        {
          "output_type": "stream",
          "name": "stdout",
          "text": [
            "[1, 3, 5, 7, 9, 11, 13, 15, 17, 19]\n"
          ]
        }
      ]
    },
    {
      "cell_type": "markdown",
      "source": [
        "> O código da compreensão de listas acima tem o mesmo resultado do código convencional abaixo:\n"
      ],
      "metadata": {
        "id": "TRG9a_t8zesN"
      }
    },
    {
      "cell_type": "code",
      "source": [
        "exemplo2 = []\n",
        "for i in range(1, 21, 2):\n",
        "  exemplo2.append(i)\n",
        "print(exemplo2)"
      ],
      "metadata": {
        "colab": {
          "base_uri": "https://localhost:8080/"
        },
        "id": "TbBzTdBVzfo3",
        "outputId": "0410b2c9-d837-47e6-b0e3-7d3b0437a490"
      },
      "execution_count": 5,
      "outputs": [
        {
          "output_type": "stream",
          "name": "stdout",
          "text": [
            "[1, 3, 5, 7, 9, 11, 13, 15, 17, 19]\n"
          ]
        }
      ]
    },
    {
      "cell_type": "markdown",
      "source": [
        "**Exemplo 3:** Gere uma lista com os número divisíveis por 3 e 5 entre 1 e 100"
      ],
      "metadata": {
        "id": "ni_JYLE3y-uX"
      }
    },
    {
      "cell_type": "code",
      "source": [
        "exemplo3 = [i for i in range(1, 101) if i % 3 == 0 and i % 5 == 0]\n",
        "print(exemplo3)"
      ],
      "metadata": {
        "colab": {
          "base_uri": "https://localhost:8080/"
        },
        "id": "300oBCedzE9m",
        "outputId": "aa3a1d3b-35a7-447c-c5af-fa52351eccf4"
      },
      "execution_count": 18,
      "outputs": [
        {
          "output_type": "stream",
          "name": "stdout",
          "text": [
            "[15, 30, 45, 60, 75, 90]\n"
          ]
        }
      ]
    },
    {
      "cell_type": "markdown",
      "source": [
        "> O código da compreensão de listas acima tem o mesmo resultado do código convencional abaixo:"
      ],
      "metadata": {
        "id": "HyxbFOWOzjn0"
      }
    },
    {
      "cell_type": "code",
      "source": [
        "exemplo3 = []\n",
        "for i in range(1, 101):\n",
        "  if i % 3 == 0 and i % 5 == 0:\n",
        "    exemplo3.append(i)\n",
        "print(exemplo3)"
      ],
      "metadata": {
        "colab": {
          "base_uri": "https://localhost:8080/"
        },
        "id": "xxa4nylXzlBB",
        "outputId": "fdb10e44-2711-461f-9b54-7f5a99afa3d7"
      },
      "execution_count": 6,
      "outputs": [
        {
          "output_type": "stream",
          "name": "stdout",
          "text": [
            "[15, 30, 45, 60, 75, 90]\n"
          ]
        }
      ]
    },
    {
      "cell_type": "markdown",
      "source": [
        "**Exemplo 4:** Gere uma lista com 20 números aleatórios entre 1 e 100"
      ],
      "metadata": {
        "id": "l9OtFMoY0KYU"
      }
    },
    {
      "cell_type": "code",
      "source": [
        "import random\n",
        "exemplo4 = [random.randint(1,100) for i in range(20)]\n",
        "print(exemplo4)"
      ],
      "metadata": {
        "colab": {
          "base_uri": "https://localhost:8080/"
        },
        "id": "SLJrW1FztbyO",
        "outputId": "36ebf9a7-7f0d-45df-afa0-d706761857d8"
      },
      "execution_count": 7,
      "outputs": [
        {
          "output_type": "stream",
          "name": "stdout",
          "text": [
            "[40, 58, 81, 6, 24, 71, 64, 93, 41, 16, 92, 84, 86, 26, 9, 11, 4, 71, 41, 65]\n"
          ]
        }
      ]
    },
    {
      "cell_type": "markdown",
      "source": [
        "> O código da compreensão de listas acima tem o mesmo resultado do código convencional abaixo:"
      ],
      "metadata": {
        "id": "PSq1QX1f0R1H"
      }
    },
    {
      "cell_type": "code",
      "source": [
        "import random\n",
        "exemplo4 = []\n",
        "for i in range(20):\n",
        "  exemplo4.append(random.randint(1,100))\n",
        "print(exemplo4)"
      ],
      "metadata": {
        "colab": {
          "base_uri": "https://localhost:8080/"
        },
        "id": "y_o25pH00VvW",
        "outputId": "fc7e68a6-9066-4134-998f-a95f247bcf92"
      },
      "execution_count": 8,
      "outputs": [
        {
          "output_type": "stream",
          "name": "stdout",
          "text": [
            "[4, 70, 64, 56, 38, 46, 17, 42, 10, 30, 35, 14, 39, 52, 50, 81, 32, 57, 49, 34]\n"
          ]
        }
      ]
    },
    {
      "cell_type": "markdown",
      "source": [
        "##Exercícios"
      ],
      "metadata": {
        "id": "LdvlDA7Ysr6n"
      }
    },
    {
      "cell_type": "markdown",
      "source": [
        "1. Imprima o valor 2 da lista abaixo:"
      ],
      "metadata": {
        "id": "yac6caPZ4n-I"
      }
    },
    {
      "cell_type": "code",
      "execution_count": 19,
      "metadata": {
        "id": "8GM6yD7d4n-Y"
      },
      "outputs": [],
      "source": [
        "lista = [1, 1, [1,2]]"
      ]
    },
    {
      "cell_type": "code",
      "source": [
        "#seu código aqui"
      ],
      "metadata": {
        "colab": {
          "base_uri": "https://localhost:8080/"
        },
        "id": "w4FNPv8p5Lyp",
        "outputId": "0f2b8aaf-f621-42b2-ad59-62a970fcbfa2"
      },
      "execution_count": 21,
      "outputs": [
        {
          "output_type": "stream",
          "name": "stdout",
          "text": [
            "2\n"
          ]
        }
      ]
    },
    {
      "cell_type": "markdown",
      "source": [
        "2. Dada a matriz abaixo, gere uma lista que seja cada elemento da segunda linha multiplicado por 100 (**use compreensão de listas**)"
      ],
      "metadata": {
        "id": "pCrnMxeI0tCN"
      }
    },
    {
      "cell_type": "code",
      "source": [
        "matriz = [[13,7, 9], [2, 6, 1], [8, 3, 4]]"
      ],
      "metadata": {
        "id": "B3NT3TVr2JcN"
      },
      "execution_count": null,
      "outputs": []
    },
    {
      "cell_type": "code",
      "source": [
        "#seu código aqui"
      ],
      "metadata": {
        "colab": {
          "base_uri": "https://localhost:8080/"
        },
        "id": "CPc1TMirsthB",
        "outputId": "13d104b1-7b4a-4195-fcce-06dc7abbb400"
      },
      "execution_count": 9,
      "outputs": [
        {
          "output_type": "stream",
          "name": "stdout",
          "text": [
            "[200, 600, 100]\n"
          ]
        }
      ]
    },
    {
      "cell_type": "markdown",
      "source": [
        "3. Preencha uma lista com as representações em Fahrenheit da seguintes temperaturas usando compreensão de listas"
      ],
      "metadata": {
        "id": "r41JEywl1N_l"
      }
    },
    {
      "cell_type": "code",
      "source": [
        "celsius = [0,10,20.1,34.5]"
      ],
      "metadata": {
        "id": "9CdiNu6z2HW3"
      },
      "execution_count": null,
      "outputs": []
    },
    {
      "cell_type": "code",
      "source": [
        "#seu código aqui"
      ],
      "metadata": {
        "colab": {
          "base_uri": "https://localhost:8080/"
        },
        "id": "enqeA-h91S2e",
        "outputId": "bdcc8421-dca0-493a-e570-fd073f12bf97"
      },
      "execution_count": 10,
      "outputs": [
        {
          "output_type": "stream",
          "name": "stdout",
          "text": [
            "[32.0, 50.0, 68.18, 94.1]\n"
          ]
        }
      ]
    },
    {
      "cell_type": "markdown",
      "source": [
        "4. Usando compreensão de listas, crie uma lista com as primeiras letras de cada palavra da frase abaixo:\n",
        "\n",
        "> Dica: use o método split() das strings para quebras as palavras da frase"
      ],
      "metadata": {
        "id": "gPaApRzh2-bb"
      }
    },
    {
      "cell_type": "code",
      "source": [
        "frase = 'create a list of the first letters of every word in this string'"
      ],
      "metadata": {
        "id": "8KSC68SR3QLx"
      },
      "execution_count": 14,
      "outputs": []
    },
    {
      "cell_type": "code",
      "source": [
        "#seu código aqui"
      ],
      "metadata": {
        "colab": {
          "base_uri": "https://localhost:8080/"
        },
        "id": "0GPU73UQ3MRz",
        "outputId": "8f22a7fa-2e2c-459e-deb2-4897973787a0"
      },
      "execution_count": 15,
      "outputs": [
        {
          "output_type": "stream",
          "name": "stdout",
          "text": [
            "['c', 'a', 'l', 'o', 't', 'f', 'l', 'o', 'e', 'w', 'i', 't', 's']\n"
          ]
        }
      ]
    },
    {
      "cell_type": "markdown",
      "source": [
        "**DESAFIO:** Crie uma string com os caracteres da lista acima"
      ],
      "metadata": {
        "id": "fJKvu2yH3sld"
      }
    },
    {
      "cell_type": "code",
      "source": [
        "#seu código aqui"
      ],
      "metadata": {
        "colab": {
          "base_uri": "https://localhost:8080/"
        },
        "id": "adzINWrS3fAw",
        "outputId": "7e55990d-fa1e-404b-95a3-4fa2a1e9c1b4"
      },
      "execution_count": 16,
      "outputs": [
        {
          "output_type": "stream",
          "name": "stdout",
          "text": [
            "calotfloewits\n"
          ]
        }
      ]
    },
    {
      "cell_type": "markdown",
      "source": [
        "5. Usando compreensão de listas, crie uma lista apenas com as palavras que começam com s na frase abaixo:"
      ],
      "metadata": {
        "id": "cvTTB9xy1bZX"
      }
    },
    {
      "cell_type": "code",
      "source": [
        "frase = 'print only the words that start with s in this sentence'"
      ],
      "metadata": {
        "id": "vFypWzBn2CZ_"
      },
      "execution_count": 11,
      "outputs": []
    },
    {
      "cell_type": "code",
      "source": [
        "#seu código aqui"
      ],
      "metadata": {
        "colab": {
          "base_uri": "https://localhost:8080/"
        },
        "id": "VXeEpd1M2LAO",
        "outputId": "145ce11c-83db-4747-90e3-05e4d636c4ae"
      },
      "execution_count": 12,
      "outputs": [
        {
          "output_type": "stream",
          "name": "stdout",
          "text": [
            "['start', 's', 'sentence']\n"
          ]
        }
      ]
    },
    {
      "cell_type": "markdown",
      "source": [
        "6. Adapte o código acima para que ele mostre as palavras que possuem s em qualquer posição"
      ],
      "metadata": {
        "id": "RQxgzXAN2a1A"
      }
    },
    {
      "cell_type": "code",
      "source": [
        "#seu código aqui"
      ],
      "metadata": {
        "colab": {
          "base_uri": "https://localhost:8080/"
        },
        "id": "tlQXM-YZ2hGR",
        "outputId": "78ac405e-72cd-4e7e-d614-4ec058a347da"
      },
      "execution_count": 13,
      "outputs": [
        {
          "output_type": "stream",
          "name": "stdout",
          "text": [
            "['words', 'start', 's', 'this', 'sentence']\n"
          ]
        }
      ]
    }
  ]
}
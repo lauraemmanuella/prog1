{
  "nbformat": 4,
  "nbformat_minor": 0,
  "metadata": {
    "colab": {
      "provenance": [],
      "authorship_tag": "ABX9TyN8UGv1bs62X7qJrNkMgo/t",
      "include_colab_link": true
    },
    "kernelspec": {
      "name": "python3",
      "display_name": "Python 3"
    },
    "language_info": {
      "name": "python"
    }
  },
  "cells": [
    {
      "cell_type": "markdown",
      "metadata": {
        "id": "view-in-github",
        "colab_type": "text"
      },
      "source": [
        "<a href=\"https://colab.research.google.com/github/lauraemmanuella/prog1/blob/main/nb8_Dicionario.ipynb\" target=\"_parent\"><img src=\"https://colab.research.google.com/assets/colab-badge.svg\" alt=\"Open In Colab\"/></a>"
      ]
    },
    {
      "cell_type": "markdown",
      "source": [
        "# Dicionário\n",
        "\n",
        "\n",
        "---\n",
        "\n",
        "O que vamos ver aqui?\n",
        "\n",
        "1. Definição \n",
        "2. Acesso\n",
        "3. Comandos `del, in, not in, len`\n",
        "4. Métodos dos dicionários\n",
        "5. Criando listas a partir de dicionários\n",
        "6. Exercícios"
      ],
      "metadata": {
        "id": "T4NIE3N_26t6"
      }
    },
    {
      "cell_type": "markdown",
      "source": [
        "## 1. Definição\n",
        "\n",
        "Dicionários consistem em uma estrutura de dados similar às listas, mas com propriedades de organização e acesso diferentes\n",
        "\n",
        "> Os dicionários são uma coleção de elementos que são armazenados por uma chave, ao contrário de uma sequência que armazena elementos por sua posição relativa (índice), como as listas e as strings\n",
        "\n",
        "Esta é uma distinção importante, uma vez que **os dicionários acessarão seus elementos por uma chave**\n",
        "\n",
        "> **Cada ITEM do dicionário é uma combinação de uma chave e um valor**\n",
        "\n",
        "* A chave vai servir para indexar (posicionar) determinado elemento no dicionário\n",
        "* O valor representa o elemento que se deseja armazenar. O valor aceita diversos tipos: listas, outros dicionários, inteiros, strings e etc.\n",
        "\n",
        "\n",
        "Utiliza-se `{}` para delimitar o dicionário. A chave identificadora é separada do valor por dois pontos` :`. Os vários itens do dicionário são separados por vírgula `,`\n",
        "\n",
        "Sintaxe básica:\n",
        "\n",
        "\n",
        "```\n",
        "exemplo_dicionario = {'chave': valor, 'outra_chave': outro_valor}\n",
        "```\n",
        "\n",
        "Exemplo:\n"
      ],
      "metadata": {
        "id": "oNJ_uYzo3H4H"
      }
    },
    {
      "cell_type": "code",
      "execution_count": null,
      "metadata": {
        "id": "Zr-4q5kJ20e7"
      },
      "outputs": [],
      "source": [
        "preco = {\n",
        "  'ALFACE': 2.25,\n",
        "  'BROCÓLIS': 4.09,\n",
        "  'COUVE': 3.75,\n",
        "  'REPOLHO': 1.25\n",
        "}"
      ]
    },
    {
      "cell_type": "code",
      "source": [
        "print(preco) #mostra o dicionário"
      ],
      "metadata": {
        "colab": {
          "base_uri": "https://localhost:8080/"
        },
        "id": "4pocGvnW8Q2X",
        "outputId": "4aa20d23-d2bd-4d14-8daf-58bdd2238699"
      },
      "execution_count": null,
      "outputs": [
        {
          "output_type": "stream",
          "name": "stdout",
          "text": [
            "{'ALFACE': 2.25, 'BROCÓLIS': 4.09, 'COUVE': 3.75, 'REPOLHO': 1.25}\n"
          ]
        }
      ]
    },
    {
      "cell_type": "code",
      "source": [
        "print(preco['ALFACE']) #mostra o valor da chave informada"
      ],
      "metadata": {
        "colab": {
          "base_uri": "https://localhost:8080/"
        },
        "id": "vlpaW3-y8S1J",
        "outputId": "84b94163-b7ee-4910-fa54-d57939259d12"
      },
      "execution_count": null,
      "outputs": [
        {
          "output_type": "stream",
          "name": "stdout",
          "text": [
            "2.25\n"
          ]
        }
      ]
    },
    {
      "cell_type": "markdown",
      "source": [
        "## 2. Acesso\n",
        "\n",
        "Como vimos, diferente das listas e strings, em que o índice da posição dos elementos é um número, dicionários utilizam suas chaves como índice.\n",
        "\n",
        "> Quando atribuímos um valor a uma chave, duas coisas podem ocorrer:\n",
        "1. Se a chave já existe: o valor associado é alterado para o novo valor\n",
        "2.  Se a chave não existe: a nova chave será adicionada ao dicionário"
      ],
      "metadata": {
        "id": "NLkF9uxC8eJ5"
      }
    },
    {
      "cell_type": "code",
      "source": [
        "preco['REPOLHO'] = 1.54 #altera o valor da chave\n",
        "print(preco)"
      ],
      "metadata": {
        "colab": {
          "base_uri": "https://localhost:8080/"
        },
        "id": "xo1Uq3qM8deJ",
        "outputId": "5a0da38b-602a-4f5f-a225-bf653c3310a0"
      },
      "execution_count": null,
      "outputs": [
        {
          "output_type": "stream",
          "name": "stdout",
          "text": [
            "{'ALFACE': 2.25, 'BROCÓLIS': 4.09, 'COUVE': 3.75, 'REPOLHO': 1.54}\n"
          ]
        }
      ]
    },
    {
      "cell_type": "code",
      "source": [
        "preco['BATATA'] = 2.40 #cria um novo item no dicionário\n",
        "print(preco)"
      ],
      "metadata": {
        "colab": {
          "base_uri": "https://localhost:8080/"
        },
        "id": "hgAdP4G-9CcC",
        "outputId": "1ba2fc30-49a6-4297-ac04-521e0d60b117"
      },
      "execution_count": null,
      "outputs": [
        {
          "output_type": "stream",
          "name": "stdout",
          "text": [
            "{'ALFACE': 2.25, 'BROCÓLIS': 4.09, 'COUVE': 3.75, 'REPOLHO': 1.54, 'BATATA': 2.4}\n"
          ]
        }
      ]
    },
    {
      "cell_type": "markdown",
      "source": [
        "## 3. Comandos `del, in, not in, len`\n",
        "\n",
        "Podemos usar os comandos `del, in, not in, len` da mesma forma como usamos nas listas e strings"
      ],
      "metadata": {
        "id": "AV4TO1Sy9kq4"
      }
    },
    {
      "cell_type": "code",
      "source": [
        "del preco['BATATA'] #remove o item definido pela chave\n",
        "print(preco)"
      ],
      "metadata": {
        "colab": {
          "base_uri": "https://localhost:8080/"
        },
        "id": "26nYPSag_W5y",
        "outputId": "a9634b68-bb26-4c15-e1c2-71072b43c3b2"
      },
      "execution_count": null,
      "outputs": [
        {
          "output_type": "stream",
          "name": "stdout",
          "text": [
            "{'ALFACE': 2.25, 'BROCÓLIS': 4.09, 'COUVE': 3.75, 'REPOLHO': 1.54}\n"
          ]
        }
      ]
    },
    {
      "cell_type": "code",
      "source": [
        "if 'CENOURA' in preco: # verifica se existe um item com determinada chave\n",
        "  print('tem cenoura')\n",
        "else:\n",
        "  print('não tem cenoura')"
      ],
      "metadata": {
        "colab": {
          "base_uri": "https://localhost:8080/"
        },
        "id": "REyZy1h3_c55",
        "outputId": "7e8a2d6f-c0d4-46e7-9856-4a8f5cba8774"
      },
      "execution_count": null,
      "outputs": [
        {
          "output_type": "stream",
          "name": "stdout",
          "text": [
            "não tem cenoura\n"
          ]
        }
      ]
    },
    {
      "cell_type": "code",
      "source": [
        "if 'CENOURA' not in preco: # verifica se não existe um item com determinada chave\n",
        "  preco['CENOURA'] = 2.35\n",
        "else:\n",
        "  print(preco['CENOURA'])\n",
        "\n",
        "print(preco)"
      ],
      "metadata": {
        "colab": {
          "base_uri": "https://localhost:8080/"
        },
        "id": "Y1VTVriY_qGJ",
        "outputId": "d552f2ea-00cf-40f1-e388-c7457137cfbb"
      },
      "execution_count": null,
      "outputs": [
        {
          "output_type": "stream",
          "name": "stdout",
          "text": [
            "{'ALFACE': 2.25, 'BROCÓLIS': 4.09, 'COUVE': 3.75, 'REPOLHO': 1.54, 'CENOURA': 2.35}\n"
          ]
        }
      ]
    },
    {
      "cell_type": "code",
      "source": [
        "len(preco) #retorna a quantidade de itens do dicionário"
      ],
      "metadata": {
        "colab": {
          "base_uri": "https://localhost:8080/"
        },
        "id": "bvgHyUUaAZmN",
        "outputId": "1276f7cc-3946-40ae-fa2a-2eb05d93011f"
      },
      "execution_count": null,
      "outputs": [
        {
          "output_type": "execute_result",
          "data": {
            "text/plain": [
              "5"
            ]
          },
          "metadata": {},
          "execution_count": 89
        }
      ]
    },
    {
      "cell_type": "markdown",
      "metadata": {
        "id": "Yj3KZih6Elgo"
      },
      "source": [
        "## 4. Métodos de Dicionários\n",
        "\n",
        "> O tipo de dado Dicionário do Python (`classe dict`), possui um conjunto de operações disponíveis (`chamadas de Métodos`)\n",
        "\n",
        "Veja mais em: https://docs.python.org/pt-br/3/library/stdtypes.html#typesmapping"
      ]
    },
    {
      "cell_type": "markdown",
      "source": [
        "###MÉTODOS DE ACESSO\n",
        "\n",
        "* keys(): retorna as chaves\n",
        "* values(): retorna os valores\n",
        "* items(): retorna os itens em forma de tupla (chave, valor)"
      ],
      "metadata": {
        "id": "Oh9seggCI_fc"
      }
    },
    {
      "cell_type": "code",
      "metadata": {
        "id": "Q8NSK1mWElgo",
        "outputId": "79ecd1f5-996f-4de8-d313-840f469a6da3",
        "colab": {
          "base_uri": "https://localhost:8080/"
        }
      },
      "source": [
        "print(preco.keys())"
      ],
      "execution_count": null,
      "outputs": [
        {
          "output_type": "stream",
          "name": "stdout",
          "text": [
            "dict_keys(['ALFACE', 'BROCÓLIS', 'COUVE', 'REPOLHO', 'CENOURA'])\n"
          ]
        }
      ]
    },
    {
      "cell_type": "code",
      "metadata": {
        "id": "-CWexSpfElgo",
        "outputId": "608ea5f7-0568-462c-f846-e12f967e88d4",
        "colab": {
          "base_uri": "https://localhost:8080/"
        }
      },
      "source": [
        "print(preco.values())"
      ],
      "execution_count": null,
      "outputs": [
        {
          "output_type": "stream",
          "name": "stdout",
          "text": [
            "dict_values([2.25, 4.09, 3.75, 1.54, 2.35])\n"
          ]
        }
      ]
    },
    {
      "cell_type": "code",
      "metadata": {
        "id": "GxKpfzwtElgp",
        "outputId": "e4da98be-199c-4c4f-8032-c0f46a47d01a",
        "colab": {
          "base_uri": "https://localhost:8080/"
        }
      },
      "source": [
        "print(preco.items())"
      ],
      "execution_count": null,
      "outputs": [
        {
          "output_type": "stream",
          "name": "stdout",
          "text": [
            "dict_items([('ALFACE', 2.25), ('BROCÓLIS', 4.09), ('COUVE', 3.75), ('REPOLHO', 1.54), ('CENOURA', 2.35)])\n"
          ]
        }
      ]
    },
    {
      "cell_type": "markdown",
      "source": [
        "> **Esses métodos são comumente usados para percorrer os elementos do dicionários em um laço for, como abaixo:**"
      ],
      "metadata": {
        "id": "eKbaPHbPJOaI"
      }
    },
    {
      "cell_type": "code",
      "source": [
        "for k in preco.keys(): #percorre as chaves\n",
        "  print(k)"
      ],
      "metadata": {
        "colab": {
          "base_uri": "https://localhost:8080/"
        },
        "id": "y9FDu1DuEwfl",
        "outputId": "99dc9c6a-34f8-4345-9f62-eb8822416106"
      },
      "execution_count": null,
      "outputs": [
        {
          "output_type": "stream",
          "name": "stdout",
          "text": [
            "ALFACE\n",
            "BROCÓLIS\n",
            "COUVE\n",
            "REPOLHO\n",
            "CENOURA\n"
          ]
        }
      ]
    },
    {
      "cell_type": "code",
      "source": [
        "for k in preco: #percorre as chaves. O mesmo que preco.keys()\n",
        "  print(k)"
      ],
      "metadata": {
        "colab": {
          "base_uri": "https://localhost:8080/"
        },
        "id": "CDcygGnPEPFI",
        "outputId": "22fb9142-daf0-4de2-bce4-975a080aae20"
      },
      "execution_count": null,
      "outputs": [
        {
          "output_type": "stream",
          "name": "stdout",
          "text": [
            "ALFACE\n",
            "BROCÓLIS\n",
            "COUVE\n",
            "REPOLHO\n",
            "CENOURA\n"
          ]
        }
      ]
    },
    {
      "cell_type": "code",
      "source": [
        "for v in preco.values(): #percorre os valores\n",
        "  print(v)"
      ],
      "metadata": {
        "colab": {
          "base_uri": "https://localhost:8080/"
        },
        "id": "q_SL5byzE07J",
        "outputId": "4abbd062-4e00-456b-f93f-6144de14b206"
      },
      "execution_count": null,
      "outputs": [
        {
          "output_type": "stream",
          "name": "stdout",
          "text": [
            "2.25\n",
            "4.09\n",
            "3.75\n",
            "1.54\n",
            "2.35\n"
          ]
        }
      ]
    },
    {
      "cell_type": "code",
      "source": [
        "for i in preco.items(): #Percorre os itens em forma de tupla (chave, valor)\n",
        "  print(i)"
      ],
      "metadata": {
        "colab": {
          "base_uri": "https://localhost:8080/"
        },
        "id": "BxslVCZKEVse",
        "outputId": "cb491065-f1a3-4923-f034-2372044e5483"
      },
      "execution_count": null,
      "outputs": [
        {
          "output_type": "stream",
          "name": "stdout",
          "text": [
            "('ALFACE', 2.25)\n",
            "('BROCÓLIS', 4.09)\n",
            "('COUVE', 3.75)\n",
            "('REPOLHO', 1.54)\n",
            "('CENOURA', 2.35)\n"
          ]
        }
      ]
    },
    {
      "cell_type": "code",
      "source": [
        "for k, v in preco.items(): #Separa a tupla em duas variáveis, a primeira é a chave e a segunda é o valor\n",
        "  print(f'{k}: {v}')"
      ],
      "metadata": {
        "colab": {
          "base_uri": "https://localhost:8080/"
        },
        "id": "HqDJhPAnEhU_",
        "outputId": "e4c8a35a-fd22-4cf7-947a-456c5b27cf9d"
      },
      "execution_count": null,
      "outputs": [
        {
          "output_type": "stream",
          "name": "stdout",
          "text": [
            "ALFACE: 2.25\n",
            "BROCÓLIS: 4.09\n",
            "COUVE: 3.75\n",
            "REPOLHO: 1.54\n",
            "CENOURA: 2.35\n"
          ]
        }
      ]
    },
    {
      "cell_type": "markdown",
      "source": [
        "> **Também podemos usar a função enumerate para fazer a enumeração dos elementos, como mostrado abaixo:**"
      ],
      "metadata": {
        "id": "XkT-lKdEJcJP"
      }
    },
    {
      "cell_type": "code",
      "source": [
        "for i, k in enumerate(preco): #faz a enumeração das chaves\n",
        "  print(f'{i}: {k}')"
      ],
      "metadata": {
        "colab": {
          "base_uri": "https://localhost:8080/"
        },
        "id": "L7N2pNHLHkwO",
        "outputId": "3fe71345-ba9a-467d-8e34-3d499bea6194"
      },
      "execution_count": null,
      "outputs": [
        {
          "output_type": "stream",
          "name": "stdout",
          "text": [
            "0: ALFACE\n",
            "1: BROCÓLIS\n",
            "2: COUVE\n",
            "3: REPOLHO\n",
            "4: CENOURA\n"
          ]
        }
      ]
    },
    {
      "cell_type": "code",
      "source": [
        "for i, v in enumerate(preco.values()): #faz a enumeração dos valores\n",
        "  print(f'{i}: {v}')"
      ],
      "metadata": {
        "colab": {
          "base_uri": "https://localhost:8080/"
        },
        "id": "DP4HZ0RsH07o",
        "outputId": "771ff179-169c-4fcc-db6f-857f14ebab19"
      },
      "execution_count": null,
      "outputs": [
        {
          "output_type": "stream",
          "name": "stdout",
          "text": [
            "0: 2.25\n",
            "1: 4.09\n",
            "2: 3.75\n",
            "3: 1.54\n",
            "4: 2.35\n"
          ]
        }
      ]
    },
    {
      "cell_type": "code",
      "source": [
        "for i, e in enumerate(preco.items()): #faz a enumeração dos itens\n",
        "  print(f'{i}: {e}')"
      ],
      "metadata": {
        "colab": {
          "base_uri": "https://localhost:8080/"
        },
        "id": "032lFzRfH7ab",
        "outputId": "9a65a45e-3633-45e1-fd25-2a3d9f2b090d"
      },
      "execution_count": null,
      "outputs": [
        {
          "output_type": "stream",
          "name": "stdout",
          "text": [
            "0: ('ALFACE', 2.25)\n",
            "1: ('BROCÓLIS', 4.09)\n",
            "2: ('COUVE', 3.75)\n",
            "3: ('REPOLHO', 1.54)\n",
            "4: ('CENOURA', 2.35)\n"
          ]
        }
      ]
    },
    {
      "cell_type": "markdown",
      "source": [
        "### REMOÇÃO\n",
        "\n",
        "Observe que os métodos pop() e popitem() retornam o elemento removido em forma de tupla (chave, valor)"
      ],
      "metadata": {
        "id": "ENBZnd0DJm4p"
      }
    },
    {
      "cell_type": "code",
      "source": [
        "#remove o item da chave informada (igual a del)\n",
        "print(preco.pop('ALFACE')) \n",
        "print(preco)"
      ],
      "metadata": {
        "colab": {
          "base_uri": "https://localhost:8080/"
        },
        "id": "CumwKMEEFhjq",
        "outputId": "3eb773b7-301b-47d3-acab-fbbad56bc3d5"
      },
      "execution_count": null,
      "outputs": [
        {
          "output_type": "stream",
          "name": "stdout",
          "text": [
            "2.25\n",
            "{'BROCÓLIS': 4.09, 'COUVE': 3.75, 'REPOLHO': 1.54, 'CENOURA': 2.35}\n"
          ]
        }
      ]
    },
    {
      "cell_type": "code",
      "metadata": {
        "id": "RkbRVFGaElgp",
        "outputId": "2ec6e758-1a9b-4e6b-bfbc-d5bf6ed8fbf2",
        "colab": {
          "base_uri": "https://localhost:8080/"
        }
      },
      "source": [
        "#remove o ultimo item do dicionario\n",
        "print(preco.popitem()) \n",
        "print(preco)"
      ],
      "execution_count": null,
      "outputs": [
        {
          "output_type": "stream",
          "name": "stdout",
          "text": [
            "('CENOURA', 2.35)\n",
            "{'BROCÓLIS': 4.09, 'COUVE': 3.75, 'REPOLHO': 1.54}\n"
          ]
        }
      ]
    },
    {
      "cell_type": "markdown",
      "source": [
        "### CÓPIA\n",
        "\n",
        "Lembre que quando fazemos atribuições entre variáveis estruturadas, estamos referenciado a mesma posição de memória e consequentemente quando alteramos uma das variáveis, alteramos também a outra\n",
        "\n",
        "Observe o exemplo abaixo:"
      ],
      "metadata": {
        "id": "1t71XeeaJwuN"
      }
    },
    {
      "cell_type": "code",
      "source": [
        "print(preco)"
      ],
      "metadata": {
        "colab": {
          "base_uri": "https://localhost:8080/"
        },
        "id": "km0B_1MfKEWN",
        "outputId": "e42f4c51-cf8e-4cbb-e4c8-2c53cc00b2c4"
      },
      "execution_count": null,
      "outputs": [
        {
          "output_type": "stream",
          "name": "stdout",
          "text": [
            "{'BROCÓLIS': 4.09, 'COUVE': 3.75, 'REPOLHO': 1.54}\n"
          ]
        }
      ]
    },
    {
      "cell_type": "code",
      "source": [
        "referencia = preco\n",
        "print(referencia)"
      ],
      "metadata": {
        "colab": {
          "base_uri": "https://localhost:8080/"
        },
        "id": "xuUf-dxaKA4y",
        "outputId": "59bfdfe3-db46-4873-f543-9461f36fbc18"
      },
      "execution_count": null,
      "outputs": [
        {
          "output_type": "stream",
          "name": "stdout",
          "text": [
            "{'BROCÓLIS': 4.09, 'COUVE': 3.75, 'REPOLHO': 1.54}\n"
          ]
        }
      ]
    },
    {
      "cell_type": "code",
      "source": [
        "preco['TOMATE'] = 2.75\n",
        "print(referencia) #a alteração no dict preco, alterou também o dict referencia"
      ],
      "metadata": {
        "colab": {
          "base_uri": "https://localhost:8080/"
        },
        "id": "NLRtU3ReKNpN",
        "outputId": "ae2731f8-1f75-4a50-e8a3-3602269e949a"
      },
      "execution_count": null,
      "outputs": [
        {
          "output_type": "stream",
          "name": "stdout",
          "text": [
            "{'BROCÓLIS': 4.09, 'COUVE': 3.75, 'REPOLHO': 1.54, 'TOMATE': 2.75}\n"
          ]
        }
      ]
    },
    {
      "cell_type": "markdown",
      "source": [
        "> Podemos tornar as variáveis independentes usando o método copy()\n",
        "\n",
        "**Observe o exemplo com copy()**"
      ],
      "metadata": {
        "id": "VsoSpdNRKY3r"
      }
    },
    {
      "cell_type": "code",
      "source": [
        "copia = preco.copy()\n",
        "print(copia)"
      ],
      "metadata": {
        "colab": {
          "base_uri": "https://localhost:8080/"
        },
        "id": "-8vAOB3KGrvh",
        "outputId": "2947e7f9-1a57-4b39-b044-96b84f3d5dbc"
      },
      "execution_count": null,
      "outputs": [
        {
          "output_type": "stream",
          "name": "stdout",
          "text": [
            "{'BROCÓLIS': 4.09, 'COUVE': 3.75, 'REPOLHO': 1.54, 'TOMATE': 2.75}\n"
          ]
        }
      ]
    },
    {
      "cell_type": "code",
      "source": [
        "preco['UVA'] = 6.30\n",
        "print(copia)\n",
        "print(preco)"
      ],
      "metadata": {
        "colab": {
          "base_uri": "https://localhost:8080/"
        },
        "id": "gOcZrCyxGvmI",
        "outputId": "716eee87-6ac0-4d13-9929-f21dc7be3c4a"
      },
      "execution_count": null,
      "outputs": [
        {
          "output_type": "stream",
          "name": "stdout",
          "text": [
            "{'BROCÓLIS': 4.09, 'COUVE': 3.75, 'REPOLHO': 1.54, 'TOMATE': 2.75}\n",
            "{'BROCÓLIS': 4.09, 'COUVE': 3.75, 'REPOLHO': 1.54, 'TOMATE': 2.75, 'UVA': 6.3}\n"
          ]
        }
      ]
    },
    {
      "cell_type": "markdown",
      "source": [
        "## 5. Criando listas a partir de dicionários\n",
        "\n",
        "Podemos criar listas a partir de dicionários, fazendo uma conversão de tipo para a classe list"
      ],
      "metadata": {
        "id": "ms7yYldtGYfQ"
      }
    },
    {
      "cell_type": "code",
      "source": [
        "itens = list(preco) #gera uma lista com as chaves. é o mesmo que list(preco.keys())\n",
        "print(itens)"
      ],
      "metadata": {
        "colab": {
          "base_uri": "https://localhost:8080/"
        },
        "id": "9YKhDDa_F6hi",
        "outputId": "530e2981-2177-4f45-99d4-b67340f501fa"
      },
      "execution_count": null,
      "outputs": [
        {
          "output_type": "stream",
          "name": "stdout",
          "text": [
            "['BROCÓLIS', 'COUVE', 'REPOLHO', 'TOMATE', 'UVA']\n"
          ]
        }
      ]
    },
    {
      "cell_type": "code",
      "source": [
        "precos = list(preco.values()) #gera uma lista com os valores\n",
        "print(precos)"
      ],
      "metadata": {
        "colab": {
          "base_uri": "https://localhost:8080/"
        },
        "id": "lT7IVC_YGC5u",
        "outputId": "fa7c0ef6-03ce-4da8-8ab9-e72fadb88dbb"
      },
      "execution_count": null,
      "outputs": [
        {
          "output_type": "stream",
          "name": "stdout",
          "text": [
            "[4.09, 3.75, 1.54, 2.75, 6.3]\n"
          ]
        }
      ]
    },
    {
      "cell_type": "code",
      "source": [
        "tabela = list(preco.items()) #gera uma lista com os itens em forma de tupla\n",
        "print(tabela)"
      ],
      "metadata": {
        "colab": {
          "base_uri": "https://localhost:8080/"
        },
        "id": "df75nl98GMX-",
        "outputId": "765b2db3-8d0a-4827-f2e0-410440ed6949"
      },
      "execution_count": null,
      "outputs": [
        {
          "output_type": "stream",
          "name": "stdout",
          "text": [
            "[('BROCÓLIS', 4.09), ('COUVE', 3.75), ('REPOLHO', 1.54), ('TOMATE', 2.75), ('UVA', 6.3)]\n"
          ]
        }
      ]
    },
    {
      "cell_type": "markdown",
      "source": [
        "## Outros exemplos\n",
        "\n",
        "Dicionários podem ter como valores, outras variáveis estruturadas como listas ou outros dicionários"
      ],
      "metadata": {
        "id": "yL214jPVMwWY"
      }
    },
    {
      "cell_type": "code",
      "source": [
        "armazem = {\n",
        "  'ALFACE': [100, 2.25],\n",
        "  'BROCÓLIS': [30, 4.09],\n",
        "  'COUVE': [50, 3.75],\n",
        "  'REPOLHO': [26, 1.25]\n",
        "}"
      ],
      "metadata": {
        "id": "QthXNq3-M1E2"
      },
      "execution_count": null,
      "outputs": []
    },
    {
      "cell_type": "markdown",
      "source": [
        "Quando nosso valor é uma lista, devemos acessar seus elementos usando os índices posicionais que já conhecemos"
      ],
      "metadata": {
        "id": "xLMvNtaITfEq"
      }
    },
    {
      "cell_type": "code",
      "source": [
        "armazem['ALFACE'] #O valor da chave ALFACE é uma lista"
      ],
      "metadata": {
        "colab": {
          "base_uri": "https://localhost:8080/"
        },
        "id": "FOG4eRPWZ_fP",
        "outputId": "4b341df9-97b0-407f-9717-24196f7d0e71"
      },
      "execution_count": null,
      "outputs": [
        {
          "output_type": "execute_result",
          "data": {
            "text/plain": [
              "[100, 2.25]"
            ]
          },
          "metadata": {},
          "execution_count": 4
        }
      ]
    },
    {
      "cell_type": "code",
      "source": [
        "armazem['ALFACE'][0] #podemos acessar o primeiro item da lista usando o índice 0"
      ],
      "metadata": {
        "colab": {
          "base_uri": "https://localhost:8080/"
        },
        "id": "CUZ6o54wZzEI",
        "outputId": "26fc8d9a-0f4f-4f9e-d0c9-3627d8f5a1ad"
      },
      "execution_count": null,
      "outputs": [
        {
          "output_type": "execute_result",
          "data": {
            "text/plain": [
              "100"
            ]
          },
          "metadata": {},
          "execution_count": 2
        }
      ]
    },
    {
      "cell_type": "code",
      "source": [
        "armazem['ALFACE'][1] #segundo item da lista"
      ],
      "metadata": {
        "colab": {
          "base_uri": "https://localhost:8080/"
        },
        "id": "utFBrEsJZ8a5",
        "outputId": "18eed332-2331-4166-cca6-82f8cadc9d25"
      },
      "execution_count": null,
      "outputs": [
        {
          "output_type": "execute_result",
          "data": {
            "text/plain": [
              "2.25"
            ]
          },
          "metadata": {},
          "execution_count": 3
        }
      ]
    },
    {
      "cell_type": "code",
      "source": [
        "print('PRODUTO  QUANTIDADE (KG)  PREÇO (R$)')\n",
        "for k, d in armazem.items(): #percorre os itens separando chave (k) e valor(d)\n",
        "  print(f'{k}  {d[0]}  {d[1]}') #acessamos os elementos da lista usando os índices posicionais"
      ],
      "metadata": {
        "colab": {
          "base_uri": "https://localhost:8080/"
        },
        "id": "zIsbNDOkSs-8",
        "outputId": "41b8f5d6-66d9-4990-aa1b-c4000dc838f6"
      },
      "execution_count": null,
      "outputs": [
        {
          "output_type": "stream",
          "name": "stdout",
          "text": [
            "PRODUTO  QUANTIDADE (KG)  PREÇO (R$)\n",
            "ALFACE  100  2.25\n",
            "BROCÓLIS  30  4.09\n",
            "COUVE  50  3.75\n",
            "REPOLHO  26  1.25\n"
          ]
        }
      ]
    },
    {
      "cell_type": "markdown",
      "source": [
        "**Formatando a saída**\n",
        "\n",
        "> O método `ljust` das strings alinhará a string à esquerda (left-justified), usando um caractere especificado (**o espaço é o padrão**) como o caractere de preenchimento\n",
        "\n",
        "Exemplo:"
      ],
      "metadata": {
        "id": "OcuYhFP4S55A"
      }
    },
    {
      "cell_type": "code",
      "source": [
        "nome = 'Laura'\n",
        "print(nome.ljust(10, '*'))"
      ],
      "metadata": {
        "colab": {
          "base_uri": "https://localhost:8080/"
        },
        "id": "4s8_gpaVcR82",
        "outputId": "941331c1-293c-4267-b4f5-a49d6ecc6c59"
      },
      "execution_count": null,
      "outputs": [
        {
          "output_type": "stream",
          "name": "stdout",
          "text": [
            "Laura*****\n"
          ]
        }
      ]
    },
    {
      "cell_type": "code",
      "source": [
        "print('PRODUTO\\t\\tQUANTIDADE (KG)\\tPREÇO (R$)')\n",
        "for k, d in armazem.items():\n",
        "  print(f'{k.ljust(15)}\\t{str(d[0]).ljust(15)}\\t{d[1]}')"
      ],
      "metadata": {
        "colab": {
          "base_uri": "https://localhost:8080/"
        },
        "id": "1ZSPQ6CpO0C0",
        "outputId": "2b6114bf-47a4-489f-e446-2352d647965b"
      },
      "execution_count": null,
      "outputs": [
        {
          "output_type": "stream",
          "name": "stdout",
          "text": [
            "PRODUTO\t\tQUANTIDADE (KG)\tPREÇO (R$)\n",
            "ALFACE         \t100            \t2.25\n",
            "BROCÓLIS       \t30             \t4.09\n",
            "COUVE          \t50             \t3.75\n",
            "REPOLHO        \t26             \t1.25\n"
          ]
        }
      ]
    },
    {
      "cell_type": "markdown",
      "source": [
        "## 6. Exercícios"
      ],
      "metadata": {
        "id": "w6OeGu4_K8ih"
      }
    },
    {
      "cell_type": "markdown",
      "source": [
        "**Questão 1**: Considere o dict armazem abaixo. Faça um programa que receba o nome do produto e mostre seu preço e estoque. "
      ],
      "metadata": {
        "id": "b3RoFgmCXJVl"
      }
    },
    {
      "cell_type": "code",
      "source": [
        "armazem = {\n",
        "  'ALFACE': [100, 2.25],\n",
        "  'BROCÓLIS': [30, 4.09],\n",
        "  'COUVE': [50, 3.75],\n",
        "  'REPOLHO': [26, 1.25]\n",
        "}"
      ],
      "metadata": {
        "id": "Hs_KHARAdKkS"
      },
      "execution_count": null,
      "outputs": []
    },
    {
      "cell_type": "code",
      "source": [
        "#Seu código aqui"
      ],
      "metadata": {
        "id": "lL4H53q6y7cb"
      },
      "execution_count": null,
      "outputs": []
    },
    {
      "cell_type": "code",
      "source": [
        "#Exemplo de execução"
      ],
      "metadata": {
        "colab": {
          "base_uri": "https://localhost:8080/"
        },
        "id": "reRlvl3bK95f",
        "outputId": "1f9ab882-2002-40a9-85b0-8c3a04efa1c3"
      },
      "execution_count": null,
      "outputs": [
        {
          "name": "stdout",
          "output_type": "stream",
          "text": [
            "\n",
            "Informe o nome do produto ou fim para encerrar: couve\n",
            "\n",
            "COUVE\n",
            "Preço: R$ 50\n",
            "Quantidade: 3.75 kg\n",
            "\n",
            "Informe o nome do produto ou fim para encerrar: fim\n"
          ]
        }
      ]
    },
    {
      "cell_type": "markdown",
      "source": [
        "**Questão 2:** Crie um dicionário que armazene ano e sinopse de filmes. Use os nomes dos filmes como chaves. Depois faça um programa que receba do usuário o nome do filme e mostre os dados dele."
      ],
      "metadata": {
        "id": "SyJors0-eFBN"
      }
    },
    {
      "cell_type": "code",
      "source": [
        "#Seu código aqui"
      ],
      "metadata": {
        "id": "04JcVyeogwA_"
      },
      "execution_count": null,
      "outputs": []
    },
    {
      "cell_type": "code",
      "source": [
        "#Exemplo de execução"
      ],
      "metadata": {
        "colab": {
          "base_uri": "https://localhost:8080/"
        },
        "id": "VFfFL1-agHy1",
        "outputId": "070bd054-a57f-40cc-9a80-0cf988d4ef23"
      },
      "execution_count": null,
      "outputs": [
        {
          "name": "stdout",
          "output_type": "stream",
          "text": [
            "\n",
            "Informe o nome do filme ou fim para encerrar: Wanda Vision\n",
            "Ano: 2021\n",
            "Sinopse: Após os eventos de Vingadores: Ultimato (2019), Wanda Maximoff/Feiticeira Escarlate (Elizabeth Olsen) e Visão (Paul Bettany) se esforçam para levar uma vida normal no subúrbio e esconder seus poderes. Mas a dupla de super-heróis logo começa a suspeitar que nem tudo está tão certo assim. Eles se encontram, na verdade, dentro de uma constante sitcom, que vai desde a década de 50 até os dias de hoje. Conforme o tempo passa, Wanda e Visão perdem o controle da situação, sem saber mais o que é real e o que é ficção. Eles ficam presos em um eterno vai e vem: da Era de Ouro da TV nos EUA, com imagens em preto e branco, ao presente - e vice-versa.\n",
            "\n",
            "Informe o nome do filme ou fim para encerrar: fim\n"
          ]
        }
      ]
    },
    {
      "cell_type": "markdown",
      "source": [
        "**Questão 3:** Considere o dicionário abaixo com um quiz de perguntas e respostas. Crie um programa que faça todas as perguntas para o usuário e calcule a quantidade de respostas corretas."
      ],
      "metadata": {
        "id": "wOdGN8nonUi3"
      }
    },
    {
      "cell_type": "code",
      "source": [
        "perguntas = {\n",
        "      'Pergunta 1': {\n",
        "          'pergunta': 'Quanto é 2+2? ',\n",
        "          'respostas': {\n",
        "              'a': '1',\n",
        "              'b': '4',\n",
        "              'c': '5',\n",
        "          },\n",
        "          'resposta_certa': 'b',\n",
        "      },\n",
        "      'Pergunta 2': {\n",
        "          'pergunta': 'Quanto é 3x2? ',\n",
        "          'respostas': {\n",
        "              'a': '4',\n",
        "              'b': '101',\n",
        "              'c': '6',\n",
        "          },\n",
        "          'resposta_certa': 'c',\n",
        "      },\n",
        "      'Pergunta 3': {\n",
        "          'pergunta': 'Quanto é 6x2? ',\n",
        "          'respostas': {\n",
        "              'a': '4',\n",
        "              'b': '12',\n",
        "              'c': '6',\n",
        "          },\n",
        "          'resposta_certa': 'b',\n",
        "      },\n",
        "      'Pergunta 4': {\n",
        "          'pergunta': 'Quanto é 2+3? ',\n",
        "          'respostas': {\n",
        "              'a': '7',\n",
        "              'b': '5',\n",
        "              'c': '8',\n",
        "          },\n",
        "          'resposta_certa': 'b',\n",
        "      },\n",
        "      'Pergunta 5': {\n",
        "          'pergunta': 'Quanto é 5+13? ',\n",
        "          'respostas': {\n",
        "              'a': '18',\n",
        "              'b': '11',\n",
        "              'c': '8',\n",
        "          },\n",
        "          'resposta_certa': 'a',\n",
        "      },\n",
        "      'Pergunta 6': {\n",
        "          'pergunta': 'Quanto é 7x5? ',\n",
        "          'respostas': {\n",
        "              'a': '35',\n",
        "              'b': '38',\n",
        "              'c': '27',\n",
        "          },\n",
        "          'resposta_certa': 'a',\n",
        "      },\n",
        "      'Pergunta 7': {\n",
        "          'pergunta': 'Quanto é 6x4? ',\n",
        "          'respostas': {\n",
        "              'a': '43',\n",
        "              'b': '31',\n",
        "              'c': '24',\n",
        "          },\n",
        "          'resposta_certa': 'c',\n",
        "      },\n",
        "      'Pergunta 8': {\n",
        "          'pergunta': 'Quanto é 9x9? ',\n",
        "          'respostas': {\n",
        "              'a': '83',\n",
        "              'b': '131',\n",
        "              'c': '81',\n",
        "          },\n",
        "          'resposta_certa': 'c',\n",
        "      },\n",
        "      'Pergunta 9': {\n",
        "          'pergunta': 'Quanto é 4x4? ',\n",
        "          'respostas': {\n",
        "              'a': '16',\n",
        "              'b': '17',\n",
        "              'c': '12',\n",
        "          },\n",
        "          'resposta_certa': 'a',\n",
        "      },\n",
        "      'Pergunta 10': {\n",
        "          'pergunta': 'Quanto é 10x10? ',\n",
        "          'respostas': {\n",
        "              'a': '400',\n",
        "              'b': '100',\n",
        "              'c': '110',\n",
        "          },\n",
        "          'resposta_certa': 'b',\n",
        "      },\n",
        "  }"
      ],
      "metadata": {
        "id": "DzRQKk6onUvj"
      },
      "execution_count": null,
      "outputs": []
    },
    {
      "cell_type": "code",
      "source": [
        "#Seu código aqui"
      ],
      "metadata": {
        "id": "ldizqPpbyy5k"
      },
      "execution_count": null,
      "outputs": []
    },
    {
      "cell_type": "code",
      "source": [
        "#Exemplo de execução"
      ],
      "metadata": {
        "colab": {
          "base_uri": "https://localhost:8080/"
        },
        "id": "LyFUJ2Jnn2wI",
        "outputId": "9927184a-62d8-49a8-d647-214c6173ab6e"
      },
      "execution_count": null,
      "outputs": [
        {
          "output_type": "stream",
          "name": "stdout",
          "text": [
            "\n",
            "Quiz perguntas e respostas!\n",
            "\n",
            "Pergunta 1: Quanto é 2+2? \n",
            "Respostas: \n",
            "[a]: 1\n",
            "[b]: 4\n",
            "[c]: 5\n",
            "Sua resposta: b\n",
            "\n",
            "Você acertou!!!!\n",
            "Pergunta 2: Quanto é 3x2? \n",
            "Respostas: \n",
            "[a]: 4\n",
            "[b]: 101\n",
            "[c]: 6\n",
            "Sua resposta: c\n",
            "\n",
            "Você acertou!!!!\n",
            "Pergunta 3: Quanto é 6x2? \n",
            "Respostas: \n",
            "[a]: 4\n",
            "[b]: 12\n",
            "[c]: 6\n",
            "Sua resposta: b\n",
            "\n",
            "Você acertou!!!!\n",
            "Pergunta 4: Quanto é 2+3? \n",
            "Respostas: \n",
            "[a]: 7\n",
            "[b]: 5\n",
            "[c]: 8\n",
            "Sua resposta: b\n",
            "\n",
            "Você acertou!!!!\n",
            "Pergunta 5: Quanto é 5+13? \n",
            "Respostas: \n",
            "[a]: 18\n",
            "[b]: 11\n",
            "[c]: 8\n",
            "Sua resposta: a\n",
            "\n",
            "Você acertou!!!!\n",
            "Pergunta 6: Quanto é 7x5? \n",
            "Respostas: \n",
            "[a]: 35\n",
            "[b]: 38\n",
            "[c]: 27\n",
            "Sua resposta: c\n",
            "\n",
            "Você ERROU!!!!\n",
            "Pergunta 7: Quanto é 6x4? \n",
            "Respostas: \n",
            "[a]: 43\n",
            "[b]: 31\n",
            "[c]: 24\n",
            "Sua resposta: c\n",
            "\n",
            "Você acertou!!!!\n",
            "Pergunta 8: Quanto é 9x9? \n",
            "Respostas: \n",
            "[a]: 83\n",
            "[b]: 131\n",
            "[c]: 81\n",
            "Sua resposta: c\n",
            "\n",
            "Você acertou!!!!\n",
            "Pergunta 9: Quanto é 4x4? \n",
            "Respostas: \n",
            "[a]: 16\n",
            "[b]: 17\n",
            "[c]: 12\n",
            "Sua resposta: a\n",
            "\n",
            "Você acertou!!!!\n",
            "Pergunta 10: Quanto é 10x10? \n",
            "Respostas: \n",
            "[a]: 400\n",
            "[b]: 100\n",
            "[c]: 110\n",
            "Sua resposta: b\n",
            "\n",
            "Você acertou!!!!\n",
            "Você acertou 9 respostas.\n",
            "Sua porcentagem de acerto foi 90.0%.\n"
          ]
        }
      ]
    }
  ]
}
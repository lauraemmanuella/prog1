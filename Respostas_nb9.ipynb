{
  "nbformat": 4,
  "nbformat_minor": 0,
  "metadata": {
    "colab": {
      "name": "Respostas_nb9.ipynb",
      "provenance": [],
      "collapsed_sections": [],
      "authorship_tag": "ABX9TyMZj4TyT90vxM8mAb1MM5Jg",
      "include_colab_link": true
    },
    "kernelspec": {
      "name": "python3",
      "display_name": "Python 3"
    },
    "language_info": {
      "name": "python"
    }
  },
  "cells": [
    {
      "cell_type": "markdown",
      "metadata": {
        "id": "view-in-github",
        "colab_type": "text"
      },
      "source": [
        "<a href=\"https://colab.research.google.com/github/lauraemmanuella/prog1/blob/main/Respostas_nb9.ipynb\" target=\"_parent\"><img src=\"https://colab.research.google.com/assets/colab-badge.svg\" alt=\"Open In Colab\"/></a>"
      ]
    },
    {
      "cell_type": "markdown",
      "source": [
        "## Exercícios"
      ],
      "metadata": {
        "id": "sqq6Ayiws4Mh"
      }
    },
    {
      "cell_type": "markdown",
      "source": [
        "1. Escreva uma função para validar o tamanho de uma variável do tipo string. A função receberá como entrada a string, o tamanho mínimo e o tamanho máximo permitidos. Retorne verdadeiro, caso o tamanho da string esteja dentro do intervalo definido, e falso caso contrário."
      ],
      "metadata": {
        "id": "LENxFWV-s6KT"
      }
    },
    {
      "cell_type": "code",
      "source": [
        "def valida_string(texto, minimo, maximo):\n",
        "  tam = len(texto)\n",
        "  print(tam)\n",
        "  if tam >= minimo and tam <= maximo:\n",
        "    return True\n",
        "  else:\n",
        "    return False\n",
        "\n",
        "#Testando o uso da função\n",
        "print(valida_string('Laura Emmanuella', 5, 15))"
      ],
      "metadata": {
        "colab": {
          "base_uri": "https://localhost:8080/"
        },
        "id": "ADJjFERss6SX",
        "outputId": "0ded404b-0c5f-4160-878a-f57389b2923c"
      },
      "execution_count": 2,
      "outputs": [
        {
          "output_type": "stream",
          "name": "stdout",
          "text": [
            "16\n",
            "False\n"
          ]
        }
      ]
    },
    {
      "cell_type": "markdown",
      "source": [
        "**DESAFIO**: Faça um programa que valide um email. Para considerar o email válido, observe se ele possui @ e se depois do @ tem ponto"
      ],
      "metadata": {
        "id": "5RdQb_ChHuyJ"
      }
    },
    {
      "cell_type": "code",
      "source": [
        "def valida_email(email):\n",
        "  if '@' in email:\n",
        "    partes = email.split('@')\n",
        "    if '.' in partes[1]:\n",
        "      return True\n",
        "  \n",
        "  return False\n",
        "\n",
        "#Testando o uso da função\n",
        "print(valida_email('laura@gmail.com'))\n",
        "print(valida_email('laura.gmail.com'))\n",
        "print(valida_email('laura@gmailcom'))"
      ],
      "metadata": {
        "colab": {
          "base_uri": "https://localhost:8080/"
        },
        "id": "o1gf2VahGs7m",
        "outputId": "4d7acd56-e4fa-493a-f67c-1467ba4b98cd"
      },
      "execution_count": 4,
      "outputs": [
        {
          "output_type": "stream",
          "name": "stdout",
          "text": [
            "True\n",
            "False\n",
            "False\n"
          ]
        }
      ]
    },
    {
      "cell_type": "markdown",
      "source": [
        "2. Faça uma função que receba um gabarito de uma prova de múltipla escolha e as respostas de um aluno. A função deve retornar a quantidade de questões corretas."
      ],
      "metadata": {
        "id": "hx8c6UHNH5BW"
      }
    },
    {
      "cell_type": "code",
      "source": [
        "def correcao(gabarito, prova):\n",
        "  cont = 0\n",
        "  if len(gabarito) == len(prova):\n",
        "    tam = len(gabarito)\n",
        "    for i in range(tam):\n",
        "      if gabarito[i] == prova[i]:\n",
        "        cont += 1\n",
        "    return cont\n",
        "  else:\n",
        "    return 'Quantidade de questões incompatível'\n",
        "\n",
        "\n",
        "#Testando o uso da função\n",
        "gabarito = ['A', 'D', 'C', 'B']\n",
        "prova1 = ['A', 'D', 'C', 'B']\n",
        "prova2 = ['D', 'B', 'A', 'C']\n",
        "prova3 = ['A', 'D', 'C']\n",
        "\n",
        "nota1 = correcao(gabarito, prova1)\n",
        "nota2 = correcao(gabarito, prova2)\n",
        "nota3 = correcao(gabarito, prova3)\n",
        "\n",
        "print(nota1)\n",
        "print(nota2)\n",
        "print(nota3)\n",
        "    "
      ],
      "metadata": {
        "colab": {
          "base_uri": "https://localhost:8080/"
        },
        "id": "hf6wqrbqIJTS",
        "outputId": "d295909e-bcce-46c8-b333-589e359a088d"
      },
      "execution_count": null,
      "outputs": [
        {
          "output_type": "stream",
          "name": "stdout",
          "text": [
            "4\n",
            "0\n",
            "Quantidade de questões incompatível\n"
          ]
        }
      ]
    }
  ]
}
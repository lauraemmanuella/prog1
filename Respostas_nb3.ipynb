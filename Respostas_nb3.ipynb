{
  "nbformat": 4,
  "nbformat_minor": 0,
  "metadata": {
    "colab": {
      "name": "Respostas_nb3.ipynb",
      "provenance": [],
      "collapsed_sections": [],
      "authorship_tag": "ABX9TyOGuOTyCTngzg6f6Rg5zdUw",
      "include_colab_link": true
    },
    "kernelspec": {
      "name": "python3",
      "display_name": "Python 3"
    },
    "language_info": {
      "name": "python"
    }
  },
  "cells": [
    {
      "cell_type": "markdown",
      "metadata": {
        "id": "view-in-github",
        "colab_type": "text"
      },
      "source": [
        "<a href=\"https://colab.research.google.com/github/lauraemmanuella/prog1/blob/main/Respostas_nb3.ipynb\" target=\"_parent\"><img src=\"https://colab.research.google.com/assets/colab-badge.svg\" alt=\"Open In Colab\"/></a>"
      ]
    },
    {
      "cell_type": "markdown",
      "source": [
        "## Exercícios WHILE\n",
        "\n",
        "\n",
        "---\n"
      ],
      "metadata": {
        "id": "id_GSdR37zXF"
      }
    },
    {
      "cell_type": "markdown",
      "source": [
        "1. Faça um programa que receba um número inteiro positivo do usuário e mostre todos os **números pares entre 1 e o número informado**:"
      ],
      "metadata": {
        "id": "0RjNv386-lhy"
      }
    },
    {
      "cell_type": "code",
      "source": [
        "num = int(input('Informe um número inteiro positivo: '))\n",
        "i = 1\n",
        "while i <= num:\n",
        "  if i % 2 == 0:\n",
        "    print(i)\n",
        "  i += 1"
      ],
      "metadata": {
        "colab": {
          "base_uri": "https://localhost:8080/"
        },
        "id": "0DNex_OC72K9",
        "outputId": "8c8d8242-b7fb-4843-d90f-6577c7e9dd45"
      },
      "execution_count": null,
      "outputs": [
        {
          "output_type": "stream",
          "name": "stdout",
          "text": [
            "Informe um número inteiro positivo: 10\n",
            "2\n",
            "4\n",
            "6\n",
            "8\n",
            "10\n"
          ]
        }
      ]
    },
    {
      "cell_type": "markdown",
      "source": [
        "2. Faça um programa que receba um número inteiro positivo e **mostre todos os seus divisores**:"
      ],
      "metadata": {
        "id": "n5KpKAbX_Awy"
      }
    },
    {
      "cell_type": "code",
      "source": [
        "num = int(input('Informe um número inteiro positivo: '))\n",
        "i = 1\n",
        "while i <= num:\n",
        "  if num % i == 0:\n",
        "    print(i)\n",
        "  i += 1"
      ],
      "metadata": {
        "colab": {
          "base_uri": "https://localhost:8080/"
        },
        "id": "TR8sImfa_N8e",
        "outputId": "ec59e96d-66a0-414b-f120-2c647a1a8d75"
      },
      "execution_count": null,
      "outputs": [
        {
          "output_type": "stream",
          "name": "stdout",
          "text": [
            "Informe um número inteiro positivo: 10\n",
            "1\n",
            "2\n",
            "5\n",
            "10\n"
          ]
        }
      ]
    },
    {
      "cell_type": "markdown",
      "source": [
        "3. Escreva um programa que leia 2 números inteiros positivos e mostre a multiplicação entre eles, mas usando apenas o operador soma (+). Exemplo: 2 * 3 = 2 + 2 + 2"
      ],
      "metadata": {
        "id": "ZykjuYc1_One"
      }
    },
    {
      "cell_type": "code",
      "source": [
        "a = int(input('Informe o primeiro número inteiro positivo: '))\n",
        "b = int(input('Informe o segundi número inteiro positivo: '))\n",
        "i = 1 #contador\n",
        "mult = 0 #acumulador\n",
        "while i <= b: \n",
        "  mult += a\n",
        "  i += 1\n",
        "print(f'{a} * {b} = {mult}')"
      ],
      "metadata": {
        "colab": {
          "base_uri": "https://localhost:8080/"
        },
        "id": "-wzFaHhD_q6s",
        "outputId": "36059803-e486-46c4-da39-184deb8e4e8e"
      },
      "execution_count": null,
      "outputs": [
        {
          "output_type": "stream",
          "name": "stdout",
          "text": [
            "Informe o primeiro número inteiro positivo: 2\n",
            "Informe o segundi número inteiro positivo: 3\n",
            "2 * 3 = 6\n"
          ]
        }
      ]
    },
    {
      "cell_type": "markdown",
      "source": [
        "4. Escreva um programa que pergunte o depósito inicial e a taxa de juros de uma poupança (exemplo: 0.005) e mostre o valor da poupança a cada mês durante um ano."
      ],
      "metadata": {
        "id": "IZeEYdRX_rzJ"
      }
    },
    {
      "cell_type": "code",
      "source": [
        "poupanca = float(input('Informe o valor do depósito: '))\n",
        "taxa = float(input('Informe a taxa de juros mensal: '))\n",
        "mes = 1\n",
        "\n",
        "while mes <= 12:\n",
        "  poupanca = poupanca + (poupanca * taxa)\n",
        "  print(f'mes {mes} = {poupanca:.2f}')\n",
        "  mes += 1\n"
      ],
      "metadata": {
        "colab": {
          "base_uri": "https://localhost:8080/"
        },
        "id": "6xOx58al_q7x",
        "outputId": "c807ba98-f279-469d-8aba-d7b12832e533"
      },
      "execution_count": null,
      "outputs": [
        {
          "output_type": "stream",
          "name": "stdout",
          "text": [
            "Informe o valor do depósito: 100\n",
            "Informe a taxa de juros mensal: 0.005\n",
            "mes 1 = 100.50\n",
            "mes 2 = 101.00\n",
            "mes 3 = 101.51\n",
            "mes 4 = 102.02\n",
            "mes 5 = 102.53\n",
            "mes 6 = 103.04\n",
            "mes 7 = 103.55\n",
            "mes 8 = 104.07\n",
            "mes 9 = 104.59\n",
            "mes 10 = 105.11\n",
            "mes 11 = 105.64\n",
            "mes 12 = 106.17\n"
          ]
        }
      ]
    },
    {
      "cell_type": "markdown",
      "source": [
        "5. Faça um programa que leia números inteiros até receber um 0. Mostre a soma de todos os números e a média aritmética."
      ],
      "metadata": {
        "id": "a4AtKdlrBJed"
      }
    },
    {
      "cell_type": "code",
      "source": [
        "soma = 0\n",
        "qtd = 0\n",
        "while True:\n",
        "  num = int(input('Informe um número: '))\n",
        "  if num == 0:\n",
        "    break\n",
        "  soma += num\n",
        "  qtd += 1\n",
        "\n",
        "print(f'Soma = {soma}')\n",
        "if qtd != 0: #só faz a média se tiver somado algum número, para evitar divisão por 0\n",
        "  media = soma / qtd\n",
        "  print(f'Média = {media}')"
      ],
      "metadata": {
        "colab": {
          "base_uri": "https://localhost:8080/"
        },
        "id": "mWnXd69qBJ5_",
        "outputId": "a049bd6d-b0fa-4cac-c2b3-9075d1a38f78"
      },
      "execution_count": null,
      "outputs": [
        {
          "output_type": "stream",
          "name": "stdout",
          "text": [
            "Informe um número: 10\n",
            "Informe um número: 20\n",
            "Informe um número: 30\n",
            "Informe um número: 0\n",
            "Soma = 60\n",
            "Média = 20.0\n"
          ]
        }
      ]
    }
  ]
}
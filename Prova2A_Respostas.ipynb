{
  "nbformat": 4,
  "nbformat_minor": 0,
  "metadata": {
    "colab": {
      "name": "Prova2A-Respostas.ipynb",
      "provenance": [],
      "collapsed_sections": [],
      "authorship_tag": "ABX9TyONna2dJP5jcn8/UYFhJpdA",
      "include_colab_link": true
    },
    "kernelspec": {
      "name": "python3",
      "display_name": "Python 3"
    },
    "language_info": {
      "name": "python"
    }
  },
  "cells": [
    {
      "cell_type": "markdown",
      "metadata": {
        "id": "view-in-github",
        "colab_type": "text"
      },
      "source": [
        "<a href=\"https://colab.research.google.com/github/lauraemmanuella/prog1/blob/main/Prova2A_Respostas.ipynb\" target=\"_parent\"><img src=\"https://colab.research.google.com/assets/colab-badge.svg\" alt=\"Open In Colab\"/></a>"
      ]
    },
    {
      "cell_type": "markdown",
      "source": [
        "**(1.0) Questão 1:** Faça um programa que simule uma fila de atendimento de clientes. Para isso crie uma lista vazia e faça o seguinte menu de opções:\n",
        "\n",
        "1. Inserir pessoa na fila (proibido repetição)\n",
        "2. Remover pessoa da fila (remove do começo da fila)\n",
        "3. Mostrar fila\n",
        "4. Mostrar posição de pessoa na fila\n",
        "5. Sair\n",
        "\n",
        "\n",
        "Na **opção 1** verifique se o nome da pessoa já está na lista antes de inserir, caso o nome já esteja na lista informe ao usuário\n",
        "\n",
        "Na **opção 2** verifique se tem alguém na lista antes de remover, caso a lista esteja vazia, informe ao usuário \n",
        "\n",
        "> Observe o exemplo de execução abaixo:"
      ],
      "metadata": {
        "id": "BUtFkKosXN_G"
      }
    },
    {
      "cell_type": "code",
      "execution_count": null,
      "metadata": {
        "id": "SmT4XdD1XAaa",
        "colab": {
          "base_uri": "https://localhost:8080/"
        },
        "outputId": "662af000-57f3-47ea-b5ad-c40c04b22834"
      },
      "outputs": [
        {
          "name": "stdout",
          "output_type": "stream",
          "text": [
            "\n",
            "Fila de Atendimento\n",
            "1-Inserir pessoa na fila (proibido repetição)\n",
            "2-Remover pessoa da fila (remove do começo da fila)\n",
            "3-Mostrar fila\n",
            "4-Mostrar posição de pessoa na fila\n",
            "5-Sair\n",
            "Escolha a opção: 2\n",
            "\n",
            "Fila vazia\n",
            "\n",
            "Fila de Atendimento\n",
            "1-Inserir pessoa na fila (proibido repetição)\n",
            "2-Remover pessoa da fila (remove do começo da fila)\n",
            "3-Mostrar fila\n",
            "4-Mostrar posição de pessoa na fila\n",
            "5-Sair\n",
            "Escolha a opção: 1\n",
            "\n",
            "Nome da pessoa: Ana Maria\n",
            "\n",
            "Fila de Atendimento\n",
            "1-Inserir pessoa na fila (proibido repetição)\n",
            "2-Remover pessoa da fila (remove do começo da fila)\n",
            "3-Mostrar fila\n",
            "4-Mostrar posição de pessoa na fila\n",
            "5-Sair\n",
            "Escolha a opção: 1\n",
            "\n",
            "Nome da pessoa: José Silva\n",
            "\n",
            "Fila de Atendimento\n",
            "1-Inserir pessoa na fila (proibido repetição)\n",
            "2-Remover pessoa da fila (remove do começo da fila)\n",
            "3-Mostrar fila\n",
            "4-Mostrar posição de pessoa na fila\n",
            "5-Sair\n",
            "Escolha a opção: 1\n",
            "\n",
            "Nome da pessoa: Ana Maria\n",
            "\n",
            "ANA MARIA já está na fila\n",
            "\n",
            "Fila de Atendimento\n",
            "1-Inserir pessoa na fila (proibido repetição)\n",
            "2-Remover pessoa da fila (remove do começo da fila)\n",
            "3-Mostrar fila\n",
            "4-Mostrar posição de pessoa na fila\n",
            "5-Sair\n",
            "Escolha a opção: 4\n",
            "\n",
            "Informe o nome da pessoa: Ana Maria\n",
            "\n",
            "ANA MARIA está na posição 0\n",
            "\n",
            "Fila de Atendimento\n",
            "1-Inserir pessoa na fila (proibido repetição)\n",
            "2-Remover pessoa da fila (remove do começo da fila)\n",
            "3-Mostrar fila\n",
            "4-Mostrar posição de pessoa na fila\n",
            "5-Sair\n",
            "Escolha a opção: 2\n",
            "\n",
            "Atendimento realizado\n",
            "\n",
            "Fila de Atendimento\n",
            "1-Inserir pessoa na fila (proibido repetição)\n",
            "2-Remover pessoa da fila (remove do começo da fila)\n",
            "3-Mostrar fila\n",
            "4-Mostrar posição de pessoa na fila\n",
            "5-Sair\n",
            "Escolha a opção: 3\n",
            "\n",
            "['JOSÉ SILVA']\n",
            "\n",
            "Fila de Atendimento\n",
            "1-Inserir pessoa na fila (proibido repetição)\n",
            "2-Remover pessoa da fila (remove do começo da fila)\n",
            "3-Mostrar fila\n",
            "4-Mostrar posição de pessoa na fila\n",
            "5-Sair\n",
            "Escolha a opção: 5\n"
          ]
        }
      ],
      "source": [
        "fila = []\n",
        "while True:\n",
        "  print('\\nFila de Atendimento')\n",
        "  print('1-Inserir pessoa na fila (proibido repetição)')\n",
        "  print('2-Remover pessoa da fila (remove do começo da fila)')\n",
        "  print('3-Mostrar fila')\n",
        "  print('4-Mostrar posição de pessoa na fila')\n",
        "  print('5-Sair')\n",
        "  opcao = int(input('Escolha a opção: '))\n",
        "  if opcao == 1:\n",
        "    nome = input('\\nNome da pessoa: ').upper()\n",
        "    if nome not in fila:\n",
        "      fila.append(nome)\n",
        "    else:\n",
        "      print(f'\\n{nome} já está na fila')\n",
        "  elif opcao == 2:\n",
        "    if len(fila) != 0:\n",
        "      fila.pop(0)\n",
        "      print('\\nAtendimento realizado')\n",
        "    else:\n",
        "      print('\\nFila vazia')\n",
        "  elif opcao == 3:\n",
        "    print(f'\\n{fila}')\n",
        "  elif opcao == 4:\n",
        "    nome = input('\\nInforme o nome da pessoa: ').upper()\n",
        "    if nome in fila:\n",
        "      print(f'\\n{nome} está na posição {fila.index(nome)}')\n",
        "    else:\n",
        "      print(f'\\n{nome} não está na fila')\n",
        "  elif opcao == 5:\n",
        "    break"
      ]
    },
    {
      "cell_type": "markdown",
      "source": [
        "**Questão 2:** Faça o que se pede abaixo:"
      ],
      "metadata": {
        "id": "HHCiMLYe1ZSH"
      }
    },
    {
      "cell_type": "markdown",
      "source": [
        "**(0.5) Questão 2.1:** Crie uma lista com cada palavra na string abaixo:"
      ],
      "metadata": {
        "id": "bGnmBx9fR4Zv"
      }
    },
    {
      "cell_type": "code",
      "source": [
        "stopwords = 'a, agora, ainda, alguém, algum, alguma, algumas, alguns, ampla, amplas, amplo, amplos, ante, antes, ao, aos, após, aquela, aquelas, aquele, aqueles, aquilo, as, até, através, cada, coisa, coisas, com, como, contra, contudo, da, daquele, daqueles, das, de, dela, delas, dele, deles, depois, dessa, dessas, desse, desses, desta, destas, deste, deste, destes, deve, devem, devendo, dever, deverá, deverão, deveria, deveriam, devia, deviam, disse, disso, disto, dito, diz, dizem, do, dos, e, é, ela, elas, ele, eles, em, enquanto, entre, era, essa, essas, esse, esses, esta, está, estamos, estão, estas, estava, estavam, estávamos, este, estes, estou, eu, fazendo, fazer, feita, feitas, feito, feitos, foi, for, foram, fosse, fossem, grande, grandes, há, isso, isto, já, la, lá, lhe, lhes, lo, mas, me, mesma, mesmas, mesmo, mesmos, meu, meus, minha, minhas, muita, muitas, muito, muitos, na, não, nas, nem, nenhum, nessa, nessas, nesta, nestas, neste, nestes, ninguém, no, nos, nós, nossa, nossas, nosso, nossos, num, numa, nunca, o, os, ou, outra, outras, outro, outros, para, pela, pelas, pelo, pelos, pequena, pequenas, pequeno, pequenos, per, perante, pode, pude, podendo, poder, poderia, poderiam, podia, podiam, pois, por, porém, porque, posso, pouca, poucas, pouco, poucos, primeiro, primeiros, própria, próprias, próprio, próprios, quais, qual, quando, quanto, quantos, que, quem, são, se, seja, sejam, sem, sempre, sendo, será, serão, seu, seus, si, sido, só, sob, sobre, sua, suas, talvez, também, tampouco, te, tem, tendo, tenha, ter, teu, teus, ti, tido, tinha, tinham, toda, todas, todavia, todo, todos, tu, tua, tuas, tudo, última, últimas, último, últimos, um, uma, umas, uns, vendo, ver, vez, vindo, vir, vos, vós'\n",
        "lista_stop = stopwords.split(', ')\n",
        "print(lista_stop)"
      ],
      "metadata": {
        "colab": {
          "base_uri": "https://localhost:8080/"
        },
        "id": "ENgypI2HXj5m",
        "outputId": "0630af3a-4b24-4c82-9c1a-dd004c0f8dad"
      },
      "execution_count": 1,
      "outputs": [
        {
          "output_type": "stream",
          "name": "stdout",
          "text": [
            "['a', 'agora', 'ainda', 'alguém', 'algum', 'alguma', 'algumas', 'alguns', 'ampla', 'amplas', 'amplo', 'amplos', 'ante', 'antes', 'ao', 'aos', 'após', 'aquela', 'aquelas', 'aquele', 'aqueles', 'aquilo', 'as', 'até', 'através', 'cada', 'coisa', 'coisas', 'com', 'como', 'contra', 'contudo', 'da', 'daquele', 'daqueles', 'das', 'de', 'dela', 'delas', 'dele', 'deles', 'depois', 'dessa', 'dessas', 'desse', 'desses', 'desta', 'destas', 'deste', 'deste', 'destes', 'deve', 'devem', 'devendo', 'dever', 'deverá', 'deverão', 'deveria', 'deveriam', 'devia', 'deviam', 'disse', 'disso', 'disto', 'dito', 'diz', 'dizem', 'do', 'dos', 'e', 'é', 'ela', 'elas', 'ele', 'eles', 'em', 'enquanto', 'entre', 'era', 'essa', 'essas', 'esse', 'esses', 'esta', 'está', 'estamos', 'estão', 'estas', 'estava', 'estavam', 'estávamos', 'este', 'estes', 'estou', 'eu', 'fazendo', 'fazer', 'feita', 'feitas', 'feito', 'feitos', 'foi', 'for', 'foram', 'fosse', 'fossem', 'grande', 'grandes', 'há', 'isso', 'isto', 'já', 'la', 'lá', 'lhe', 'lhes', 'lo', 'mas', 'me', 'mesma', 'mesmas', 'mesmo', 'mesmos', 'meu', 'meus', 'minha', 'minhas', 'muita', 'muitas', 'muito', 'muitos', 'na', 'não', 'nas', 'nem', 'nenhum', 'nessa', 'nessas', 'nesta', 'nestas', 'neste', 'nestes', 'ninguém', 'no', 'nos', 'nós', 'nossa', 'nossas', 'nosso', 'nossos', 'num', 'numa', 'nunca', 'o', 'os', 'ou', 'outra', 'outras', 'outro', 'outros', 'para', 'pela', 'pelas', 'pelo', 'pelos', 'pequena', 'pequenas', 'pequeno', 'pequenos', 'per', 'perante', 'pode', 'pude', 'podendo', 'poder', 'poderia', 'poderiam', 'podia', 'podiam', 'pois', 'por', 'porém', 'porque', 'posso', 'pouca', 'poucas', 'pouco', 'poucos', 'primeiro', 'primeiros', 'própria', 'próprias', 'próprio', 'próprios', 'quais', 'qual', 'quando', 'quanto', 'quantos', 'que', 'quem', 'são', 'se', 'seja', 'sejam', 'sem', 'sempre', 'sendo', 'será', 'serão', 'seu', 'seus', 'si', 'sido', 'só', 'sob', 'sobre', 'sua', 'suas', 'talvez', 'também', 'tampouco', 'te', 'tem', 'tendo', 'tenha', 'ter', 'teu', 'teus', 'ti', 'tido', 'tinha', 'tinham', 'toda', 'todas', 'todavia', 'todo', 'todos', 'tu', 'tua', 'tuas', 'tudo', 'última', 'últimas', 'último', 'últimos', 'um', 'uma', 'umas', 'uns', 'vendo', 'ver', 'vez', 'vindo', 'vir', 'vos', 'vós']\n"
          ]
        }
      ]
    },
    {
      "cell_type": "markdown",
      "source": [
        "**(0.5) Questão 2.2.:** Faça uma rotina capaz de criar uma nova string a partir de uma entrada (como abaixo) sem as palavras da lista criada na questão 2.1. Observe o exemplo de execução:"
      ],
      "metadata": {
        "id": "FPQuj2RLR6_7"
      }
    },
    {
      "cell_type": "code",
      "source": [
        "entrada = 'todo mundo neste país deveria aprender a programar porque isso te ensina a pensar'\n",
        "\n",
        "saida = ''\n",
        "for i in entrada.split():\n",
        "  if i not in lista_stop: #OU   if i not in stopwords:\n",
        "    saida = saida + ' '+ i\n",
        "\n",
        "print(saida)"
      ],
      "metadata": {
        "colab": {
          "base_uri": "https://localhost:8080/"
        },
        "id": "xm5InU9bR7LW",
        "outputId": "66d6cd6d-f2c8-4d98-abe6-c31310a18399"
      },
      "execution_count": 3,
      "outputs": [
        {
          "output_type": "stream",
          "name": "stdout",
          "text": [
            " mundo país aprender programar ensina pensar\n"
          ]
        }
      ]
    },
    {
      "cell_type": "markdown",
      "source": [
        "**(0.5) Questão 2.3:** Crie uma nova string a partir da string entrada (definida acima) sendo que ela terá apenas os caracteres das posições pares da entrada. Observe o exemplo de execução:"
      ],
      "metadata": {
        "id": "KfK5IZkPYgdk"
      }
    },
    {
      "cell_type": "code",
      "source": [
        "saida = entrada[::2]\n",
        "print(saida)"
      ],
      "metadata": {
        "colab": {
          "base_uri": "https://localhost:8080/"
        },
        "id": "DGo1pISzVsVC",
        "outputId": "4f7cdd98-c8d7-4fd9-8070-a9e95ec25817"
      },
      "execution_count": null,
      "outputs": [
        {
          "output_type": "stream",
          "name": "stdout",
          "text": [
            "td ud et asdvraarne  rgaa oqeis eesn  esr\n"
          ]
        }
      ]
    },
    {
      "cell_type": "markdown",
      "source": [
        "**(0.5) Questão 3:** Faça uma rotina que mostre os itens da matriz abaixo multiplicados por 100, como o exemplo de execução abaixo:"
      ],
      "metadata": {
        "id": "bsW7-_W_VHJ1"
      }
    },
    {
      "cell_type": "code",
      "source": [
        "matriz = [[1, 2, 3],[11, 21, 31],[10, 20, 30]]\n",
        "\n",
        "for linha in matriz:\n",
        "  for item in linha:\n",
        "    print(item * 100)"
      ],
      "metadata": {
        "colab": {
          "base_uri": "https://localhost:8080/"
        },
        "id": "91K-HxPFVMc7",
        "outputId": "c1d2e5d8-ccee-4623-c926-c4352413bb14"
      },
      "execution_count": null,
      "outputs": [
        {
          "output_type": "stream",
          "name": "stdout",
          "text": [
            "100\n",
            "200\n",
            "300\n",
            "1100\n",
            "2100\n",
            "3100\n",
            "1000\n",
            "2000\n",
            "3000\n"
          ]
        }
      ]
    }
  ]
}
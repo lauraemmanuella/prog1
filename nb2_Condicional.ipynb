{
  "nbformat": 4,
  "nbformat_minor": 0,
  "metadata": {
    "colab": {
      "name": "nb2-Condicional.ipynb",
      "provenance": [],
      "collapsed_sections": [
        "s9L2Ye-hMMI6"
      ],
      "toc_visible": true,
      "authorship_tag": "ABX9TyNcc+w7HieeXTXTDs61j1Hw",
      "include_colab_link": true
    },
    "kernelspec": {
      "name": "python3",
      "display_name": "Python 3"
    },
    "language_info": {
      "name": "python"
    }
  },
  "cells": [
    {
      "cell_type": "markdown",
      "metadata": {
        "id": "view-in-github",
        "colab_type": "text"
      },
      "source": [
        "<a href=\"https://colab.research.google.com/github/lauraemmanuella/prog1/blob/main/nb2_Condicional.ipynb\" target=\"_parent\"><img src=\"https://colab.research.google.com/assets/colab-badge.svg\" alt=\"Open In Colab\"/></a>"
      ]
    },
    {
      "cell_type": "markdown",
      "source": [
        "# Estrutura condicional em Python\n",
        "\n",
        "\n",
        "\n",
        "---\n",
        "\n",
        "\n",
        "O que vamos ver aqui?\n",
        "\n",
        "1. Fluxo condicional \n",
        "2. Condicional simples\n",
        "3. Condicional composto\n",
        "4. Exercícios"
      ],
      "metadata": {
        "id": "iX7TOCV4ELvq"
      }
    },
    {
      "cell_type": "markdown",
      "source": [
        "## 1. Fluxo condicional\n",
        "\n",
        "\n",
        "---\n",
        "\n",
        "Os algoritmos vistos até aqui **tem um único fluxo de execução**, ou seja, **sempre que executamos o programa, as mesmas instruções são realizadas**\n",
        "\n",
        "Isso quer dizer que aqueles problemas eram puramente sequenciais\n",
        "\n",
        "> A partir de agora vamos estudar problemas que permitem a criação de mais de um fluxo de execução. E **cada fluxo de execução dependerá de uma ou mais condições para ser executado**\n",
        "\n",
        "\n",
        "**As condições serão expressões lógicas que resultam em verdadeiro ou falso**\n",
        "\n",
        "\n",
        "\n",
        "\n",
        "\n",
        "\n"
      ],
      "metadata": {
        "id": "iznW6Ou_EaWj"
      }
    },
    {
      "cell_type": "markdown",
      "source": [
        "![fluxograma.png](data:image/png;base64,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)"
      ],
      "metadata": {
        "id": "J9PsjzQsLP-I"
      }
    },
    {
      "cell_type": "markdown",
      "source": [
        "Em Python o comando para criar fluxos condicionais é `if`, sua sintaxe é:\n",
        "\n",
        "\n",
        "\n",
        "```\n",
        "if condicao:\n",
        "  codigo\n",
        "```\n",
        "\n",
        "Observe os `:` após a condição e o espaço (identação) no fluxo do condicional. \n",
        "\n",
        "\n",
        "\n",
        "```\n",
        "if x > y:\n",
        "  print('x é maior que y')\n",
        "```"
      ],
      "metadata": {
        "id": "ZonBgvXMJ8Ss"
      }
    },
    {
      "cell_type": "markdown",
      "source": [
        "**Exemplo 1**: Faça um programa que receba a média de um aluno em uma disciplina e informe se o aluno foi aprovado. Considere que a média para ser aprovado é 7."
      ],
      "metadata": {
        "id": "rugH_FcPGw7S"
      }
    },
    {
      "cell_type": "code",
      "execution_count": null,
      "metadata": {
        "colab": {
          "base_uri": "https://localhost:8080/"
        },
        "id": "AC603VAvBisl",
        "outputId": "993eba28-3a2f-490b-d014-17eb63de0b40"
      },
      "outputs": [
        {
          "output_type": "stream",
          "name": "stdout",
          "text": [
            "Informe a média na disciplina:7.5\n",
            "Aluno aprovado\n",
            "----------\n"
          ]
        }
      ],
      "source": [
        "media = float(input('Informe a média na disciplina:'))\n",
        "\n",
        "#FLUXO CONDICIONAL\n",
        "#observe o espaço (identação) no escopo do fluxo condicional\n",
        "#todo o fluxo de execução que depender da condição testada no if, estará identado\n",
        "#ao retornar ao fluxo sequencial, saimos dessa identação\n",
        "if media >=7:\n",
        "  print('Aluno aprovado') #observe o espaço antes do comando print\n",
        "\n",
        "print('----------') #essa linha não está no escopo do if. Ela sempre é executada."
      ]
    },
    {
      "cell_type": "markdown",
      "source": [
        "## 2. Condicional simples\n",
        "\n",
        "\n",
        "---\n",
        "\n",
        "É comum precisarmos definir um fluxo para quando a condição testada é verdadeira e outro para quando a condição testada é falsa\n",
        "\n",
        "Nesse caso, vamos usar o comando `else` para fazer o caso contrário\n",
        "\n",
        "\n",
        "\n",
        "```\n",
        "if x > y:\n",
        "  print('x é maior que y')\n",
        "else:\n",
        "  print('y é maior ou igual a x)\n",
        "```\n",
        "\n",
        "**Observe a identação (espaço) do código**. Colocaremos todo o fluxo condicional (do `if` e do `else`) sempre com espaçamento\n",
        "\n",
        "> Essa sintaxe diz para o interpretador até onde vai esse fluxo condicional. Quando o código retornar ao alinhamento anterior, o interpretador saberá que aquele trecho acabou.\n"
      ],
      "metadata": {
        "id": "s9L2Ye-hMMI6"
      }
    },
    {
      "cell_type": "markdown",
      "source": [
        "**Exemplo 2**: Faça um programa que receba a média de um aluno em uma disciplina e informe se o aluno foi aprovado ou reprovado. Considere que a média para ser aprovado é 7."
      ],
      "metadata": {
        "id": "73HarCDlMMo7"
      }
    },
    {
      "cell_type": "code",
      "source": [
        "media = float(input('Informe a média na disciplina:'))\n",
        "\n",
        "if media >=7:\n",
        "  print('Aluno aprovado')\n",
        "else:\n",
        "  print('Aluno reprovado')\n",
        "\n",
        "print('----------')"
      ],
      "metadata": {
        "colab": {
          "base_uri": "https://localhost:8080/"
        },
        "id": "1HYRRz0vMMy0",
        "outputId": "fc162301-1bf8-4443-d665-c009d806104a"
      },
      "execution_count": null,
      "outputs": [
        {
          "output_type": "stream",
          "name": "stdout",
          "text": [
            "Informe a média na disciplina:6.9\n",
            "Aluno reprovado\n",
            "----------\n"
          ]
        }
      ]
    },
    {
      "cell_type": "markdown",
      "source": [
        "> O teste feito no if pode envolver mais de uma condição, como no exemplo abaixo:"
      ],
      "metadata": {
        "id": "t9Jb1VxNRcGf"
      }
    },
    {
      "cell_type": "markdown",
      "source": [
        "**Exemplo 3:** Faça um programa que receba a média e o percentual de faltas de um aluno em uma disciplina e informe se o aluno foi aprovado ou reprovado. \n",
        "\n",
        "Considere que para ser aprovado a média deve ser maior ou igual a 7 ou então a média deverá ser maior ou igual a 5 e o percentual de faltas menor que 50%.\n"
      ],
      "metadata": {
        "id": "UQ5rQrvOPBP1"
      }
    },
    {
      "cell_type": "code",
      "source": [
        "media = float(input('Informe a média na disciplina: '))\n",
        "faltas = float(input('Informe o percentual de faltas entre 0 e 1: '))\n",
        "\n",
        "if media >=7 or (media >=5 and faltas < 0.5):\n",
        "  print('Aluno aprovado')\n",
        "else:\n",
        "  print('Aluno reprovado')"
      ],
      "metadata": {
        "colab": {
          "base_uri": "https://localhost:8080/"
        },
        "id": "pwSPL5CLPEMW",
        "outputId": "35261a67-5f85-4aea-ba0a-1f170deb91b9"
      },
      "execution_count": null,
      "outputs": [
        {
          "output_type": "stream",
          "name": "stdout",
          "text": [
            "Informe a média na disciplina: 5.5\n",
            "Informe o percentual de faltas entre 0 e 1: 0.45\n",
            "Aluno aprovado\n"
          ]
        }
      ]
    },
    {
      "cell_type": "markdown",
      "source": [
        "## 3. Condicional composto\n",
        "\n",
        "\n",
        "---\n",
        "\n",
        "Em alguns casos, precisamos de vários fluxos de execução diferentes.\n",
        "\n",
        "Isso acontecerá sempre que precisarmos executar comandos diferentes para diferentes condições.\n",
        "\n",
        "Nesse caso, podemos usar o comando `elif `para abrir um novo fluxo que será testado apenas se o teste anterior for falso\n",
        "\n",
        "```\n",
        "if x > y:\n",
        "  print('x é maior que y')\n",
        "elif x == y:\n",
        "  print('x é igual a y')\n",
        "else:\n",
        "  print('x é menor que y')\n",
        "```\n",
        "\n"
      ],
      "metadata": {
        "id": "1471JD6oOWwB"
      }
    },
    {
      "cell_type": "markdown",
      "source": [
        "**Exemplo 4:** Faça um programa que receba a média e o percentual de faltas de um aluno em uma disciplina e informe se o aluno foi aprovado (média maior ou igual a 7); se está em recuperação (média maior ou igual a 5 e percentual de faltas menor que 50%) ou reprovado."
      ],
      "metadata": {
        "id": "U7J47VVhSaDW"
      }
    },
    {
      "cell_type": "code",
      "source": [
        "media = float(input('Informe a média na disciplina: '))\n",
        "faltas = float(input('Informe o percentual de faltas entre 0 e 1: '))\n",
        "\n",
        "if media >=7:\n",
        "  print('Aluno aprovado')\n",
        "elif media >=5 and faltas < 0.5:\n",
        "  print('Aluno em recuperação')\n",
        "else:\n",
        "  print('Aluno reprovado')"
      ],
      "metadata": {
        "colab": {
          "base_uri": "https://localhost:8080/"
        },
        "id": "oSJI9BkWOJ1t",
        "outputId": "92b0dc7d-ef31-49f0-d09b-1d999aef58d1"
      },
      "execution_count": null,
      "outputs": [
        {
          "output_type": "stream",
          "name": "stdout",
          "text": [
            "Informe a média na disciplina: 5\n",
            "Informe o percentual de faltas entre 0 e 1: 0\n",
            "Aluno em recuperação\n"
          ]
        }
      ]
    },
    {
      "cell_type": "markdown",
      "source": [
        "Podemos usar quantos `elif `forem necessários para abrir novos fluxos de execução\n",
        "\n",
        "> Observe que os `elif` só serão testados, caso o `if` e/ou os `elif `anteriores forem falsos"
      ],
      "metadata": {
        "id": "kBi0oCnHS6eE"
      }
    },
    {
      "cell_type": "markdown",
      "source": [
        "**Exemplo 5:** O IMC – Índice de Massa Corporal é um critério da Organização Mundial de Saúde para dar uma indicação sobre a condição de peso de uma pessoa adulta.\n",
        "A fórmula é `IMC = peso (kg) / altura (m) x altura (m)`. Elabore um algoritmo que leia o peso e a altura de um adulto e mostre sua condição de acordo com as informações abaixo:\n",
        "\n",
        "> Classificação do IMC:\n",
        "\n",
        "* Menor que 18,5 - Abaixo do peso\n",
        "\n",
        "* Entre 18,5 e 24,9 - Peso normal\n",
        "\n",
        "* Entre 25 e 29,9 - Sobrepeso (acima do peso desejado)\n",
        "\n",
        "* Igual ou acima de 30 - Obesidade"
      ],
      "metadata": {
        "id": "oCKpxyDtTd9u"
      }
    },
    {
      "cell_type": "code",
      "source": [
        "peso = float(input('Informe o peso (kg): '))\n",
        "altura = float(input('Informe a altura (m): '))\n",
        "\n",
        "imc = peso / (altura * altura)\n",
        "print(f'IMC = {imc:.2f}')\n",
        "\n",
        "if imc < 18.5:\n",
        "  print('Abaixo do peso normal')\n",
        "elif imc < 25:\n",
        "  print('Peso normal')\n",
        "elif imc < 30:\n",
        "  print('Acima do peso normal')\n",
        "else:\n",
        "  print('Obesidade')"
      ],
      "metadata": {
        "colab": {
          "base_uri": "https://localhost:8080/"
        },
        "id": "YTtu3tBeTeI4",
        "outputId": "3583351f-fbcc-4478-d500-1c53b49d6c08"
      },
      "execution_count": null,
      "outputs": [
        {
          "output_type": "stream",
          "name": "stdout",
          "text": [
            "Informe o peso (kg): 55\n",
            "Informe a altura (m): 1.60\n",
            "IMC = 21.48\n",
            "Peso normal\n"
          ]
        }
      ]
    },
    {
      "cell_type": "markdown",
      "source": [
        "## 4. Exercícios\n",
        "\n",
        "\n",
        "---\n",
        "\n"
      ],
      "metadata": {
        "id": "SJTO2YR4VR_f"
      }
    },
    {
      "cell_type": "markdown",
      "source": [
        "1. Implemente um algoritmo que receba um número e diga se este número está no intervalo entre 100 e 200"
      ],
      "metadata": {
        "id": "hj_g5OkHVY08"
      }
    },
    {
      "cell_type": "code",
      "source": [
        "#seu código aqui\n",
        "\n"
      ],
      "metadata": {
        "id": "_Zum9VUUVSLM",
        "colab": {
          "base_uri": "https://localhost:8080/"
        },
        "outputId": "8f1dae63-4252-4b91-e0ec-c8ebebf9461c"
      },
      "execution_count": 3,
      "outputs": [
        {
          "output_type": "stream",
          "name": "stdout",
          "text": [
            "Informe um número: 150\n",
            "O número informado está entre 100 e 200\n"
          ]
        }
      ]
    },
    {
      "cell_type": "markdown",
      "source": [
        "2. Implemente um algoritmo que receba o ano de nascimento de uma pessoa e informe se ela é: Jovem (0 a 18 anos); Adulta (19 a 59 anos) ou Idosa (acima de 60 anos)"
      ],
      "metadata": {
        "id": "6yrxS7nKV73b"
      }
    },
    {
      "cell_type": "code",
      "source": [
        "#Seu código aqui\n",
        "\n"
      ],
      "metadata": {
        "id": "x0FKd67ha55m",
        "colab": {
          "base_uri": "https://localhost:8080/"
        },
        "outputId": "658b26e6-da0f-4e9e-ad53-6452b42a96c1"
      },
      "execution_count": 4,
      "outputs": [
        {
          "output_type": "stream",
          "name": "stdout",
          "text": [
            "Informe o ano de nascimento da pessoa: 1999\n",
            "Adulta\n"
          ]
        }
      ]
    },
    {
      "cell_type": "markdown",
      "source": [
        "3. Faça um programa que receba o sexo e a altura (em metros) de uma pessoa e calcule e mostre seu peso ideal, utilizando as seguintes fórmulas (onde h é altura):\n",
        "\n",
        ">Para homens: (72.7 * h) – 58\n",
        "\n",
        ">Para mulheres: (62.1 * h) – 44.7"
      ],
      "metadata": {
        "id": "WiMoOz59WLzN"
      }
    },
    {
      "cell_type": "code",
      "source": [
        "#Seu código aqui\n",
        "\n"
      ],
      "metadata": {
        "id": "eFEzJQhuaXIe",
        "colab": {
          "base_uri": "https://localhost:8080/"
        },
        "outputId": "91291c2e-62a6-4e60-e5a9-aec50603b1e6"
      },
      "execution_count": 5,
      "outputs": [
        {
          "output_type": "stream",
          "name": "stdout",
          "text": [
            "Digite F para Feminino ou M para Masculino: f\n",
            "Informe a altura da pessoa: 1.60\n",
            "Peso ideal: 54.66\n"
          ]
        }
      ]
    },
    {
      "cell_type": "markdown",
      "source": [
        "Em alguns problemas, precisaremos calcular raiz quadrada ou pegar o valor absoluto de um número, por exemplo\n",
        "\n",
        "Pyhton possui esses comandos prontos\n",
        "\n",
        "No caso do valor absoluto, podemos usar o comando `abs()`\n",
        "\n"
      ],
      "metadata": {
        "id": "68URrw1PXKzf"
      }
    },
    {
      "cell_type": "code",
      "source": [
        "x = -50\n",
        "\n",
        "y = abs(x)\n",
        "\n",
        "print(f'Valor absoluto de {x} é {y}')"
      ],
      "metadata": {
        "colab": {
          "base_uri": "https://localhost:8080/"
        },
        "id": "tMxiWTjzYKAS",
        "outputId": "44337b58-f145-4743-e897-c4210ad6d56f"
      },
      "execution_count": null,
      "outputs": [
        {
          "output_type": "stream",
          "name": "stdout",
          "text": [
            "Valor absoluto de -50 é 50\n"
          ]
        }
      ]
    },
    {
      "cell_type": "markdown",
      "source": [
        "> Python possui um módulo com vários comandos matemáticos, o nome desse módulo é `math`\n",
        "\n",
        "Para usá-lo executaremos um comando de importação desse módulo, isso significa que o interpretador irá procurar nesse módulo os comandos necessários. Veja o exemplo abaixo:"
      ],
      "metadata": {
        "id": "6HoLhuQUY1Je"
      }
    },
    {
      "cell_type": "code",
      "source": [
        "import math"
      ],
      "metadata": {
        "id": "EhotvSYEYHcw"
      },
      "execution_count": null,
      "outputs": []
    },
    {
      "cell_type": "code",
      "source": [
        "a = int(input('Informe um valor inteiro: '))\n",
        "\n",
        "b = math.sqrt(a)\n",
        "\n",
        "print(f'A raiz quadrada de {a} é {b}')"
      ],
      "metadata": {
        "colab": {
          "base_uri": "https://localhost:8080/"
        },
        "id": "0by8HmiZWog_",
        "outputId": "b0a28678-27c2-4c7c-d56c-1d17129187f9"
      },
      "execution_count": null,
      "outputs": [
        {
          "output_type": "stream",
          "name": "stdout",
          "text": [
            "Informe um valor inteiro: 16\n",
            "A raiz quadrada de 16 é 4.0\n"
          ]
        }
      ]
    },
    {
      "cell_type": "markdown",
      "source": [
        "4. Faça um programa que leia três valores inteiros (`a, b e c`) que representam os lados de um triângulo. Verifique se esses valores formam um triângulo `(|b – c| < a < b + c)` e indique se ele é equilátero (3 lados iguais), escaleno (3 lados diferentes) ou isósceles (2 lados iguais e 1 diferente).\n",
        "\n",
        "> Obs: `|b-c|` significa o valor absoluto de `b-c` (sem sinal)"
      ],
      "metadata": {
        "id": "wapTbSP2Wo-p"
      }
    },
    {
      "cell_type": "code",
      "source": [
        "# Seu código aqui\n",
        "\n"
      ],
      "metadata": {
        "id": "xjoBiyH_ZrWx",
        "colab": {
          "base_uri": "https://localhost:8080/"
        },
        "outputId": "f6371f35-daa4-4650-de68-baf5cda7274f"
      },
      "execution_count": 6,
      "outputs": [
        {
          "output_type": "stream",
          "name": "stdout",
          "text": [
            "Informe o valor a: 2\n",
            "Informe o valor b: 3\n",
            "Informe o valor c: 4\n",
            "Triângulo escaleno\n"
          ]
        }
      ]
    },
    {
      "cell_type": "markdown",
      "source": [
        "5. Implemente um algoritmo que efetue a leitura de 3 valores numéricos e realize o cálculo da equação completa de 2o grau, utilizando a fórmula de Bhaskara. Considere para a solução do problema que para `delta < 0` não há solução real e que a equação do 2o grau é completa quando possui todos os coeficientes diferentes de 0. Fórmulas:\n",
        "\n",
        "* `delta = b*b - 4*a*c`\n",
        "\n",
        "* `x1 = -b + sqrt(delta)/2a`\n",
        "\n",
        "* `x2 = -b - sqrt(delta)/2a`"
      ],
      "metadata": {
        "id": "qPoOtGMuZ6HG"
      }
    },
    {
      "cell_type": "code",
      "source": [
        "import math \n",
        "\n",
        "#Seu código aqui\n",
        "\n"
      ],
      "metadata": {
        "id": "5UxjNFNeaTQZ",
        "colab": {
          "base_uri": "https://localhost:8080/"
        },
        "outputId": "d4c14695-17d0-4a04-90b1-68affebd63cd"
      },
      "execution_count": 7,
      "outputs": [
        {
          "output_type": "stream",
          "name": "stdout",
          "text": [
            "Informe o valor a: 2\n",
            "Informe o valor b: -16\n",
            "Informe o valor c: -18\n",
            "Delta = 400\n",
            "x1 = 9.0 e x2 = -1.0\n"
          ]
        }
      ]
    }
  ]
}
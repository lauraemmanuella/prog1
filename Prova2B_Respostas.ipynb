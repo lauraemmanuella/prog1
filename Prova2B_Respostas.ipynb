{
  "nbformat": 4,
  "nbformat_minor": 0,
  "metadata": {
    "colab": {
      "name": "Prova2B-Respostas.ipynb",
      "provenance": [],
      "collapsed_sections": [],
      "authorship_tag": "ABX9TyP6Xz+bncJpzSussxgqHqZQ",
      "include_colab_link": true
    },
    "kernelspec": {
      "name": "python3",
      "display_name": "Python 3"
    },
    "language_info": {
      "name": "python"
    }
  },
  "cells": [
    {
      "cell_type": "markdown",
      "metadata": {
        "id": "view-in-github",
        "colab_type": "text"
      },
      "source": [
        "<a href=\"https://colab.research.google.com/github/lauraemmanuella/prog1/blob/main/Prova2B_Respostas.ipynb\" target=\"_parent\"><img src=\"https://colab.research.google.com/assets/colab-badge.svg\" alt=\"Open In Colab\"/></a>"
      ]
    },
    {
      "cell_type": "markdown",
      "source": [
        "**(1.0) Questão 1.** Faça o se pede abaixo:\n",
        "\n",
        "**1.1. Crie um lista vazia**"
      ],
      "metadata": {
        "id": "BUtFkKosXN_G"
      }
    },
    {
      "cell_type": "code",
      "execution_count": null,
      "metadata": {
        "id": "SmT4XdD1XAaa"
      },
      "outputs": [],
      "source": [
        "lista = []"
      ]
    },
    {
      "cell_type": "markdown",
      "source": [
        "**1.2. Adicione os itens 9.5, 3.3, 7, 3.3 na lista**"
      ],
      "metadata": {
        "id": "oDAwiV73XVpt"
      }
    },
    {
      "cell_type": "code",
      "source": [
        "lista.append(9.5)\n",
        "lista.append(3.3)\n",
        "lista.append(7)\n",
        "lista.append(3.3)"
      ],
      "metadata": {
        "id": "raGnlVUvXyhF"
      },
      "execution_count": null,
      "outputs": []
    },
    {
      "cell_type": "markdown",
      "source": [
        "**1.3. Adicione o item 10 na posição de índice 0 e o item 30 na posição de índice 4**"
      ],
      "metadata": {
        "id": "C8fbeHZNXyqN"
      }
    },
    {
      "cell_type": "code",
      "source": [
        "lista.insert(0, 10)\n",
        "lista.insert(4, 30)"
      ],
      "metadata": {
        "id": "kMES6bOVYJDA"
      },
      "execution_count": null,
      "outputs": []
    },
    {
      "cell_type": "markdown",
      "source": [
        "**1.4. Remova o item da posição 1**"
      ],
      "metadata": {
        "id": "5dFO-ql1YqOc"
      }
    },
    {
      "cell_type": "code",
      "source": [
        "lista.pop(1)"
      ],
      "metadata": {
        "colab": {
          "base_uri": "https://localhost:8080/"
        },
        "id": "5dCLYaFKYqZ5",
        "outputId": "6d095a1f-5984-46c5-c564-14fbd5d169ba"
      },
      "execution_count": null,
      "outputs": [
        {
          "output_type": "execute_result",
          "data": {
            "text/plain": [
              "9.5"
            ]
          },
          "metadata": {},
          "execution_count": 6
        }
      ]
    },
    {
      "cell_type": "markdown",
      "source": [
        "**1.5. Remova todas as ocorrências do item 3.3**"
      ],
      "metadata": {
        "id": "e2PV1IZr0vSs"
      }
    },
    {
      "cell_type": "code",
      "source": [
        "while 3.3 in lista:\n",
        "  lista.remove(3.3)"
      ],
      "metadata": {
        "id": "oDme_J-B0vgM"
      },
      "execution_count": null,
      "outputs": []
    },
    {
      "cell_type": "markdown",
      "source": [
        "**(1.0) Questão 2.** Faça o que se pede abaixo:"
      ],
      "metadata": {
        "id": "HHCiMLYe1ZSH"
      }
    },
    {
      "cell_type": "code",
      "source": [
        "entrada = 'todo mundo neste país deveria aprender a programar porque isso te ensina a pensar'"
      ],
      "metadata": {
        "id": "ohn7ofXx2FuH"
      },
      "execution_count": null,
      "outputs": []
    },
    {
      "cell_type": "markdown",
      "source": [
        "**2.1. Mostre o tamanho da entrada:**"
      ],
      "metadata": {
        "id": "BRrX3MZX8Au7"
      }
    },
    {
      "cell_type": "code",
      "source": [
        "len(entrada)"
      ],
      "metadata": {
        "colab": {
          "base_uri": "https://localhost:8080/"
        },
        "id": "ek50nIkQ8DTh",
        "outputId": "2a2a7212-a5ca-4ce2-dd22-a2f9512d49ad"
      },
      "execution_count": null,
      "outputs": [
        {
          "output_type": "execute_result",
          "data": {
            "text/plain": [
              "81"
            ]
          },
          "metadata": {},
          "execution_count": 21
        }
      ]
    },
    {
      "cell_type": "markdown",
      "source": [
        "**2.2. Mostre a quantidade de palavras na entrada:**"
      ],
      "metadata": {
        "id": "68bJSLTH8Js3"
      }
    },
    {
      "cell_type": "code",
      "source": [
        "len(entrada.split())"
      ],
      "metadata": {
        "colab": {
          "base_uri": "https://localhost:8080/"
        },
        "id": "bucXZOA88PDk",
        "outputId": "441555b8-7092-427c-9ada-d13ee13158e2"
      },
      "execution_count": null,
      "outputs": [
        {
          "output_type": "execute_result",
          "data": {
            "text/plain": [
              "14"
            ]
          },
          "metadata": {},
          "execution_count": 22
        }
      ]
    },
    {
      "cell_type": "markdown",
      "source": [
        "**2.3. Crie uma lista com todas as palavras da entrada terminadas com 'r'**"
      ],
      "metadata": {
        "id": "KadghtrZ54fe"
      }
    },
    {
      "cell_type": "code",
      "source": [
        "saida = []\n",
        "for i in entrada.split():\n",
        "  if i[-1].lower() == 'r':\n",
        "    saida.append(i)\n",
        "print(saida)"
      ],
      "metadata": {
        "colab": {
          "base_uri": "https://localhost:8080/"
        },
        "id": "md5KmsaB57km",
        "outputId": "850514ab-bb8b-4edf-9ac1-2bb0510d61e1"
      },
      "execution_count": null,
      "outputs": [
        {
          "output_type": "stream",
          "name": "stdout",
          "text": [
            "['aprender', 'programar', 'pensar']\n"
          ]
        }
      ]
    },
    {
      "cell_type": "markdown",
      "source": [
        "**2.4. Crie uma nova string sem a primeira e a última palavras da entrada**"
      ],
      "metadata": {
        "id": "21E4f1ta5_Br"
      }
    },
    {
      "cell_type": "code",
      "source": [
        "saida = entrada[4:-6]\n",
        "print(saida)"
      ],
      "metadata": {
        "colab": {
          "base_uri": "https://localhost:8080/"
        },
        "id": "_frTHJcP6Rs_",
        "outputId": "e3bcdb87-1e54-47a6-e191-6c30c5e3e535"
      },
      "execution_count": null,
      "outputs": [
        {
          "output_type": "stream",
          "name": "stdout",
          "text": [
            " mundo neste país deveria aprender a programar porque isso te ensina a \n"
          ]
        }
      ]
    },
    {
      "cell_type": "markdown",
      "source": [
        "**2.5. Crie uma lista com as palavras da entrada em ordem alfabética**"
      ],
      "metadata": {
        "id": "s2prDWi384gJ"
      }
    },
    {
      "cell_type": "code",
      "source": [
        "saida = entrada.split()\n",
        "saida.sort()\n",
        "print(saida)"
      ],
      "metadata": {
        "colab": {
          "base_uri": "https://localhost:8080/"
        },
        "id": "4YFupM22845I",
        "outputId": "e5adbeec-6864-447b-ec74-0abfb5661799"
      },
      "execution_count": null,
      "outputs": [
        {
          "output_type": "stream",
          "name": "stdout",
          "text": [
            "['a', 'a', 'aprender', 'deveria', 'ensina', 'isso', 'mundo', 'neste', 'país', 'pensar', 'porque', 'programar', 'te', 'todo']\n"
          ]
        }
      ]
    },
    {
      "cell_type": "markdown",
      "source": [
        "**(1.0) Questão 3.** Faça o que se pede abaixo:"
      ],
      "metadata": {
        "id": "8XNSbmWX4Vje"
      }
    },
    {
      "cell_type": "markdown",
      "source": [
        "**3.1. Crie uma string com as palavras da lista abaixo:**"
      ],
      "metadata": {
        "id": "rAgTULIbZ_7a"
      }
    },
    {
      "cell_type": "code",
      "source": [
        "lista = ['Ana', 'Maria', 'Silva', 'Souza']\n",
        "saida = ''\n",
        "for i in lista:\n",
        "  saida = saida + ' ' + i\n",
        "print(saida)"
      ],
      "metadata": {
        "colab": {
          "base_uri": "https://localhost:8080/"
        },
        "id": "u-4fR0wZ4Gfc",
        "outputId": "e71c752a-41ca-41a6-b36a-f48cf663394d"
      },
      "execution_count": null,
      "outputs": [
        {
          "output_type": "stream",
          "name": "stdout",
          "text": [
            " Ana Maria Silva Souza\n"
          ]
        }
      ]
    },
    {
      "cell_type": "markdown",
      "source": [
        "**3.2. Mostre os itens da matriz, como no exemplo abaixo:**"
      ],
      "metadata": {
        "id": "8hr1mU7zWo7m"
      }
    },
    {
      "cell_type": "code",
      "source": [
        "matriz = [[10, 20, 30],[11, 21, 31],[100, 200, 300]]\n",
        "\n",
        "for linha in matriz:\n",
        "  for item in linha:\n",
        "    print(item)"
      ],
      "metadata": {
        "colab": {
          "base_uri": "https://localhost:8080/"
        },
        "id": "owmYs30CWUa6",
        "outputId": "da240826-e0af-4ce1-8609-239abf6188e1"
      },
      "execution_count": null,
      "outputs": [
        {
          "output_type": "stream",
          "name": "stdout",
          "text": [
            "10\n",
            "20\n",
            "30\n",
            "11\n",
            "21\n",
            "31\n",
            "100\n",
            "200\n",
            "300\n"
          ]
        }
      ]
    }
  ]
}
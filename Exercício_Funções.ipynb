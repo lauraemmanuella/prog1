{
  "nbformat": 4,
  "nbformat_minor": 0,
  "metadata": {
    "colab": {
      "name": "Exercício Funções.ipynb",
      "provenance": [],
      "collapsed_sections": [],
      "authorship_tag": "ABX9TyP+ZCDs2q9jZGBWFsTl4yZW",
      "include_colab_link": true
    },
    "kernelspec": {
      "name": "python3",
      "display_name": "Python 3"
    },
    "language_info": {
      "name": "python"
    }
  },
  "cells": [
    {
      "cell_type": "markdown",
      "metadata": {
        "id": "view-in-github",
        "colab_type": "text"
      },
      "source": [
        "<a href=\"https://colab.research.google.com/github/lauraemmanuella/prog1/blob/main/Exerc%C3%ADcio_Fun%C3%A7%C3%B5es.ipynb\" target=\"_parent\"><img src=\"https://colab.research.google.com/assets/colab-badge.svg\" alt=\"Open In Colab\"/></a>"
      ]
    },
    {
      "cell_type": "markdown",
      "source": [
        "#Exercício\n",
        "\n",
        "> **Complete o programa abaixo** para executar um jogo que receba nome e aposta de até 6 jogadores. Simule o laçamento de um dado e verifique qual jogador acertou. \n",
        "\n",
        "Observe o exemplo de execução."
      ],
      "metadata": {
        "id": "hb9HDyPnsRbA"
      }
    },
    {
      "cell_type": "code",
      "execution_count": null,
      "metadata": {
        "colab": {
          "base_uri": "https://localhost:8080/"
        },
        "id": "U-1G8m50ovvo",
        "outputId": "8a0c7394-1a9d-4dc2-a8ee-bc5e18df2bce"
      },
      "outputs": [
        {
          "output_type": "stream",
          "name": "stdout",
          "text": [
            "Defina a quantidade de jogadores: 4\n",
            "\n",
            "Informe o nome do jogador 1: Laura\n",
            "Laura, informe sua aposta: 5\n",
            "\n",
            "Informe o nome do jogador 2: Lívia\n",
            "Lívia, informe sua aposta: 6\n",
            "\n",
            "Informe o nome do jogador 3: Gabriel\n",
            "Gabriel, informe sua aposta: 1\n",
            "\n",
            "Informe o nome do jogador 4: George\n",
            "George, informe sua aposta: 2\n",
            "\n",
            "Dado = 6\n",
            "\n",
            "Lívia venceu!\n"
          ]
        }
      ],
      "source": [
        "import random\n",
        "\n",
        "jogadores = [] #nomes dos jogadores\n",
        "apostas = [] #apostas dos jogadores\n",
        "\n",
        "def definir_apostas():\n",
        "  #implemente aqui \n",
        "\n",
        "def lancar_dado():\n",
        "  #implemente aqui \n",
        "\n",
        "def definir_vencedor(dado):\n",
        "  #implemente aqui \n",
        "  \n",
        "def main():\n",
        "  definir_apostas()\n",
        "  d = lancar_dado()\n",
        "  definir_vencedor(d)\n",
        "\n",
        "main() #Exercuta a função main()"
      ]
    }
  ]
}
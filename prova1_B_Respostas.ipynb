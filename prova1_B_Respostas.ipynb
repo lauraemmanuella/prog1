{
  "nbformat": 4,
  "nbformat_minor": 0,
  "metadata": {
    "colab": {
      "name": "prova1-B-Respostas.ipynb",
      "provenance": [],
      "collapsed_sections": [],
      "authorship_tag": "ABX9TyPWI3NHsG3pjs8OW9Q/3i1I",
      "include_colab_link": true
    },
    "kernelspec": {
      "name": "python3",
      "display_name": "Python 3"
    },
    "language_info": {
      "name": "python"
    }
  },
  "cells": [
    {
      "cell_type": "markdown",
      "metadata": {
        "id": "view-in-github",
        "colab_type": "text"
      },
      "source": [
        "<a href=\"https://colab.research.google.com/github/lauraemmanuella/prog1/blob/main/prova1_B_Respostas.ipynb\" target=\"_parent\"><img src=\"https://colab.research.google.com/assets/colab-badge.svg\" alt=\"Open In Colab\"/></a>"
      ]
    },
    {
      "cell_type": "markdown",
      "source": [
        "# Prova 1B \n",
        "\n",
        "> Programação Computacional I - 2022.1"
      ],
      "metadata": {
        "id": "wWUI-KiLrJwh"
      }
    },
    {
      "cell_type": "markdown",
      "source": [
        "**Questão 1:** Faça um programa que receba do usuário um número inteiro positivo (n) e mostre o somatório da seguinte sequência:\n",
        "\n",
        "> `S = 1/1 + 1/2 + 1/3 + ... + 1/n`"
      ],
      "metadata": {
        "id": "_vxg27XZ6L0P"
      }
    },
    {
      "cell_type": "code",
      "source": [
        "num = int(input('Informe um número inteiro positivo: '))\n",
        "i = 1\n",
        "s = 0\n",
        "while i <= num:\n",
        "  #print(f'{1/i:.2f}')\n",
        "  s = s + 1/i\n",
        "  i += 1\n",
        "print(f'S = {s:.2f}')\n",
        "#Exemplo de execução"
      ],
      "metadata": {
        "colab": {
          "base_uri": "https://localhost:8080/"
        },
        "id": "Q0SNFA_tnRp5",
        "outputId": "60616cfa-3994-4e69-b9b7-e628636429b8"
      },
      "execution_count": null,
      "outputs": [
        {
          "output_type": "stream",
          "name": "stdout",
          "text": [
            "Informe um número inteiro positivo: 5\n",
            "S = 2.28\n"
          ]
        }
      ]
    },
    {
      "cell_type": "markdown",
      "source": [
        "**Questão 2:** Faça um programa que receba números inteiros como entrada até receber um número maior que 100. O programa deverá mostrar como saída a quantidade de números negativos lidos e o menor número lido."
      ],
      "metadata": {
        "id": "O672FHyP2kE2"
      }
    },
    {
      "cell_type": "code",
      "source": [
        "menor = 101\n",
        "cont = 0\n",
        "while True:\n",
        "  num = int(input('Informe um número inteiro: '))\n",
        "  if num > 100:\n",
        "    break\n",
        "  if num < menor:\n",
        "    menor = num\n",
        "  if num < 0:\n",
        "    cont += 1\n",
        "\n",
        "print(f'Foram lidos {cont} números negativos. O menor valor lido foi: {menor}')\n",
        "#Exemplo de execução"
      ],
      "metadata": {
        "colab": {
          "base_uri": "https://localhost:8080/"
        },
        "id": "ybtJ22wlK7bJ",
        "outputId": "e886f800-d357-4f9e-88c0-554ffebea9ea"
      },
      "execution_count": null,
      "outputs": [
        {
          "output_type": "stream",
          "name": "stdout",
          "text": [
            "Informe um número inteiro: -1\n",
            "Informe um número inteiro: -2\n",
            "Informe um número inteiro: 3\n",
            "Informe um número inteiro: 4\n",
            "Informe um número inteiro: -5\n",
            "Informe um número inteiro: 100\n",
            "Informe um número inteiro: 101\n",
            "Foram lidos 3 números negativos. O menor valor lido foi: -5\n"
          ]
        }
      ]
    },
    {
      "cell_type": "markdown",
      "source": [
        "**Questão 3:** Faça um programa que calcule o valor da expressão a seguir. \n",
        "\n",
        ">Considere que os valores de n e m serão fornecidos pelo usuário.\n",
        "\n",
        "![somatorio.png](data:image/png;base64,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)"
      ],
      "metadata": {
        "id": "AtyHeMSJDapa"
      }
    },
    {
      "cell_type": "code",
      "source": [
        "n = int(input('Informe o valor de n: '))\n",
        "m = int(input('Informe o valor de m: '))\n",
        "i = 1\n",
        "soma = 0\n",
        "while i <= n:\n",
        "  j = 1 \n",
        "  print(f'\\ni = {i}\\n')\n",
        "  while j <= m:\n",
        "    print(f'j = {j}')\n",
        "    soma = soma + (i+j)\n",
        "    j += 1\n",
        "  i += 1\n",
        "print(f'Somatório = {soma}')\n",
        "#Exemplo de execução"
      ],
      "metadata": {
        "colab": {
          "base_uri": "https://localhost:8080/"
        },
        "id": "Ni3LEWI3OroP",
        "outputId": "3001f20d-12a0-4e63-f667-2be1ce4a501e"
      },
      "execution_count": 3,
      "outputs": [
        {
          "output_type": "stream",
          "name": "stdout",
          "text": [
            "Informe o valor de n: 3\n",
            "Informe o valor de m: 2\n",
            "\n",
            "i = 1\n",
            "\n",
            "j = 1\n",
            "j = 2\n",
            "\n",
            "i = 2\n",
            "\n",
            "j = 1\n",
            "j = 2\n",
            "\n",
            "i = 3\n",
            "\n",
            "j = 1\n",
            "j = 2\n",
            "Somatório = 21\n"
          ]
        }
      ]
    },
    {
      "cell_type": "markdown",
      "source": [
        "**Questão 4:** Faça um programa que receba a idade de 10 pessoas. O programa deverá mostrar como saída a quantidade de pessoas jovens [0-18], adultas [19-59] e idosas [60-...], como no exemplo de execução abaixo:\n",
        "\n",
        "> OBS: Para mostrar o contator no input, basta usar o F-String igual no print. Exemplo: \n",
        "\n",
        "`idade = int(input(f'Informe a idade da pessoa {i}: '))`"
      ],
      "metadata": {
        "id": "6Rl_eoOTn9yz"
      }
    },
    {
      "cell_type": "code",
      "source": [
        "i = 1\n",
        "jovem = adulto = idoso = 0\n",
        "while i <= 10:\n",
        "  idade = int(input(f'Informe a idade da pessoa {i}: '))\n",
        "  if 0 <= idade <= 18:\n",
        "    jovem += 1\n",
        "  elif 19 <= idade <= 59:\n",
        "    adulto += 1\n",
        "  elif idade >= 60:\n",
        "    idoso += 1\n",
        "  i += 1\n",
        "\n",
        "print(f'Jovem = {jovem}\\nAdulto = {adulto}\\nIdoso = {idoso}')\n",
        "#Exemplo de execução"
      ],
      "metadata": {
        "colab": {
          "base_uri": "https://localhost:8080/"
        },
        "id": "mgAFX1BNn99L",
        "outputId": "2b89f1ca-536e-436c-d32e-7487b808f231"
      },
      "execution_count": null,
      "outputs": [
        {
          "output_type": "stream",
          "name": "stdout",
          "text": [
            "Informe a idade da pessoa 1: 12\n",
            "Informe a idade da pessoa 2: 89\n",
            "Informe a idade da pessoa 3: 65\n",
            "Informe a idade da pessoa 4: 3\n",
            "Informe a idade da pessoa 5: 20\n",
            "Informe a idade da pessoa 6: 30\n",
            "Informe a idade da pessoa 7: 40\n",
            "Informe a idade da pessoa 8: 10\n",
            "Informe a idade da pessoa 9: 90\n",
            "Informe a idade da pessoa 10: 76\n",
            "Jovem = 3\n",
            "Adulto = 3\n",
            "Idoso = 4\n"
          ]
        }
      ]
    }
  ]
}
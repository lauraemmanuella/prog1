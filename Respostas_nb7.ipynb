{
  "nbformat": 4,
  "nbformat_minor": 0,
  "metadata": {
    "colab": {
      "name": "Respostas_nb7.ipynb",
      "provenance": [],
      "collapsed_sections": [],
      "authorship_tag": "ABX9TyOdVyhz0wnuTBtjdjVnDAzI",
      "include_colab_link": true
    },
    "kernelspec": {
      "name": "python3",
      "display_name": "Python 3"
    },
    "language_info": {
      "name": "python"
    }
  },
  "cells": [
    {
      "cell_type": "markdown",
      "metadata": {
        "id": "view-in-github",
        "colab_type": "text"
      },
      "source": [
        "<a href=\"https://colab.research.google.com/github/lauraemmanuella/prog1/blob/main/Respostas_nb7.ipynb\" target=\"_parent\"><img src=\"https://colab.research.google.com/assets/colab-badge.svg\" alt=\"Open In Colab\"/></a>"
      ]
    },
    {
      "cell_type": "markdown",
      "source": [
        "##Exercícios"
      ],
      "metadata": {
        "id": "LdvlDA7Ysr6n"
      }
    },
    {
      "cell_type": "markdown",
      "source": [
        "1. Imprima o valor 2 da lista abaixo:"
      ],
      "metadata": {
        "id": "yac6caPZ4n-I"
      }
    },
    {
      "cell_type": "code",
      "execution_count": null,
      "metadata": {
        "id": "8GM6yD7d4n-Y"
      },
      "outputs": [],
      "source": [
        "lista = [1, 1, [1,2]]"
      ]
    },
    {
      "cell_type": "code",
      "source": [
        "print(lista[2][1])"
      ],
      "metadata": {
        "colab": {
          "base_uri": "https://localhost:8080/"
        },
        "id": "w4FNPv8p5Lyp",
        "outputId": "0f2b8aaf-f621-42b2-ad59-62a970fcbfa2"
      },
      "execution_count": null,
      "outputs": [
        {
          "output_type": "stream",
          "name": "stdout",
          "text": [
            "2\n"
          ]
        }
      ]
    },
    {
      "cell_type": "markdown",
      "source": [
        "2. Dada a matriz abaixo, gere uma lista que seja cada elemento da segunda linha multiplicado por 100 (**use compreensão de listas**)"
      ],
      "metadata": {
        "id": "pCrnMxeI0tCN"
      }
    },
    {
      "cell_type": "code",
      "source": [
        "matriz = [[13,7, 9], [2, 6, 1], [8, 3, 4]]"
      ],
      "metadata": {
        "id": "B3NT3TVr2JcN"
      },
      "execution_count": null,
      "outputs": []
    },
    {
      "cell_type": "code",
      "source": [
        "#SEM COMPREENSÃO DE LISTAS\n",
        "lista = []\n",
        "for i in matriz[1]:\n",
        "  lista.append(i* 100) \n",
        "print(lista)"
      ],
      "metadata": {
        "colab": {
          "base_uri": "https://localhost:8080/"
        },
        "id": "NhF9abYT_fUm",
        "outputId": "fcdb7081-4a8e-4821-ff0d-b7a6e2aa2817"
      },
      "execution_count": null,
      "outputs": [
        {
          "output_type": "stream",
          "name": "stdout",
          "text": [
            "[200, 600, 100]\n"
          ]
        }
      ]
    },
    {
      "cell_type": "code",
      "source": [
        "#COM COMPREENSÃO DE LISTAS\n",
        "lista = [i * 100 for i in matriz[1]]\n",
        "\n",
        "print(lista)"
      ],
      "metadata": {
        "colab": {
          "base_uri": "https://localhost:8080/"
        },
        "id": "CPc1TMirsthB",
        "outputId": "13d104b1-7b4a-4195-fcce-06dc7abbb400"
      },
      "execution_count": null,
      "outputs": [
        {
          "output_type": "stream",
          "name": "stdout",
          "text": [
            "[200, 600, 100]\n"
          ]
        }
      ]
    },
    {
      "cell_type": "markdown",
      "source": [
        "3. Preencha uma lista com as representações em Fahrenheit da seguintes temperaturas usando compreensão de listas"
      ],
      "metadata": {
        "id": "r41JEywl1N_l"
      }
    },
    {
      "cell_type": "code",
      "source": [
        "celsius = [0,10,20.1,34.5]"
      ],
      "metadata": {
        "id": "9CdiNu6z2HW3"
      },
      "execution_count": null,
      "outputs": []
    },
    {
      "cell_type": "code",
      "source": [
        "#SEM COMPREENSÃO DE LISTAS\n",
        "far = []\n",
        "for c in celsius:\n",
        "  far.append(c * 1.8 + 32)\n",
        "print(far)"
      ],
      "metadata": {
        "colab": {
          "base_uri": "https://localhost:8080/"
        },
        "id": "v3j1uuMk_ywH",
        "outputId": "9e5bcf2a-c7e1-4610-bac1-59fc41b58066"
      },
      "execution_count": null,
      "outputs": [
        {
          "output_type": "stream",
          "name": "stdout",
          "text": [
            "[32.0, 50.0, 68.18, 94.1]\n"
          ]
        }
      ]
    },
    {
      "cell_type": "code",
      "source": [
        "#COM COMPREENSÃO DE LISTAS\n",
        "far = [c * 1.8 + 32 for c in celsius]\n",
        "\n",
        "print(far)"
      ],
      "metadata": {
        "colab": {
          "base_uri": "https://localhost:8080/"
        },
        "id": "enqeA-h91S2e",
        "outputId": "bdcc8421-dca0-493a-e570-fd073f12bf97"
      },
      "execution_count": null,
      "outputs": [
        {
          "output_type": "stream",
          "name": "stdout",
          "text": [
            "[32.0, 50.0, 68.18, 94.1]\n"
          ]
        }
      ]
    },
    {
      "cell_type": "markdown",
      "source": [
        "4. Usando compreensão de listas, crie uma lista com as primeiras letras de cada palavra da frase abaixo:\n",
        "\n",
        "> Dica: use o método split() das strings para quebras as palavras da frase"
      ],
      "metadata": {
        "id": "gPaApRzh2-bb"
      }
    },
    {
      "cell_type": "code",
      "source": [
        "frase = 'create a list of the first letters of every word in this string'"
      ],
      "metadata": {
        "id": "8KSC68SR3QLx"
      },
      "execution_count": null,
      "outputs": []
    },
    {
      "cell_type": "code",
      "source": [
        "#SEM COMPREENSÃO DE LISTAS\n",
        "primeiras = []\n",
        "for i in frase.split():\n",
        "  primeiras.append(i[0])\n",
        "print(primeiras)"
      ],
      "metadata": {
        "colab": {
          "base_uri": "https://localhost:8080/"
        },
        "id": "Gb3DpnZrAA0l",
        "outputId": "a0ae29de-048b-4158-f7bc-e09b9f5496d5"
      },
      "execution_count": null,
      "outputs": [
        {
          "output_type": "stream",
          "name": "stdout",
          "text": [
            "['c', 'a', 'l', 'o', 't', 'f', 'l', 'o', 'e', 'w', 'i', 't', 's']\n"
          ]
        }
      ]
    },
    {
      "cell_type": "code",
      "source": [
        "#COM COMPREENSÃO DE LISTAS\n",
        "primeiras = [i[0] for i in frase.split()]\n",
        "print(primeiras)"
      ],
      "metadata": {
        "colab": {
          "base_uri": "https://localhost:8080/"
        },
        "id": "0GPU73UQ3MRz",
        "outputId": "8f22a7fa-2e2c-459e-deb2-4897973787a0"
      },
      "execution_count": null,
      "outputs": [
        {
          "output_type": "stream",
          "name": "stdout",
          "text": [
            "['c', 'a', 'l', 'o', 't', 'f', 'l', 'o', 'e', 'w', 'i', 't', 's']\n"
          ]
        }
      ]
    },
    {
      "cell_type": "markdown",
      "source": [
        "**DESAFIO:** Crie uma string com os caracteres da lista acima"
      ],
      "metadata": {
        "id": "fJKvu2yH3sld"
      }
    },
    {
      "cell_type": "code",
      "source": [
        "palavra = ''\n",
        "for i in primeiras:\n",
        "  palavra = palavra + i\n",
        "\n",
        "print(palavra)"
      ],
      "metadata": {
        "colab": {
          "base_uri": "https://localhost:8080/"
        },
        "id": "adzINWrS3fAw",
        "outputId": "7e55990d-fa1e-404b-95a3-4fa2a1e9c1b4"
      },
      "execution_count": null,
      "outputs": [
        {
          "output_type": "stream",
          "name": "stdout",
          "text": [
            "calotfloewits\n"
          ]
        }
      ]
    },
    {
      "cell_type": "markdown",
      "source": [
        "5. Usando compreensão de listas, crie uma lista apenas com as palavras que começam com s na frase abaixo:"
      ],
      "metadata": {
        "id": "cvTTB9xy1bZX"
      }
    },
    {
      "cell_type": "code",
      "source": [
        "frase = 'print only the words that start with s in this sentence'"
      ],
      "metadata": {
        "id": "vFypWzBn2CZ_"
      },
      "execution_count": null,
      "outputs": []
    },
    {
      "cell_type": "code",
      "source": [
        "#SEM COMPREENSÃO DE LISTAS\n",
        "words = []\n",
        "for i in frase.split():\n",
        "  if i[0] == 's':\n",
        "    words.append(i)\n",
        "print(words)"
      ],
      "metadata": {
        "colab": {
          "base_uri": "https://localhost:8080/"
        },
        "id": "ou6yYuxkAQ49",
        "outputId": "2ca07322-6cc2-42b1-b66d-9c6c9cd6c69f"
      },
      "execution_count": null,
      "outputs": [
        {
          "output_type": "stream",
          "name": "stdout",
          "text": [
            "['start', 's', 'sentence']\n"
          ]
        }
      ]
    },
    {
      "cell_type": "code",
      "source": [
        "#COM COMPREENSÃO DE LISTAS\n",
        "words = [i for i in frase.split() if i[0] == 's']\n",
        "print(words)"
      ],
      "metadata": {
        "colab": {
          "base_uri": "https://localhost:8080/"
        },
        "id": "VXeEpd1M2LAO",
        "outputId": "145ce11c-83db-4747-90e3-05e4d636c4ae"
      },
      "execution_count": null,
      "outputs": [
        {
          "output_type": "stream",
          "name": "stdout",
          "text": [
            "['start', 's', 'sentence']\n"
          ]
        }
      ]
    },
    {
      "cell_type": "markdown",
      "source": [
        "6. Adapte o código acima para que ele mostre as palavras que possuem s em qualquer posição"
      ],
      "metadata": {
        "id": "RQxgzXAN2a1A"
      }
    },
    {
      "cell_type": "code",
      "source": [
        "#SEM COMPREENSÃO DE LISTAS\n",
        "words = []\n",
        "for i in frase.split():\n",
        "  if 's' in i:\n",
        "    words.append(i)\n",
        "print(words)"
      ],
      "metadata": {
        "colab": {
          "base_uri": "https://localhost:8080/"
        },
        "id": "cQtQgdOzAeXe",
        "outputId": "bc4bbbf4-b072-4d65-956e-6719201fa8af"
      },
      "execution_count": null,
      "outputs": [
        {
          "output_type": "stream",
          "name": "stdout",
          "text": [
            "['words', 'start', 's', 'this', 'sentence']\n"
          ]
        }
      ]
    },
    {
      "cell_type": "code",
      "source": [
        "#COM COMPREENSÃO DE LISTAS\n",
        "words = [i for i in frase.split() if 's' in i]\n",
        "print(words)"
      ],
      "metadata": {
        "colab": {
          "base_uri": "https://localhost:8080/"
        },
        "id": "tlQXM-YZ2hGR",
        "outputId": "78ac405e-72cd-4e7e-d614-4ec058a347da"
      },
      "execution_count": null,
      "outputs": [
        {
          "output_type": "stream",
          "name": "stdout",
          "text": [
            "['words', 'start', 's', 'this', 'sentence']\n"
          ]
        }
      ]
    }
  ]
}
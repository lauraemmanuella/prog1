{
  "nbformat": 4,
  "nbformat_minor": 0,
  "metadata": {
    "colab": {
      "name": "Respostas_nb2.ipynb",
      "provenance": [],
      "collapsed_sections": [],
      "authorship_tag": "ABX9TyOjx2rIOfMD9GO3m7Ig0zC3",
      "include_colab_link": true
    },
    "kernelspec": {
      "name": "python3",
      "display_name": "Python 3"
    },
    "language_info": {
      "name": "python"
    }
  },
  "cells": [
    {
      "cell_type": "markdown",
      "metadata": {
        "id": "view-in-github",
        "colab_type": "text"
      },
      "source": [
        "<a href=\"https://colab.research.google.com/github/lauraemmanuella/prog1/blob/main/Respostas_nb2.ipynb\" target=\"_parent\"><img src=\"https://colab.research.google.com/assets/colab-badge.svg\" alt=\"Open In Colab\"/></a>"
      ]
    },
    {
      "cell_type": "markdown",
      "source": [
        "## Exercícios Condicional\n",
        "\n",
        "\n",
        "---\n",
        "\n"
      ],
      "metadata": {
        "id": "SJTO2YR4VR_f"
      }
    },
    {
      "cell_type": "markdown",
      "source": [
        "1. Implemente um algoritmo que receba um número e diga se este número está no intervalo entre 100 e 200"
      ],
      "metadata": {
        "id": "hj_g5OkHVY08"
      }
    },
    {
      "cell_type": "code",
      "source": [
        "num = float(input('Informe um número: '))\n",
        "if 100 <= num <= 200: # num >= 100 and num >= 200\n",
        "  print('O número informado está entre 100 e 200')"
      ],
      "metadata": {
        "id": "_Zum9VUUVSLM",
        "colab": {
          "base_uri": "https://localhost:8080/"
        },
        "outputId": "ba86dcd9-74cd-4aa6-b0f7-8c9d362ca557"
      },
      "execution_count": null,
      "outputs": [
        {
          "output_type": "stream",
          "name": "stdout",
          "text": [
            "Informe um número: 100.3\n",
            "O número informado está entre 100 e 200\n"
          ]
        }
      ]
    },
    {
      "cell_type": "markdown",
      "source": [
        "2. Implemente um algoritmo que receba o ano de nascimento de uma pessoa e informe se ela é: Jovem (0 a 18 anos); Adulta (19 a 59 anos) ou Idosa (acima de 60 anos)"
      ],
      "metadata": {
        "id": "6yrxS7nKV73b"
      }
    },
    {
      "cell_type": "code",
      "source": [
        "nasc = int(input('Informe o ano de nascimento da pessoa: '))\n",
        "idade = 2022 - nasc\n",
        "if 0 <= idade <= 18:\n",
        "  print('Jovem')\n",
        "elif 19 <= idade <= 59:\n",
        "  print('Adulta')\n",
        "elif idade >= 60:\n",
        "  print('Idosa')\n",
        "else:\n",
        "  print('Entrada inválida')"
      ],
      "metadata": {
        "id": "x0FKd67ha55m",
        "colab": {
          "base_uri": "https://localhost:8080/"
        },
        "outputId": "f57b22d3-980f-4730-dc1a-4e0331190357"
      },
      "execution_count": null,
      "outputs": [
        {
          "output_type": "stream",
          "name": "stdout",
          "text": [
            "Informe o ano de nascimento da pessoa: 2050\n",
            "Entrada inválida\n"
          ]
        }
      ]
    },
    {
      "cell_type": "markdown",
      "source": [
        "3. Faça um programa que receba o sexo e a altura (em metros) de uma pessoa e calcule e mostre seu peso ideal, utilizando as seguintes fórmulas (onde h é altura):\n",
        "\n",
        ">Para homens: (72.7 * h) – 58\n",
        "\n",
        ">Para mulheres: (62.1 * h) – 44.7"
      ],
      "metadata": {
        "id": "WiMoOz59WLzN"
      }
    },
    {
      "cell_type": "code",
      "source": [
        "sexo = input('Digite F para Feminino ou M para Masculino: ')\n",
        "h = float(input('Informe a altura da pessoa: '))\n",
        "\n",
        "if sexo == 'M' or sexo == 'm':\n",
        "  peso = 72.7 * h - 58\n",
        "elif sexo == 'F' or sexo == 'f':\n",
        "  peso = 62.1 * h - 44.7\n",
        "else:\n",
        "  peso = 0\n",
        "  print('Entrada inválida')\n",
        "\n",
        "print(f'Peso ideal: {peso:.2f}')"
      ],
      "metadata": {
        "id": "eFEzJQhuaXIe",
        "colab": {
          "base_uri": "https://localhost:8080/"
        },
        "outputId": "9989ca70-f631-4509-cf29-986fb860c391"
      },
      "execution_count": null,
      "outputs": [
        {
          "output_type": "stream",
          "name": "stdout",
          "text": [
            "Digite F para Feminino ou M para Masculino: a\n",
            "Informe a altura da pessoa: 2.44\n",
            "Entrada inválida\n",
            "Peso ideal: 0.00\n"
          ]
        }
      ]
    },
    {
      "cell_type": "markdown",
      "source": [
        "4. Faça um programa que leia três valores inteiros (`a, b e c`) que representam os lados de um triângulo. Verifique se esses valores formam um triângulo `(|b – c| < a < b + c)` e indique se ele é equilátero (3 lados iguais), escaleno (3 lados diferentes) ou isósceles (2 lados iguais e 1 diferente).\n",
        "\n",
        "> Obs: `|b-c|` significa o valor absoluto de `b-c` (sem sinal)"
      ],
      "metadata": {
        "id": "wapTbSP2Wo-p"
      }
    },
    {
      "cell_type": "code",
      "source": [
        "a = int(input('Informe o valor a: '))\n",
        "b = int(input('Informe o valor b: '))\n",
        "c = int(input('Informe o valor c: '))\n",
        "\n",
        "triangulo = abs(b-c) < a < (b+c)\n",
        "\n",
        "if triangulo:\n",
        "  if a == b and b == c:\n",
        "    print('Triângulo equilátero')\n",
        "  elif a != b and b != c and a != c:\n",
        "    print('Triângulo escaleno')\n",
        "  else:\n",
        "    print('Triângulo isósceles')\n",
        "else:\n",
        "  print('Não é triângulo')"
      ],
      "metadata": {
        "id": "xjoBiyH_ZrWx",
        "colab": {
          "base_uri": "https://localhost:8080/"
        },
        "outputId": "ad0fb9af-7163-4fc3-c611-5b74d5364309"
      },
      "execution_count": null,
      "outputs": [
        {
          "output_type": "stream",
          "name": "stdout",
          "text": [
            "Informe o valor a: 4\n",
            "Informe o valor b: 4\n",
            "Informe o valor c: 4\n",
            "Triângulo equilátero\n"
          ]
        }
      ]
    },
    {
      "cell_type": "markdown",
      "source": [
        "5. Implemente um algoritmo que efetue a leitura de 3 valores numéricos e realize o cálculo da equação completa de 2o grau, utilizando a fórmula de Bhaskara. Considere para a solução do problema que para `delta < 0` não há solução real e que a equação do 2o grau é completa quando possui todos os coeficientes diferentes de 0. Fórmulas:\n",
        "\n",
        "* `delta = b*b - 4*a*c`\n",
        "\n",
        "* `x1 = -b + sqrt(delta)/2a`\n",
        "\n",
        "* `x2 = -b - sqrt(delta)/2a`"
      ],
      "metadata": {
        "id": "qPoOtGMuZ6HG"
      }
    },
    {
      "cell_type": "code",
      "source": [
        "import math \n",
        "\n",
        "a = int(input('Informe o valor a: '))\n",
        "b = int(input('Informe o valor b: '))\n",
        "c = int(input('Informe o valor c: '))\n",
        "\n",
        "delta = b*b - 4*a*c\n",
        "print(f'Delta = {delta}')\n",
        "\n",
        "if delta < 0:\n",
        "  print('Não há solução real')\n",
        "else:\n",
        "  x1 = (-b + math.sqrt(delta)) / (2*a)\n",
        "  x2 = (-b - math.sqrt(delta)) / (2*a)\n",
        "  print(f'x1 = {x1} e x2 = {x2}')"
      ],
      "metadata": {
        "id": "5UxjNFNeaTQZ",
        "colab": {
          "base_uri": "https://localhost:8080/"
        },
        "outputId": "91edda65-e9bd-4dce-9a23-55eba950bbda"
      },
      "execution_count": null,
      "outputs": [
        {
          "output_type": "stream",
          "name": "stdout",
          "text": [
            "Informe o valor a: 2\n",
            "Informe o valor b: -16\n",
            "Informe o valor c: -18\n",
            "Delta = 400\n",
            "x1 = 9.0 e x2 = -1.0\n"
          ]
        }
      ]
    }
  ]
}
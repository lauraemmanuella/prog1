{
  "nbformat": 4,
  "nbformat_minor": 0,
  "metadata": {
    "colab": {
      "provenance": [],
      "authorship_tag": "ABX9TyMfW34MB+jUvxuuJ+ZralsI",
      "include_colab_link": true
    },
    "kernelspec": {
      "name": "python3",
      "display_name": "Python 3"
    },
    "language_info": {
      "name": "python"
    }
  },
  "cells": [
    {
      "cell_type": "markdown",
      "metadata": {
        "id": "view-in-github",
        "colab_type": "text"
      },
      "source": [
        "<a href=\"https://colab.research.google.com/github/lauraemmanuella/prog1/blob/main/nb10_Fun%C3%A7%C3%B5es.ipynb\" target=\"_parent\"><img src=\"https://colab.research.google.com/assets/colab-badge.svg\" alt=\"Open In Colab\"/></a>"
      ]
    },
    {
      "cell_type": "markdown",
      "source": [
        "\n",
        "# Funções\n",
        "\n",
        "\n",
        "---\n",
        "\n",
        "O que vamos ver aqui?\n",
        "\n",
        "1. Definindo funções\n",
        "2. Parâmetros opcionais\n",
        "3. Variáveis locais e globais\n",
        "4. Exercícios"
      ],
      "metadata": {
        "id": "Wx5-6piMgcbR"
      }
    },
    {
      "cell_type": "markdown",
      "source": [
        "## 1. Definindo funções\n",
        "\n",
        "Em programação, as funções são **blocos de código** que executam determinada tarefa (funcionalidade). Esses blocos de código recebem um nome para que possam ser chamados (executados) várias vezes, sempre que necessário durante a criação de um programa\n",
        "\n",
        "Até aqui já usamos várias[ funções embutidas do Python](https://docs.python.org/pt-br/3/library/functions.html). Chamamos de funções embutidas aquelas funções que estão sempre disponíveis, sem necessidade de importação, exemplos:\n",
        "\n",
        "* print()\n",
        "* input()\n",
        "* range()\n",
        "* help()\n",
        "* type()\n",
        "* len()\n",
        "* max()\n",
        "* min()\n",
        "* enumerate()\n",
        "* abs()\n",
        "\n",
        "> Cada uma dessas funções executa determinado código que já está pronto e que recebeu um nome para que pudesse ser identificado e chamado para execução\n",
        "\n",
        "Outras funções que já usamos são as funções dos módulos math e random, por exemplo.\n",
        "\n",
        "\n",
        "Também usamos um outro tipo de função (**chamado de métodos**) que são funções das estruturas de dados string e lista, por exemplo: upper(), split(), append(), etc... Os métodos são executados sobre as estruturas de dados, exemplo: `lista.append(1), nome.upper()`"
      ],
      "metadata": {
        "id": "MZySSfrXgrey"
      }
    },
    {
      "cell_type": "markdown",
      "source": [
        "\n",
        "\n",
        "\n",
        "> Agora vamos aprender a criar nossas próprias funções!\n",
        "\n",
        "\n",
        "\n",
        "\n",
        "**A sintaxe das funções é como no exemplo abaixo:**"
      ],
      "metadata": {
        "id": "ifk1jo3AuK-a"
      }
    },
    {
      "cell_type": "code",
      "source": [
        "def nome_da_funcao(arg1,arg2): #parâmetros de entrada\n",
        "    \n",
        "    # Faça coisas aqui\n",
        "\n",
        "    return # retorne o resultado desejado aqui"
      ],
      "metadata": {
        "id": "NtcRjIUTjjGS"
      },
      "execution_count": null,
      "outputs": []
    },
    {
      "cell_type": "markdown",
      "source": [
        "> As variáveis definidas dentro dos parânteses são chamadas de parâmetros\n",
        "\n",
        "**Os parâmetros servem para passar entradas para a função (assim como nas funções matemáticas!)**\n",
        "\n",
        "Podemos definir quantos parametros quiser, inclusive nenhum"
      ],
      "metadata": {
        "id": "ZR4YdVaJEUME"
      }
    },
    {
      "cell_type": "markdown",
      "source": [
        "**Exemplo:**"
      ],
      "metadata": {
        "id": "L4SPLMh8jgPx"
      }
    },
    {
      "cell_type": "code",
      "source": [
        "def soma(x, y):\n",
        "  resultado = x + y\n",
        "  return resultado"
      ],
      "metadata": {
        "id": "YhcjKaS0lHx-"
      },
      "execution_count": null,
      "outputs": []
    },
    {
      "cell_type": "markdown",
      "source": [
        "O bloco de código acima define a função. **Para usá-la é necessário chamar o nome da função e informar os parâmetros necessários**, como abaixo:"
      ],
      "metadata": {
        "id": "_pUQpn6GmRzu"
      }
    },
    {
      "cell_type": "code",
      "source": [
        "soma(456, 987) #o colab nos mostra o valor retornado pela função"
      ],
      "metadata": {
        "colab": {
          "base_uri": "https://localhost:8080/"
        },
        "id": "-b2W8igQlMhI",
        "outputId": "40ed487c-28e3-4a5c-db84-acf79c97e7a3"
      },
      "execution_count": null,
      "outputs": [
        {
          "output_type": "execute_result",
          "data": {
            "text/plain": [
              "1443"
            ]
          },
          "metadata": {},
          "execution_count": 2
        }
      ]
    },
    {
      "cell_type": "markdown",
      "source": [
        "> O return encerra a função, devolvendo um valor. No caso do exemplo acima, a função soma retorna o valor do resultado.\n",
        "\n",
        "**Esse valor retornado é devolvido ao chamarmos a função**. Observe que quando executamos a função soma, o Colab mostra o resultado. Podemos salvar esse retorno em uma variável ou mostrar em um print, por exemplo."
      ],
      "metadata": {
        "id": "JaPDmrnZFn7r"
      }
    },
    {
      "cell_type": "code",
      "source": [
        "c = soma(1034, 675)\n",
        "print(c)"
      ],
      "metadata": {
        "colab": {
          "base_uri": "https://localhost:8080/"
        },
        "id": "ilYwbzg8GHlM",
        "outputId": "7c381e98-ac41-408c-f4f9-6b939d3d0874"
      },
      "execution_count": null,
      "outputs": [
        {
          "output_type": "stream",
          "name": "stdout",
          "text": [
            "1709\n"
          ]
        }
      ]
    },
    {
      "cell_type": "code",
      "source": [
        "print(soma(456, 12))"
      ],
      "metadata": {
        "colab": {
          "base_uri": "https://localhost:8080/"
        },
        "id": "PV5cD_l4HeBx",
        "outputId": "8c13b03d-bdb3-4099-ef1e-fbd100583819"
      },
      "execution_count": null,
      "outputs": [
        {
          "output_type": "stream",
          "name": "stdout",
          "text": [
            "468\n"
          ]
        }
      ]
    },
    {
      "cell_type": "markdown",
      "source": [
        "**Outro Exemplo:**"
      ],
      "metadata": {
        "id": "7LLWIXb5mhNH"
      }
    },
    {
      "cell_type": "code",
      "source": [
        "#Função que calcula o movimento retilínio uniforme\n",
        "#recebe como parâmetros de entrada a distância inicial, a velocidade inicial e o tempo\n",
        "#Aqui vamos considerar que o tempo será uma lista de tempos\n",
        "#A função retornará as distâncias em cada tempo da lista\n",
        "def mru(x0, v0, t):\n",
        "  x = []\n",
        "  for i in t:\n",
        "    x.append(x0 + v0 * i)\n",
        "  return x"
      ],
      "metadata": {
        "id": "zPSHD78ykD3b"
      },
      "execution_count": null,
      "outputs": []
    },
    {
      "cell_type": "code",
      "source": [
        "tempo = [0, 1, 2, 3, 4, 5, 6, 7, 8, 9, 10]\n",
        "mru(3, 5, tempo) #o colab mostra o retorno da função (como no print)"
      ],
      "metadata": {
        "colab": {
          "base_uri": "https://localhost:8080/"
        },
        "id": "A9bYCLKhlVbI",
        "outputId": "a6c2ed79-4550-4b96-eddf-672ad3052028"
      },
      "execution_count": null,
      "outputs": [
        {
          "output_type": "execute_result",
          "data": {
            "text/plain": [
              "[3, 8, 13, 18, 23, 28, 33, 38, 43, 48, 53]"
            ]
          },
          "metadata": {},
          "execution_count": 6
        }
      ]
    },
    {
      "cell_type": "markdown",
      "source": [
        "**EXERCÍCIO**\n",
        "\n",
        "Implemente uma função que retorne as distâncias para o MRUV, conforme a fórmula:\n",
        "\n",
        "\n",
        "\n",
        "```\n",
        "x = x0 + v0*t + (a0*t^2)/2\n",
        "```\n",
        "\n"
      ],
      "metadata": {
        "id": "5V5lDc8VnHyq"
      }
    },
    {
      "cell_type": "code",
      "source": [
        "#Sua função aqui"
      ],
      "metadata": {
        "id": "erNsXleCnzlf"
      },
      "execution_count": null,
      "outputs": []
    },
    {
      "cell_type": "code",
      "source": [
        "#Usar a função aqui"
      ],
      "metadata": {
        "colab": {
          "base_uri": "https://localhost:8080/"
        },
        "id": "YUAr1fwd4XCa",
        "outputId": "adc93f8e-67d3-4fd3-c4fc-b297f3d29361"
      },
      "execution_count": null,
      "outputs": [
        {
          "output_type": "stream",
          "name": "stdout",
          "text": [
            "Informe a distância inicial (m): 2\n",
            "Informe a velocidade inicial: 4\n",
            "Informe a acelaração inicial: 9\n",
            "Informe o tempo final (s): 10\n",
            "[2.0, 10.5, 28.0, 54.5, 90.0, 134.5, 188.0, 250.5, 322.0, 402.5, 492.0]\n"
          ]
        }
      ]
    },
    {
      "cell_type": "markdown",
      "source": [
        "## 2. Parâmetros opcionais\n",
        "\n",
        "Podemos definir um valor padrão para o parâmetro de uma função de modo que ao chamar a função não precisamos informar esse valor.\n",
        "\n",
        "Um exemplo de parâmetro opcional acontece no método split das strings, observe o exemplo abaixo:"
      ],
      "metadata": {
        "id": "zNV7Ctpgn7nP"
      }
    },
    {
      "cell_type": "code",
      "source": [
        "nome = 'João Maria da Silva Sauro'\n",
        "lista = nome.split() #OBSERVE QUE NÃO PASSAMOS NENHUM VALOR COMO PARÂMETRO\n",
        "print(lista)"
      ],
      "metadata": {
        "colab": {
          "base_uri": "https://localhost:8080/"
        },
        "id": "4YPR80-KogJE",
        "outputId": "a8d62402-7161-4fb3-a68d-d06f5de69abd"
      },
      "execution_count": null,
      "outputs": [
        {
          "output_type": "stream",
          "name": "stdout",
          "text": [
            "['João', 'Maria', 'da', 'Silva', 'Sauro']\n"
          ]
        }
      ]
    },
    {
      "cell_type": "code",
      "source": [
        "data = '15/03/2005'\n",
        "dma = data.split('/')#AQUI PASSAMOS A BARRA COMO PARÂMETRO\n",
        "print(dma)"
      ],
      "metadata": {
        "colab": {
          "base_uri": "https://localhost:8080/"
        },
        "id": "6Eby1hVeo2MM",
        "outputId": "da800539-ec22-4208-95f5-41cbd62e1f31"
      },
      "execution_count": null,
      "outputs": [
        {
          "output_type": "stream",
          "name": "stdout",
          "text": [
            "['15', '03', '2005']\n"
          ]
        }
      ]
    },
    {
      "cell_type": "markdown",
      "source": [
        "Observe que o método split tem um parâmetro opcional. Quando não passamos nada ao chamar o split, ele considera que o caractere de separação da string é o espaço em branco.\n",
        "\n",
        "> Para definir um parâmetro opcional, precisamos atribuir um valor para ele na sua definição, como no exemplo abaixo:"
      ],
      "metadata": {
        "id": "t_x5r7-ZpI6W"
      }
    },
    {
      "cell_type": "code",
      "source": [
        "def login(user = 'admin', senha = 'admin'):\n",
        "  print(f'Usuario: {user} \\nSenha: {senha}')"
      ],
      "metadata": {
        "id": "ZW5GhiWOpdH2"
      },
      "execution_count": null,
      "outputs": []
    },
    {
      "cell_type": "code",
      "source": [
        "login()"
      ],
      "metadata": {
        "colab": {
          "base_uri": "https://localhost:8080/"
        },
        "id": "WSidyErlpqKt",
        "outputId": "22ba959f-ba79-4de3-96dc-d0d0ae02daa8"
      },
      "execution_count": null,
      "outputs": [
        {
          "output_type": "stream",
          "name": "stdout",
          "text": [
            "Usuario: admin \n",
            "Senha: admin\n"
          ]
        }
      ]
    },
    {
      "cell_type": "code",
      "source": [
        "login('Laura')"
      ],
      "metadata": {
        "colab": {
          "base_uri": "https://localhost:8080/"
        },
        "id": "rA8CUf4Cprx1",
        "outputId": "d484c54d-6bad-48b5-d023-34b7f034d75f"
      },
      "execution_count": null,
      "outputs": [
        {
          "output_type": "stream",
          "name": "stdout",
          "text": [
            "Usuario: Laura \n",
            "Senha: admin\n"
          ]
        }
      ]
    },
    {
      "cell_type": "code",
      "source": [
        "login('Laura', '123')"
      ],
      "metadata": {
        "colab": {
          "base_uri": "https://localhost:8080/"
        },
        "id": "hj06NQjQpuZB",
        "outputId": "fcd5fcad-c434-47aa-cc12-439a5d1b9820"
      },
      "execution_count": null,
      "outputs": [
        {
          "output_type": "stream",
          "name": "stdout",
          "text": [
            "Usuario: Laura \n",
            "Senha: 123\n"
          ]
        }
      ]
    },
    {
      "cell_type": "markdown",
      "source": [
        "> Quando queremos passar apenas um parâmetro e ele não é o primeiro definido na função, precisamos colocar o nome dele, como no exemplo abaixo:"
      ],
      "metadata": {
        "id": "uSo3yVcFp6Y9"
      }
    },
    {
      "cell_type": "code",
      "source": [
        "login(senha = '123')"
      ],
      "metadata": {
        "colab": {
          "base_uri": "https://localhost:8080/"
        },
        "id": "dw9LW-xhpx_P",
        "outputId": "c8332385-b53b-45d3-ed16-1c008cdd5fb5"
      },
      "execution_count": null,
      "outputs": [
        {
          "output_type": "stream",
          "name": "stdout",
          "text": [
            "Usuario: admin \n",
            "Senha: 123\n"
          ]
        }
      ]
    },
    {
      "cell_type": "markdown",
      "source": [
        "## 3. Variáveis locais e globais\n",
        "\n",
        "É importante estar atento ao fato de que as variáveis definidas dentro de uma função só são válidas lá dentro. Observe o exemplo abaixo"
      ],
      "metadata": {
        "id": "4JR5DvplqlSC"
      }
    },
    {
      "cell_type": "code",
      "source": [
        "def soma(x, y):\n",
        "  resultado = x + y\n",
        "  return resultado\n",
        "\n",
        "print(soma(345, 678))\n",
        "\n",
        "print(resultado) #ao executar essa linha ocorre um NameError\n",
        "\n",
        "#Esse erro acontece, pois o interpretador não sabe quem é a variável resultado aqui fora da função soma"
      ],
      "metadata": {
        "colab": {
          "base_uri": "https://localhost:8080/",
          "height": 222
        },
        "id": "ZUGkxbw6q7ZY",
        "outputId": "4c9aed25-bac5-41e8-ae2f-f45a388025f2"
      },
      "execution_count": null,
      "outputs": [
        {
          "output_type": "stream",
          "name": "stdout",
          "text": [
            "1023\n"
          ]
        },
        {
          "output_type": "error",
          "ename": "NameError",
          "evalue": "ignored",
          "traceback": [
            "\u001b[0;31m---------------------------------------------------------------------------\u001b[0m",
            "\u001b[0;31mNameError\u001b[0m                                 Traceback (most recent call last)",
            "\u001b[0;32m<ipython-input-17-d8d0f58aa129>\u001b[0m in \u001b[0;36m<module>\u001b[0;34m()\u001b[0m\n\u001b[1;32m      4\u001b[0m \u001b[0;34m\u001b[0m\u001b[0m\n\u001b[1;32m      5\u001b[0m \u001b[0mprint\u001b[0m\u001b[0;34m(\u001b[0m\u001b[0msoma\u001b[0m\u001b[0;34m(\u001b[0m\u001b[0;36m345\u001b[0m\u001b[0;34m,\u001b[0m \u001b[0;36m678\u001b[0m\u001b[0;34m)\u001b[0m\u001b[0;34m)\u001b[0m\u001b[0;34m\u001b[0m\u001b[0;34m\u001b[0m\u001b[0m\n\u001b[0;32m----> 6\u001b[0;31m \u001b[0mprint\u001b[0m\u001b[0;34m(\u001b[0m\u001b[0mresultado\u001b[0m\u001b[0;34m)\u001b[0m \u001b[0;31m#ao executar essa\u001b[0m\u001b[0;34m\u001b[0m\u001b[0;34m\u001b[0m\u001b[0m\n\u001b[0m",
            "\u001b[0;31mNameError\u001b[0m: name 'resultado' is not defined"
          ]
        }
      ]
    },
    {
      "cell_type": "markdown",
      "source": [
        "Observe esse outro código abaixo:"
      ],
      "metadata": {
        "id": "WWS-nFYlrh_Y"
      }
    },
    {
      "cell_type": "code",
      "source": [
        "x = 10\n",
        "\n",
        "def funcao():\n",
        "  x = 500\n",
        "  print(f'Variável x dentro da função = {x}')\n",
        "\n",
        "funcao() #chamada da função\n",
        "\n",
        "print(f'Variável x FORA da função soma = {x}')"
      ],
      "metadata": {
        "colab": {
          "base_uri": "https://localhost:8080/"
        },
        "id": "7egvkBkDrhTZ",
        "outputId": "96f2a1d2-50a3-4a2a-a60b-1feb924db4e1"
      },
      "execution_count": null,
      "outputs": [
        {
          "output_type": "stream",
          "name": "stdout",
          "text": [
            "Variável x dentro da função = 500\n",
            "Variável x FORA da função soma = 10\n"
          ]
        }
      ]
    },
    {
      "cell_type": "markdown",
      "source": [
        "> Esse código ilustra que as variáveis x apesar de terem o mesmo nome são diferentes, pois a variável x dentro da função só existe enquanto a função está sendo executada.\n",
        "\n",
        "Podemos determinar que a variável usada dentro da função é a mesma que está fora. Para isso dentro da função colocamos **global x** antes de usar a variável x, como no exemplo abaixo"
      ],
      "metadata": {
        "id": "Exoyl04dr6G5"
      }
    },
    {
      "cell_type": "code",
      "source": [
        "x = 10\n",
        "\n",
        "def funcao():\n",
        "  global x\n",
        "  x = 500\n",
        "  print(f'Variável x dentro da função = {x}')\n",
        "\n",
        "funcao() #chamada da função\n",
        "\n",
        "print(f'Variável x FORA da função soma = {x}')"
      ],
      "metadata": {
        "colab": {
          "base_uri": "https://localhost:8080/"
        },
        "id": "BBPbZPeysHNa",
        "outputId": "5c0e78a4-b469-4b3b-a6a9-1ffa5391af7d"
      },
      "execution_count": null,
      "outputs": [
        {
          "output_type": "stream",
          "name": "stdout",
          "text": [
            "Variável x dentro da função = 500\n",
            "Variável x FORA da função soma = 500\n"
          ]
        }
      ]
    },
    {
      "cell_type": "markdown",
      "source": [
        "## 4. Exercícios"
      ],
      "metadata": {
        "id": "sqq6Ayiws4Mh"
      }
    },
    {
      "cell_type": "markdown",
      "source": [
        "1. Escreva uma função para validar o tamanho de uma variável do tipo string. A função receberá como entrada a string, o tamanho mínimo e o tamanho máximo permitidos. Retorne verdadeiro, caso o tamanho da string esteja dentro do intervalo definido, e falso caso contrário."
      ],
      "metadata": {
        "id": "LENxFWV-s6KT"
      }
    },
    {
      "cell_type": "code",
      "source": [
        "#Seu código aqui"
      ],
      "metadata": {
        "id": "ADJjFERss6SX"
      },
      "execution_count": null,
      "outputs": []
    },
    {
      "cell_type": "markdown",
      "source": [
        "**DESAFIO**: Faça um programa que valide um email. Para considerar o email válido, observe se ele possui @ e se depois do @ tem ponto"
      ],
      "metadata": {
        "id": "5RdQb_ChHuyJ"
      }
    },
    {
      "cell_type": "code",
      "source": [
        "#Seu código aqui"
      ],
      "metadata": {
        "id": "o1gf2VahGs7m"
      },
      "execution_count": null,
      "outputs": []
    },
    {
      "cell_type": "markdown",
      "source": [
        "2. Faça uma função que receba um gabarito de uma prova de múltipla escolha e as respostas de um aluno. A função deve retornar a quantidade de questões corretas."
      ],
      "metadata": {
        "id": "hx8c6UHNH5BW"
      }
    },
    {
      "cell_type": "code",
      "source": [
        "#Seu código aqui\n",
        "    "
      ],
      "metadata": {
        "id": "hf6wqrbqIJTS"
      },
      "execution_count": null,
      "outputs": []
    }
  ]
}
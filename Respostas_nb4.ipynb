{
  "nbformat": 4,
  "nbformat_minor": 0,
  "metadata": {
    "colab": {
      "name": "Respostas_nb4.ipynb",
      "provenance": [],
      "authorship_tag": "ABX9TyNbXFXQin1JS7wWVUC7Yysq",
      "include_colab_link": true
    },
    "kernelspec": {
      "name": "python3",
      "display_name": "Python 3"
    },
    "language_info": {
      "name": "python"
    }
  },
  "cells": [
    {
      "cell_type": "markdown",
      "metadata": {
        "id": "view-in-github",
        "colab_type": "text"
      },
      "source": [
        "<a href=\"https://colab.research.google.com/github/lauraemmanuella/prog1/blob/main/Respostas_nb4.ipynb\" target=\"_parent\"><img src=\"https://colab.research.google.com/assets/colab-badge.svg\" alt=\"Open In Colab\"/></a>"
      ]
    },
    {
      "cell_type": "markdown",
      "source": [
        "## Exercícios FOR (com range)\n",
        "\n",
        "\n",
        "---"
      ],
      "metadata": {
        "id": "CkI72KsiJoLt"
      }
    },
    {
      "cell_type": "markdown",
      "source": [
        "1. Faça um programa que mostre todos os números divisíveis por 3 entre 1 e 50:"
      ],
      "metadata": {
        "id": "nxDHqGmrJpTV"
      }
    },
    {
      "cell_type": "code",
      "source": [
        "for i in range(1, 51):\n",
        "  if i % 3 == 0:\n",
        "    print(i)"
      ],
      "metadata": {
        "colab": {
          "base_uri": "https://localhost:8080/"
        },
        "id": "uyBapUzoJxEt",
        "outputId": "a90740f0-3276-46c1-d6d3-d7d554c5a423"
      },
      "execution_count": null,
      "outputs": [
        {
          "output_type": "stream",
          "name": "stdout",
          "text": [
            "3\n",
            "6\n",
            "9\n",
            "12\n",
            "15\n",
            "18\n",
            "21\n",
            "24\n",
            "27\n",
            "30\n",
            "33\n",
            "36\n",
            "39\n",
            "42\n",
            "45\n",
            "48\n"
          ]
        }
      ]
    },
    {
      "cell_type": "markdown",
      "source": [
        "2. Escreva um programa que imprima os números inteiros de 1 a 100. Para múltiplos de três imprima **multiplo de 3**, para os múltiplos de cinco imprima **multiplo de 5** e para números que são múltiplos de três e cinco imprima **multiplo de 3 e 5**"
      ],
      "metadata": {
        "id": "npiR6yKnKG_R"
      }
    },
    {
      "cell_type": "code",
      "source": [
        "for i in range(1,101):\n",
        "  if i % 3 == 0 and i % 5 == 0:\n",
        "    print(f'{i} (múltiplo de 3 e 5)')\n",
        "  elif i % 3 == 0:\n",
        "    print(f'{i} (múltiplo de 3)')\n",
        "  elif i % 5 == 0:\n",
        "    print(f'{i} (múltiplo de 5)')\n",
        "  else:\n",
        "    print(i)"
      ],
      "metadata": {
        "colab": {
          "base_uri": "https://localhost:8080/"
        },
        "id": "CG--fpQaJ5Yt",
        "outputId": "31c9f168-cda9-4d90-b3b8-511ea6d4c2d1"
      },
      "execution_count": null,
      "outputs": [
        {
          "output_type": "stream",
          "name": "stdout",
          "text": [
            "1\n",
            "2\n",
            "3 (múltiplo de 3)\n",
            "4\n",
            "5 (múltiplo de 5)\n",
            "6 (múltiplo de 3)\n",
            "7\n",
            "8\n",
            "9 (múltiplo de 3)\n",
            "10 (múltiplo de 5)\n",
            "11\n",
            "12 (múltiplo de 3)\n",
            "13\n",
            "14\n",
            "15 (múltiplo de 3 e 5)\n",
            "16\n",
            "17\n",
            "18 (múltiplo de 3)\n",
            "19\n",
            "20 (múltiplo de 5)\n",
            "21 (múltiplo de 3)\n",
            "22\n",
            "23\n",
            "24 (múltiplo de 3)\n",
            "25 (múltiplo de 5)\n",
            "26\n",
            "27 (múltiplo de 3)\n",
            "28\n",
            "29\n",
            "30 (múltiplo de 3 e 5)\n",
            "31\n",
            "32\n",
            "33 (múltiplo de 3)\n",
            "34\n",
            "35 (múltiplo de 5)\n",
            "36 (múltiplo de 3)\n",
            "37\n",
            "38\n",
            "39 (múltiplo de 3)\n",
            "40 (múltiplo de 5)\n",
            "41\n",
            "42 (múltiplo de 3)\n",
            "43\n",
            "44\n",
            "45 (múltiplo de 3 e 5)\n",
            "46\n",
            "47\n",
            "48 (múltiplo de 3)\n",
            "49\n",
            "50 (múltiplo de 5)\n",
            "51 (múltiplo de 3)\n",
            "52\n",
            "53\n",
            "54 (múltiplo de 3)\n",
            "55 (múltiplo de 5)\n",
            "56\n",
            "57 (múltiplo de 3)\n",
            "58\n",
            "59\n",
            "60 (múltiplo de 3 e 5)\n",
            "61\n",
            "62\n",
            "63 (múltiplo de 3)\n",
            "64\n",
            "65 (múltiplo de 5)\n",
            "66 (múltiplo de 3)\n",
            "67\n",
            "68\n",
            "69 (múltiplo de 3)\n",
            "70 (múltiplo de 5)\n",
            "71\n",
            "72 (múltiplo de 3)\n",
            "73\n",
            "74\n",
            "75 (múltiplo de 3 e 5)\n",
            "76\n",
            "77\n",
            "78 (múltiplo de 3)\n",
            "79\n",
            "80 (múltiplo de 5)\n",
            "81 (múltiplo de 3)\n",
            "82\n",
            "83\n",
            "84 (múltiplo de 3)\n",
            "85 (múltiplo de 5)\n",
            "86\n",
            "87 (múltiplo de 3)\n",
            "88\n",
            "89\n",
            "90 (múltiplo de 3 e 5)\n",
            "91\n",
            "92\n",
            "93 (múltiplo de 3)\n",
            "94\n",
            "95 (múltiplo de 5)\n",
            "96 (múltiplo de 3)\n",
            "97\n",
            "98\n",
            "99 (múltiplo de 3)\n",
            "100 (múltiplo de 5)\n"
          ]
        }
      ]
    },
    {
      "cell_type": "markdown",
      "source": [
        "3. Faça um programa que peça um código de acesso ao usuário, se ele digitar o código **1010** informe **'acesso permitido'**. Caso depois de 3 tentativas ele não informe o código 1010, informe **'acesso bloqueado'**"
      ],
      "metadata": {
        "id": "lcGNcfALK6fD"
      }
    },
    {
      "cell_type": "code",
      "source": [
        "codigo = 1010\n",
        "for i in range(3):\n",
        "  c = int(input('Informe o codigo de acesso: '))\n",
        "  if c == codigo:\n",
        "    print('Acesso permitido')\n",
        "    break\n",
        "else:\n",
        "  print('Acesso bloqueado')"
      ],
      "metadata": {
        "colab": {
          "base_uri": "https://localhost:8080/"
        },
        "id": "uDFpD9gPK6qe",
        "outputId": "d2ef52f6-6ac8-495b-af31-5d2b06e5b170"
      },
      "execution_count": null,
      "outputs": [
        {
          "output_type": "stream",
          "name": "stdout",
          "text": [
            "Informe o codigo de acesso: 1010\n",
            "Acesso permitido\n"
          ]
        }
      ]
    }
  ]
}
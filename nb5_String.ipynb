{
  "nbformat": 4,
  "nbformat_minor": 0,
  "metadata": {
    "colab": {
      "provenance": [],
      "authorship_tag": "ABX9TyO5YSpNd6aqPJ+Y/pasukrL",
      "include_colab_link": true
    },
    "kernelspec": {
      "name": "python3",
      "display_name": "Python 3"
    },
    "language_info": {
      "name": "python"
    }
  },
  "cells": [
    {
      "cell_type": "markdown",
      "metadata": {
        "id": "view-in-github",
        "colab_type": "text"
      },
      "source": [
        "<a href=\"https://colab.research.google.com/github/lauraemmanuella/prog1/blob/main/nb5_String.ipynb\" target=\"_parent\"><img src=\"https://colab.research.google.com/assets/colab-badge.svg\" alt=\"Open In Colab\"/></a>"
      ]
    },
    {
      "cell_type": "markdown",
      "source": [
        "# Variáveis string\n",
        "\n",
        "\n",
        "---\n",
        "\n",
        "O que vamos ver aqui?\n",
        "\n",
        "1. indexação\n",
        "2. cortes\n",
        "3. propriedades das strings\n",
        "4. métodos das strings\n",
        "5. Operador in\n",
        "6. Iterando os caracteres da string (for)\n",
        "7. Exercícios\n",
        "\n",
        "> As variáveis que armazenam textos ou cadeias de caracteres quaisquer são chamadas de `strings`\n",
        "\n",
        "Chamamos cadeias de caracteres uma sequência de símbolos como letras, números, sinais de pontuação etc.\n",
        "\n",
        "**Ao definir um valor para uma variável do tipo string, devemos colocar aspas antes e depois do valor**"
      ],
      "metadata": {
        "id": "rPsZ86bwOSCc"
      }
    },
    {
      "cell_type": "code",
      "source": [
        "nome = 'Gabriel H' \n",
        "type(nome) #tipo da variável nome"
      ],
      "metadata": {
        "colab": {
          "base_uri": "https://localhost:8080/"
        },
        "id": "r4KYIVe4jCF4",
        "outputId": "4ef0b8a4-9d53-4932-e489-5ab211a43bb3"
      },
      "execution_count": null,
      "outputs": [
        {
          "output_type": "execute_result",
          "data": {
            "text/plain": [
              "str"
            ]
          },
          "metadata": {},
          "execution_count": 12
        }
      ]
    },
    {
      "cell_type": "markdown",
      "source": [
        "Em geral, usamos aspas simples para marcar o conteúdo textual, **mas pode usar aspas duplas também**\n",
        "\n",
        ">Se no conteúdo do texto precisar de aspas, **use aspas simples internamente e aspas duplas para a marcação da string**, como no exemplo abaixo (**ou o inverso**)"
      ],
      "metadata": {
        "id": "RBJTSEOgjHNT"
      }
    },
    {
      "cell_type": "code",
      "source": [
        "print(\"conteúdo 'X' \")"
      ],
      "metadata": {
        "colab": {
          "base_uri": "https://localhost:8080/"
        },
        "id": "0N9U3RYTjzn7",
        "outputId": "190ddc9b-37cd-4bd4-9e06-9c3683cb639a"
      },
      "execution_count": null,
      "outputs": [
        {
          "output_type": "stream",
          "name": "stdout",
          "text": [
            "conteúdo 'X' \n"
          ]
        }
      ]
    },
    {
      "cell_type": "code",
      "source": [
        "print('conteúdo \"X\" ')"
      ],
      "metadata": {
        "colab": {
          "base_uri": "https://localhost:8080/"
        },
        "id": "qIDrgQs_jOdy",
        "outputId": "cba51cc1-b722-45a2-c732-20fc4cbb1912"
      },
      "execution_count": null,
      "outputs": [
        {
          "output_type": "stream",
          "name": "stdout",
          "text": [
            "conteúdo \"X\" \n"
          ]
        }
      ]
    },
    {
      "cell_type": "markdown",
      "source": [
        "## 1. Indexação\n",
        "\n",
        "É importante perceber que uma variável string é uma sequência de símbolos e que cada símbolo pode ser referenciado individualmente\n",
        "\n",
        "> Para fazer essa referência individual de cada símbolo usamos colchetes `[]` após o nome da string e dentro dos colchetes colocamos o número que faz referência à posição desse símbolo na cadeia de caracteres\n",
        "\n",
        "**Esse número de referência é chamado de índice**\n",
        "\n",
        "* O primeiro símbolo da string está na posição de índice 0\n",
        "* O último símbolo da string pode ser referenciado pelo número sequencial a partir do 0 ou pode ser referenciado por -1"
      ],
      "metadata": {
        "id": "CiWaGaWVS3Ob"
      }
    },
    {
      "cell_type": "code",
      "source": [
        "print(nome)"
      ],
      "metadata": {
        "colab": {
          "base_uri": "https://localhost:8080/"
        },
        "id": "_de8FNG-S-hW",
        "outputId": "03fe9c8d-f2ff-4ad8-aee5-1f8c2fb4924a"
      },
      "execution_count": null,
      "outputs": [
        {
          "output_type": "stream",
          "name": "stdout",
          "text": [
            "Gabriel H\n"
          ]
        }
      ]
    },
    {
      "cell_type": "code",
      "source": [
        "print(nome[0]) #primeiro caractere"
      ],
      "metadata": {
        "colab": {
          "base_uri": "https://localhost:8080/"
        },
        "id": "icuDD9QWS28-",
        "outputId": "1b84a5e8-bd98-447e-95bd-af976f01f156"
      },
      "execution_count": null,
      "outputs": [
        {
          "output_type": "stream",
          "name": "stdout",
          "text": [
            "G\n"
          ]
        }
      ]
    },
    {
      "cell_type": "code",
      "source": [
        "print(nome[-1]) #ultimo caractere"
      ],
      "metadata": {
        "colab": {
          "base_uri": "https://localhost:8080/"
        },
        "id": "3gXHJ7yWTH4C",
        "outputId": "50e04b4f-ea36-43d0-893b-c8f4fb3656c2"
      },
      "execution_count": null,
      "outputs": [
        {
          "output_type": "stream",
          "name": "stdout",
          "text": [
            "H\n"
          ]
        }
      ]
    },
    {
      "cell_type": "markdown",
      "metadata": {
        "id": "QQMzgxcEElgK"
      },
      "source": [
        "> Observe a imagem abaixo, onde temos uma string `'vaiprogramar'`. O primeiro símbolo `'v'` está na posição de índice 0, e assim sucessivamente, sendo que o último símbolo `'r'` está na posição de índice 11 **(ele é o 12º elemento da string)**\n",
        "\n",
        "Como podemos referenciar o `'r'` pelo índice -1, então todos os demais símbolos também podem ser referenciados a partir do -1, como mostrado na parte superior da imagem"
      ]
    },
    {
      "cell_type": "markdown",
      "source": [
        "\n",
        "\n",
        "![string.png](data:image/png;base64,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)"
      ],
      "metadata": {
        "id": "lxNJhdFnQ0kA"
      }
    },
    {
      "cell_type": "code",
      "source": [
        "print(nome)"
      ],
      "metadata": {
        "colab": {
          "base_uri": "https://localhost:8080/"
        },
        "id": "8JWAYpGKWrHq",
        "outputId": "89b9b0d8-0dc5-4e6b-e4f3-fe04044cd36c"
      },
      "execution_count": null,
      "outputs": [
        {
          "output_type": "stream",
          "name": "stdout",
          "text": [
            "Gabriel H\n"
          ]
        }
      ]
    },
    {
      "cell_type": "code",
      "source": [
        "#O comando len informa a quantidade de caracteres que uma string possui\n",
        "len(nome) "
      ],
      "metadata": {
        "colab": {
          "base_uri": "https://localhost:8080/"
        },
        "id": "oFTCE_c1WLIC",
        "outputId": "fc4af88e-2cbb-46c5-ecba-7e90bc382f1a"
      },
      "execution_count": null,
      "outputs": [
        {
          "output_type": "execute_result",
          "data": {
            "text/plain": [
              "9"
            ]
          },
          "metadata": {},
          "execution_count": 25
        }
      ]
    },
    {
      "cell_type": "code",
      "source": [
        "#o ultimo caractere dessa string está no índice 8 (é o 9º caractere)\n",
        "print(nome[8]) "
      ],
      "metadata": {
        "colab": {
          "base_uri": "https://localhost:8080/"
        },
        "id": "Deob-F8pV5Em",
        "outputId": "39e54d29-19d9-455c-d919-6d37b49ca4fe"
      },
      "execution_count": null,
      "outputs": [
        {
          "output_type": "stream",
          "name": "stdout",
          "text": [
            "H\n"
          ]
        }
      ]
    },
    {
      "cell_type": "code",
      "metadata": {
        "colab": {
          "base_uri": "https://localhost:8080/"
        },
        "id": "lN1vbOeQElgL",
        "outputId": "d4fdc99a-ea21-4593-fd73-f80f0ece4f3d"
      },
      "source": [
        "print(nome[-9]) #primeiro caractere"
      ],
      "execution_count": null,
      "outputs": [
        {
          "output_type": "stream",
          "name": "stdout",
          "text": [
            "G\n"
          ]
        }
      ]
    },
    {
      "cell_type": "markdown",
      "metadata": {
        "id": "IbBcMMccElgL"
      },
      "source": [
        "## 2. Cortes\n",
        "\n",
        "> Podemos usar `:` para executar cortes que retornam apenas um pedaço da string"
      ]
    },
    {
      "cell_type": "code",
      "source": [
        "print(nome)"
      ],
      "metadata": {
        "colab": {
          "base_uri": "https://localhost:8080/"
        },
        "id": "hCFWOkgLI2qf",
        "outputId": "6d51fcf9-46c9-4d0a-9f1b-bb2921248361"
      },
      "execution_count": null,
      "outputs": [
        {
          "output_type": "stream",
          "name": "stdout",
          "text": [
            "Gabriel H\n"
          ]
        }
      ]
    },
    {
      "cell_type": "code",
      "metadata": {
        "id": "xvoUyQyNElgM",
        "colab": {
          "base_uri": "https://localhost:8080/"
        },
        "outputId": "fcf62032-1b01-4d8e-fd09-693cc23e8564"
      },
      "source": [
        "print(nome[2:]) #iniciando no índice 2 até o final"
      ],
      "execution_count": null,
      "outputs": [
        {
          "output_type": "stream",
          "name": "stdout",
          "text": [
            "briel H\n"
          ]
        }
      ]
    },
    {
      "cell_type": "code",
      "metadata": {
        "id": "gscGtIauElgM",
        "colab": {
          "base_uri": "https://localhost:8080/"
        },
        "outputId": "fec7c414-defb-430b-d935-cc47cce889d6"
      },
      "source": [
        "print(nome[2:7]) #iniciando no índice 2 até o índice 6 (não inclui o 7)"
      ],
      "execution_count": null,
      "outputs": [
        {
          "output_type": "stream",
          "name": "stdout",
          "text": [
            "briel\n"
          ]
        }
      ]
    },
    {
      "cell_type": "code",
      "metadata": {
        "id": "abfursIQElgM",
        "colab": {
          "base_uri": "https://localhost:8080/"
        },
        "outputId": "6b952749-6afc-4c94-843f-a785346c7e04"
      },
      "source": [
        "print(nome[:7]) #do inicio até o índice 6 (nao inclui o 7)"
      ],
      "execution_count": null,
      "outputs": [
        {
          "output_type": "stream",
          "name": "stdout",
          "text": [
            "Gabriel\n"
          ]
        }
      ]
    },
    {
      "cell_type": "code",
      "metadata": {
        "id": "Ixb69O5NElgN",
        "outputId": "c0344bc9-0613-4963-ef6d-9bd9bd23b312",
        "colab": {
          "base_uri": "https://localhost:8080/"
        }
      },
      "source": [
        "print(nome[:]) #inicio ao fim"
      ],
      "execution_count": null,
      "outputs": [
        {
          "output_type": "stream",
          "name": "stdout",
          "text": [
            "Gabriel H\n"
          ]
        }
      ]
    },
    {
      "cell_type": "code",
      "metadata": {
        "id": "bx92PyyfElgO",
        "outputId": "247502ae-28d5-423d-a367-f70f38655654",
        "colab": {
          "base_uri": "https://localhost:8080/"
        }
      },
      "source": [
        "print(nome[:-1]) #do inicio ao penultimo (o ultimo, -1, não está incluído)"
      ],
      "execution_count": null,
      "outputs": [
        {
          "output_type": "stream",
          "name": "stdout",
          "text": [
            "Gabriel \n"
          ]
        }
      ]
    },
    {
      "cell_type": "code",
      "metadata": {
        "id": "ThPhtxV-ElgO",
        "colab": {
          "base_uri": "https://localhost:8080/"
        },
        "outputId": "bf0d4d46-d911-491e-88f1-a1acbeff0e2d"
      },
      "source": [
        "print(nome[0:9:2]) #inicio:fim:passos"
      ],
      "execution_count": null,
      "outputs": [
        {
          "output_type": "stream",
          "name": "stdout",
          "text": [
            "GbilH\n"
          ]
        }
      ]
    },
    {
      "cell_type": "code",
      "metadata": {
        "colab": {
          "base_uri": "https://localhost:8080/"
        },
        "id": "ubCq0tdHD3T3",
        "outputId": "b50bc7e3-a9c6-414e-9f96-49bfea03a500"
      },
      "source": [
        "print(nome[::2]) #mesma coisa (inicio:fim:passos)"
      ],
      "execution_count": null,
      "outputs": [
        {
          "output_type": "stream",
          "name": "stdout",
          "text": [
            "GbilH\n"
          ]
        }
      ]
    },
    {
      "cell_type": "code",
      "metadata": {
        "id": "ebQhAC1zElgP",
        "outputId": "f56a54cc-7d14-473c-e6a2-2a304fe894c3",
        "colab": {
          "base_uri": "https://localhost:8080/"
        }
      },
      "source": [
        "nome = 'Matheus'\n",
        "print(nome[::-1]) #inverte toda a string, pois os passos estão invertidos"
      ],
      "execution_count": null,
      "outputs": [
        {
          "output_type": "stream",
          "name": "stdout",
          "text": [
            "suehtaM\n"
          ]
        }
      ]
    },
    {
      "cell_type": "markdown",
      "metadata": {
        "id": "nFg2RXPQElgP"
      },
      "source": [
        "## 3. Propriedades das Strings\n",
        "\n",
        "As strings têm uma propriedade importante conhecida como **imutabilidade**. Isso significa que, uma vez que uma string é criada, **os elementos nela não podem ser alterados ou substituídos por indexação.**\n",
        "\n",
        "> Ao tentar modificar um caractere da string, ocorre um erro informando que a string não suporta atribuição de item"
      ]
    },
    {
      "cell_type": "code",
      "metadata": {
        "id": "cpFqpJJQElgQ",
        "colab": {
          "base_uri": "https://localhost:8080/",
          "height": 169
        },
        "outputId": "4e815d1b-bfa8-429e-af60-79515c911391"
      },
      "source": [
        "nome[0] = 'M'"
      ],
      "execution_count": null,
      "outputs": [
        {
          "output_type": "error",
          "ename": "TypeError",
          "evalue": "ignored",
          "traceback": [
            "\u001b[0;31m---------------------------------------------------------------------------\u001b[0m",
            "\u001b[0;31mTypeError\u001b[0m                                 Traceback (most recent call last)",
            "\u001b[0;32m<ipython-input-11-2c85d6919a03>\u001b[0m in \u001b[0;36m<module>\u001b[0;34m()\u001b[0m\n\u001b[0;32m----> 1\u001b[0;31m \u001b[0mnome\u001b[0m\u001b[0;34m[\u001b[0m\u001b[0;36m0\u001b[0m\u001b[0;34m]\u001b[0m \u001b[0;34m=\u001b[0m \u001b[0;34m'M'\u001b[0m\u001b[0;34m\u001b[0m\u001b[0;34m\u001b[0m\u001b[0m\n\u001b[0m",
            "\u001b[0;31mTypeError\u001b[0m: 'str' object does not support item assignment"
          ]
        }
      ]
    },
    {
      "cell_type": "markdown",
      "metadata": {
        "id": "Rfgj1YaLElgQ"
      },
      "source": [
        "Mas, podemos **CONCATENAR** strings\n",
        "\n",
        "> Concatenar significa juntar, então podemos juntar strings em uma única variável"
      ]
    },
    {
      "cell_type": "code",
      "source": [
        "nome = nome + ' da Silva'\n",
        "print(nome)"
      ],
      "metadata": {
        "colab": {
          "base_uri": "https://localhost:8080/"
        },
        "id": "4qFDHN1m_3yx",
        "outputId": "b73d6ec5-3905-48d1-e183-b6a077a63679"
      },
      "execution_count": null,
      "outputs": [
        {
          "output_type": "stream",
          "name": "stdout",
          "text": [
            "Gabriel H da Silva\n"
          ]
        }
      ]
    },
    {
      "cell_type": "markdown",
      "source": [
        "Nesse código abaixo vamos redefinir a string nome para trocar o primeiro caractere dela\n",
        "\n",
        "> Observe que não estamos modificando o caractere usando indexação, mas sim redefinindo a string toda usando concatenação para mudar parte dela"
      ],
      "metadata": {
        "id": "DCaDIgkJACNb"
      }
    },
    {
      "cell_type": "code",
      "metadata": {
        "id": "5zKOgH35ElgQ",
        "colab": {
          "base_uri": "https://localhost:8080/"
        },
        "outputId": "8ae724a1-2be3-4cb3-b0e6-1ff928e13886"
      },
      "source": [
        "#nesse caso estamos redefinindo toda a string nome\n",
        "nome = 'M' + nome[1:] #concatena a letra M com os caracteres de nome do 1 até o final\n",
        "print(nome)"
      ],
      "execution_count": null,
      "outputs": [
        {
          "output_type": "stream",
          "name": "stdout",
          "text": [
            "Mabriel H da Silva\n"
          ]
        }
      ]
    },
    {
      "cell_type": "markdown",
      "metadata": {
        "id": "2x5RaYQDElgR"
      },
      "source": [
        "## 4. Métodos de strings\n",
        "\n",
        "As variáveis do tipo string têm associadas a elas algumas funções de manipulação dos caracteres, como deixar tudo maiúsculo ou minúsculo, tirar espaços, etc..\n",
        "\n",
        "> Essas funções são executadas sobre a variável string, como no exemplo abaixo, e por isso são chamadas **Métodos**"
      ]
    },
    {
      "cell_type": "markdown",
      "source": [
        "### UPPER\n",
        "\n",
        "Retorna uma cópia da string com as letras em maiúsculo"
      ],
      "metadata": {
        "id": "gQL3jrdJCQdQ"
      }
    },
    {
      "cell_type": "code",
      "metadata": {
        "id": "W9f2YXIAElgR",
        "outputId": "2cd02d60-c27e-4e44-8754-0857d909f6a7",
        "colab": {
          "base_uri": "https://localhost:8080/"
        }
      },
      "source": [
        "#Aqui estamos mostrando o conteúdo da variável nome em maiúsculo\n",
        "print(nome.upper())"
      ],
      "execution_count": null,
      "outputs": [
        {
          "output_type": "stream",
          "name": "stdout",
          "text": [
            "MABRIEL H DA SILVA\n"
          ]
        }
      ]
    },
    {
      "cell_type": "code",
      "metadata": {
        "id": "IuIXw-13ElgR",
        "outputId": "15cd478e-0b1c-477c-c917-2de537835ab4",
        "colab": {
          "base_uri": "https://localhost:8080/"
        }
      },
      "source": [
        "# O método upper retornou o nome maiúsculo, mas a variável nao foi alterada\n",
        "print(nome) "
      ],
      "execution_count": null,
      "outputs": [
        {
          "output_type": "stream",
          "name": "stdout",
          "text": [
            "Mabriel H da Silva\n"
          ]
        }
      ]
    },
    {
      "cell_type": "markdown",
      "source": [
        "É importante perceber que as funções aplicadas sobre as strings não alterar a variável, apenas retornam uma cópia com a alteração\n",
        "\n",
        "> Podemos substituir a variável por essa cópia, se quisermos\n",
        "\n",
        "`Ex: nome = nome.upper()`"
      ],
      "metadata": {
        "id": "PhjLZfzgtcd3"
      }
    },
    {
      "cell_type": "markdown",
      "source": [
        "### LOWER \n",
        "\n",
        "Retorna uma cópia da string com as letras em minúsculo"
      ],
      "metadata": {
        "id": "ir-WR4g8CnLa"
      }
    },
    {
      "cell_type": "code",
      "source": [
        "#Aqui estamos mostrando o conteúdo da variável nome em minúsculo\n",
        "print(nome.lower()) "
      ],
      "metadata": {
        "colab": {
          "base_uri": "https://localhost:8080/"
        },
        "id": "qbie2MWhBXsw",
        "outputId": "8b891d1d-a075-4522-c6a5-b748b2b967e4"
      },
      "execution_count": null,
      "outputs": [
        {
          "output_type": "stream",
          "name": "stdout",
          "text": [
            "mabriel h da silva\n"
          ]
        }
      ]
    },
    {
      "cell_type": "markdown",
      "source": [
        "### COUNT \n",
        "\n",
        "Retorna a quantidade de ocorrências de um caractere na string"
      ],
      "metadata": {
        "id": "T320Ea5ADcb-"
      }
    },
    {
      "cell_type": "code",
      "source": [
        "nome.count('a')"
      ],
      "metadata": {
        "colab": {
          "base_uri": "https://localhost:8080/"
        },
        "id": "f_Xcb0PxBlLi",
        "outputId": "a9ae5548-5cec-4b15-ca15-caefe5f65c7b"
      },
      "execution_count": null,
      "outputs": [
        {
          "output_type": "execute_result",
          "data": {
            "text/plain": [
              "3"
            ]
          },
          "metadata": {},
          "execution_count": 14
        }
      ]
    },
    {
      "cell_type": "markdown",
      "source": [
        "### REPLACE \n",
        "\n",
        "Retorna uma cópia da string alterando determinado caractere"
      ],
      "metadata": {
        "id": "tMWb19xlsylu"
      }
    },
    {
      "cell_type": "code",
      "source": [
        "print(nome.replace(' ', '-'))"
      ],
      "metadata": {
        "colab": {
          "base_uri": "https://localhost:8080/"
        },
        "id": "Hpw_2L-5szFN",
        "outputId": "c5b04aee-c0d1-45d6-eba6-7f457f66ec53"
      },
      "execution_count": null,
      "outputs": [
        {
          "output_type": "stream",
          "name": "stdout",
          "text": [
            "Mabriel-H-da-Silva\n"
          ]
        }
      ]
    },
    {
      "cell_type": "markdown",
      "source": [
        "### SPLIT \n",
        "\n",
        "Retorna uma lista de elementos da string separada por determinado caractere"
      ],
      "metadata": {
        "id": "ZG9bECTWDm4u"
      }
    },
    {
      "cell_type": "code",
      "metadata": {
        "id": "GqTpLS8sElgS",
        "colab": {
          "base_uri": "https://localhost:8080/"
        },
        "outputId": "e58ce1d0-3bc4-4775-a57c-709a7784cccb"
      },
      "source": [
        "#separa pelo espaço em branco\n",
        "print(nome.split())"
      ],
      "execution_count": null,
      "outputs": [
        {
          "output_type": "stream",
          "name": "stdout",
          "text": [
            "['Mabriel', 'H', 'da', 'Silva']\n"
          ]
        }
      ]
    },
    {
      "cell_type": "code",
      "metadata": {
        "id": "fustnNbzElgS",
        "outputId": "0be0de63-aed0-42c8-eef8-97978ac18fb7",
        "colab": {
          "base_uri": "https://localhost:8080/"
        }
      },
      "source": [
        "print(nome.split('a'))"
      ],
      "execution_count": null,
      "outputs": [
        {
          "output_type": "stream",
          "name": "stdout",
          "text": [
            "['M', 'briel H d', ' Silv', '']\n"
          ]
        }
      ]
    },
    {
      "cell_type": "markdown",
      "source": [
        "**Depois estudaremos a estrutura lista, vista acima**"
      ],
      "metadata": {
        "id": "wEQUwDibD7mf"
      }
    },
    {
      "cell_type": "markdown",
      "source": [
        "Para ver mais funções das strings, observe a documentação usando o help"
      ],
      "metadata": {
        "id": "54GbC_GVuD39"
      }
    },
    {
      "cell_type": "code",
      "source": [
        "help(str)"
      ],
      "metadata": {
        "id": "IkpWY-z-tKy6"
      },
      "execution_count": null,
      "outputs": []
    },
    {
      "cell_type": "markdown",
      "source": [
        "## 5. Operador in\n",
        "\n",
        "O operador in verifica se o operando à esquerda, está contido na estrutura à direita, da mesma forma que o operador not in que verifica o contrário.\n",
        "\n",
        "Podemos verificar se uma determinado caractere ou palavra está contido em uma String, por exemplo.\n",
        "\n",
        "> O operador in ou not in retorna True ou False"
      ],
      "metadata": {
        "id": "mCcwwcLD2Pv7"
      }
    },
    {
      "cell_type": "code",
      "source": [
        "nome = 'Laura Emmanuella Alves dos Santos Santana de Oliveira'\n",
        "\n",
        "\n",
        "if 'Silva' in nome:\n",
        "  print('\\nFamília Silva')\n",
        "else:\n",
        "  print('\\nNão é da família Silva')\n",
        "\n",
        "\n",
        "if 'Santana' in nome:\n",
        "  print('\\nFamília Santana')\n",
        "else:\n",
        "  print('\\nNão é da família Santana')"
      ],
      "metadata": {
        "colab": {
          "base_uri": "https://localhost:8080/"
        },
        "id": "441a5mdz2UCZ",
        "outputId": "891976f9-f4d3-4799-8310-b871c7a098c2"
      },
      "execution_count": null,
      "outputs": [
        {
          "output_type": "stream",
          "name": "stdout",
          "text": [
            "\n",
            "Não é da família Silva\n",
            "\n",
            "Família Santana\n"
          ]
        }
      ]
    },
    {
      "cell_type": "markdown",
      "source": [
        "## 6. Iterando os caracteres da string (for)\n",
        "\n",
        "Como as strings são sequências de itens, podemos usar a estrutura for para percorrer esses itens (como fizemos com o range). Veja o exemplo abaixo:"
      ],
      "metadata": {
        "id": "R-X4HfZVEOI1"
      }
    },
    {
      "cell_type": "code",
      "source": [
        "for i in nome:\n",
        "  print(i)"
      ],
      "metadata": {
        "colab": {
          "base_uri": "https://localhost:8080/"
        },
        "id": "nmAG-cPTESt9",
        "outputId": "d96315cc-64bb-4562-ae4f-82f90ec0ffe2"
      },
      "execution_count": null,
      "outputs": [
        {
          "output_type": "stream",
          "name": "stdout",
          "text": [
            "M\n",
            "a\n",
            "b\n",
            "r\n",
            "i\n",
            "e\n",
            "l\n",
            " \n",
            "H\n",
            " \n",
            "d\n",
            "a\n",
            " \n",
            "S\n",
            "i\n",
            "l\n",
            "v\n",
            "a\n"
          ]
        }
      ]
    },
    {
      "cell_type": "markdown",
      "source": [
        "> A função **enumerate** do Python gera uma tupla (conjunto fixo de valores, nesse caso 2 valores) em que **o primeiro elemento é o índice e o segundo elemento é o valor da sequência informada (nesse caso, a string)**"
      ],
      "metadata": {
        "id": "v4udcGNRWuGB"
      }
    },
    {
      "cell_type": "code",
      "source": [
        "for s in enumerate(nome):\n",
        "  print(s)"
      ],
      "metadata": {
        "colab": {
          "base_uri": "https://localhost:8080/"
        },
        "id": "BPbhZlLlUphu",
        "outputId": "d4c6a0f2-ed78-46be-e037-268eeaa49424"
      },
      "execution_count": null,
      "outputs": [
        {
          "output_type": "stream",
          "name": "stdout",
          "text": [
            "(0, 'G')\n",
            "(1, 'a')\n",
            "(2, 'b')\n",
            "(3, 'r')\n",
            "(4, 'i')\n",
            "(5, 'e')\n",
            "(6, 'l')\n",
            "(7, ' ')\n",
            "(8, 'H')\n",
            "(9, ' ')\n",
            "(10, 'd')\n",
            "(11, 'a')\n",
            "(12, ' ')\n",
            "(13, 'S')\n",
            "(14, 'i')\n",
            "(15, 'l')\n",
            "(16, 'v')\n",
            "(17, 'a')\n"
          ]
        }
      ]
    },
    {
      "cell_type": "markdown",
      "source": [
        "## 7. Exercícios\n",
        "\n",
        "\n",
        "---"
      ],
      "metadata": {
        "id": "HHFCkMO_EAKM"
      }
    },
    {
      "cell_type": "markdown",
      "source": [
        "1. Faça um programa que leia 2 nomes. O programa deve mostrar os nomes seguidos dos seus tamanhos e informar se os nomes são iguais, independente de estarem em maiúsculo ou minúsculo."
      ],
      "metadata": {
        "id": "9AqfTiZkEEPH"
      }
    },
    {
      "cell_type": "code",
      "source": [
        "#seu código aqui"
      ],
      "metadata": {
        "colab": {
          "base_uri": "https://localhost:8080/"
        },
        "id": "IUa_WY2mvFZO",
        "outputId": "b7555244-5e88-4aee-c2e6-d5ae38f33631"
      },
      "execution_count": null,
      "outputs": [
        {
          "output_type": "stream",
          "name": "stdout",
          "text": [
            "Informe o primeiro nome: Laura\n",
            "Informe o segundo nome: laura\n",
            "\n",
            "Laura: 5 caracteres\n",
            "laura: 5 caracteres\n",
            "\n",
            "Nomes iguais\n"
          ]
        }
      ]
    },
    {
      "cell_type": "markdown",
      "source": [
        "2. Faça um programa que leia o primeiro nome e o último nome do usuário em 2 variáveis; junte-as em uma única variável, mostrando-a na saída."
      ],
      "metadata": {
        "id": "7Ke8oy4D4wUr"
      }
    },
    {
      "cell_type": "code",
      "source": [
        "#seu código aqui"
      ],
      "metadata": {
        "colab": {
          "base_uri": "https://localhost:8080/"
        },
        "id": "s10qc94t4qEw",
        "outputId": "01f8cf48-f1df-4ef3-c943-c32beeceebb5"
      },
      "execution_count": null,
      "outputs": [
        {
          "output_type": "stream",
          "name": "stdout",
          "text": [
            "Informe seu primeiro nome: Laura\n",
            "Informe seu último nome: Santana\n",
            "Nome completo: Laura Santana\n"
          ]
        }
      ]
    },
    {
      "cell_type": "markdown",
      "source": [
        "3. Faça um programa que permita ao usuário digitar o seu nome e em seguida mostre o nome do usuário de trás para frente utilizando somente letras minúsculas"
      ],
      "metadata": {
        "id": "J1IAIvigwHKD"
      }
    },
    {
      "cell_type": "code",
      "source": [
        "#seu código aqui"
      ],
      "metadata": {
        "colab": {
          "base_uri": "https://localhost:8080/"
        },
        "id": "RYzNYk0owR6T",
        "outputId": "5a521d4a-7bcc-4d83-d19b-27f43fa6fa43"
      },
      "execution_count": null,
      "outputs": [
        {
          "output_type": "stream",
          "name": "stdout",
          "text": [
            "Informe seu nome: Laura\n",
            "arual\n"
          ]
        }
      ]
    },
    {
      "cell_type": "markdown",
      "source": [
        "4. Faça um programa que solicite o nome do usuário e imprima-o na vertical."
      ],
      "metadata": {
        "id": "RT-Tr1hgwvyx"
      }
    },
    {
      "cell_type": "code",
      "source": [
        "#seu código aqui"
      ],
      "metadata": {
        "colab": {
          "base_uri": "https://localhost:8080/"
        },
        "id": "fZzZB9afwsh9",
        "outputId": "1fe59880-41ab-471e-faec-2aff992369c1"
      },
      "execution_count": null,
      "outputs": [
        {
          "output_type": "stream",
          "name": "stdout",
          "text": [
            "Informe seu nome: Laura\n",
            "L\n",
            "a\n",
            "u\n",
            "r\n",
            "a\n"
          ]
        }
      ]
    },
    {
      "cell_type": "markdown",
      "source": [
        "5. Dado uma string com uma frase informada pelo usuário, conte quantas vezes aparecem as vogais a, e, i, o, u."
      ],
      "metadata": {
        "id": "iCuArLo2yr-Y"
      }
    },
    {
      "cell_type": "code",
      "source": [
        "#seu código aqui"
      ],
      "metadata": {
        "colab": {
          "base_uri": "https://localhost:8080/"
        },
        "id": "RzasybJFyweZ",
        "outputId": "dda612d1-e422-487f-d215-c94c677c841a"
      },
      "execution_count": null,
      "outputs": [
        {
          "output_type": "stream",
          "name": "stdout",
          "text": [
            "Informe uma frase: gentileza gera gentileza\n",
            "Quantidade de letra a: 3\n",
            "Quantidade de letra e: 5\n",
            "Quantidade de letra i: 2\n",
            "Quantidade de letra o: 0\n",
            "Quantidade de letra u: 0\n"
          ]
        }
      ]
    },
    {
      "cell_type": "markdown",
      "source": [
        "6. Um palíndromo é uma sequência de caracteres cuja leitura é idêntica se feita da direita para esquerda ou vice−versa. Por exemplo: OSSO e OVO são palíndromos. Faça um programa que receba uma palavra e informe se ela é um palíndromo."
      ],
      "metadata": {
        "id": "7dS7IXeKzrYb"
      }
    },
    {
      "cell_type": "code",
      "source": [
        "#seu código aqui"
      ],
      "metadata": {
        "colab": {
          "base_uri": "https://localhost:8080/"
        },
        "id": "GclhWb9JzzJS",
        "outputId": "accc7aa8-dbfc-462d-a155-0240a683413c"
      },
      "execution_count": null,
      "outputs": [
        {
          "output_type": "stream",
          "name": "stdout",
          "text": [
            "Informe uma palavra: Hannah\n",
            "\n",
            "Hannah é um palíndromo\n"
          ]
        }
      ]
    },
    {
      "cell_type": "markdown",
      "source": [
        "7. Faça um programa que solicite a data de nascimento (dd/mm/aaaa) do usuário e mostre dia, mês e ano separadamente.\n",
        "\n",
        "**DICA:** Lembre que a função split retorna uma lista de elementos da string separada por determinado caractere. Para mostrar os elementos retornados, use indexação a partir do 0."
      ],
      "metadata": {
        "id": "JBk6nxJWyFBc"
      }
    },
    {
      "cell_type": "code",
      "source": [
        "#seu código aqui"
      ],
      "metadata": {
        "colab": {
          "base_uri": "https://localhost:8080/"
        },
        "id": "8oaHoP2KyQZB",
        "outputId": "ffdba6c3-f3a3-42e5-89a1-f552bb159e71"
      },
      "execution_count": null,
      "outputs": [
        {
          "output_type": "stream",
          "name": "stdout",
          "text": [
            "Informe a data de nascimento: 11/06/2015\n",
            "dia: 11\n",
            "mês: 06\n",
            "ano: 2015\n"
          ]
        }
      ]
    },
    {
      "cell_type": "markdown",
      "source": [
        "### DESAFIOS"
      ],
      "metadata": {
        "id": "uML1kW2f6DNn"
      }
    },
    {
      "cell_type": "markdown",
      "source": [
        "**[DESAFIO 1]** Em textos mais complexos os espaços e pontuações são ignorados. A frase SUBI NO ONIBUS é o exemplo de uma frase palíndroma onde os espaços foram ignorados. Altere o programa 6 para que ele analise uma frase (dica: remova os espaços da frase)"
      ],
      "metadata": {
        "id": "mtUCANYX1g4k"
      }
    },
    {
      "cell_type": "code",
      "source": [
        "#seu código aqui"
      ],
      "metadata": {
        "colab": {
          "base_uri": "https://localhost:8080/"
        },
        "id": "yFjIYxZr1hBr",
        "outputId": "a95c2ea7-6e86-4d52-b683-a31e333f8f36"
      },
      "execution_count": null,
      "outputs": [
        {
          "output_type": "stream",
          "name": "stdout",
          "text": [
            "Informe uma frase: subi no onibus\n",
            "\n",
            "subi no onibus é um palíndromo\n"
          ]
        }
      ]
    },
    {
      "cell_type": "markdown",
      "source": [
        "**[DESAFIO 2]** Modifique o programa 4 de forma a mostrar o nome em formato de escada.\n",
        "\n",
        "**DICA:** Use 2 laços aninhados."
      ],
      "metadata": {
        "id": "D8o57eeiw19U"
      }
    },
    {
      "cell_type": "code",
      "source": [
        "#seu código aqui"
      ],
      "metadata": {
        "colab": {
          "base_uri": "https://localhost:8080/"
        },
        "id": "Se54f6Miw4w-",
        "outputId": "35c72bf2-8dc3-4f2b-c80b-bf448ff95c49"
      },
      "execution_count": null,
      "outputs": [
        {
          "output_type": "stream",
          "name": "stdout",
          "text": [
            "Informe seu nome: laura\n",
            "l\n",
            "la\n",
            "lau\n",
            "laur\n",
            "laura\n"
          ]
        }
      ]
    }
  ]
}
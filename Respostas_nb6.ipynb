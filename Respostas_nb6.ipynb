{
  "nbformat": 4,
  "nbformat_minor": 0,
  "metadata": {
    "colab": {
      "name": "Respostas_nb6.ipynb",
      "provenance": [],
      "collapsed_sections": [],
      "toc_visible": true,
      "authorship_tag": "ABX9TyN79dXzkl58RsvqYw3JxABg",
      "include_colab_link": true
    },
    "kernelspec": {
      "name": "python3",
      "display_name": "Python 3"
    },
    "language_info": {
      "name": "python"
    }
  },
  "cells": [
    {
      "cell_type": "markdown",
      "metadata": {
        "id": "view-in-github",
        "colab_type": "text"
      },
      "source": [
        "<a href=\"https://colab.research.google.com/github/lauraemmanuella/prog1/blob/main/Respostas_nb6.ipynb\" target=\"_parent\"><img src=\"https://colab.research.google.com/assets/colab-badge.svg\" alt=\"Open In Colab\"/></a>"
      ]
    },
    {
      "cell_type": "markdown",
      "source": [
        "# EXERCÍCIO 1\n",
        "\n",
        "Faça um programa que mostre o seguinte menu de opções ao usuário para gestão de uma lista de compras:\n",
        "\n",
        "MINHA LISTA DE COMPRAS\n",
        "1. Inserir item ao final da lista\n",
        "2. Inserir item em posição específica\n",
        "3. Remover item por posição\n",
        "4. Remover item por valor (todas as ocorrências)\n",
        "5. Mostrar lista\n",
        "6. Fechar"
      ],
      "metadata": {
        "id": "wPawI5arHzLb"
      }
    },
    {
      "cell_type": "code",
      "source": [
        "lista = []\n",
        "while(True):\n",
        "  print('\\nMINHA LISTA DE COMPRAS')\n",
        "  print('1-Inserir item ao final da lista')\n",
        "  print('2-Inserir item em posição específica')\n",
        "  print('3-Remover item por posição')\n",
        "  print('4-Remover item por valor (todas as ocorrências)')\n",
        "  print('5-Mostrar lista')\n",
        "  print('6-Fechar')\n",
        "  opcao = int(input(''))\n",
        "  if opcao == 1: #APPEND\n",
        "    item = input('\\nInforme o item a ser inserido: ')\n",
        "    lista.append(item.upper())\n",
        "    print(f'\\n{lista}')\n",
        "  elif opcao == 2: #INSERT\n",
        "    posicao = int(input('\\nInforme a posição para inserir o item: '))\n",
        "    item = input('Informe o item a ser inserido: ')\n",
        "    lista.insert(posicao, item.upper())\n",
        "    print(f'\\n{lista}')\n",
        "  elif opcao == 3: #POP\n",
        "    posicao = int(input('\\nInforme a posição para remover o item: '))\n",
        "    lista.pop(posicao)\n",
        "    print(f'\\n{lista}')\n",
        "  elif opcao == 4: #REMOVE\n",
        "    valor = input('\\nInforme o valor a ser removido: ').upper()\n",
        "    while valor in lista: #remove todas as ocorrências do valor\n",
        "      lista.remove(valor)\n",
        "    print(f'\\n{lista}')\n",
        "  elif opcao == 5:\n",
        "    print(lista)\n",
        "  elif opcao == 6:\n",
        "    break"
      ],
      "metadata": {
        "colab": {
          "base_uri": "https://localhost:8080/"
        },
        "id": "boJTILMDH1-l",
        "outputId": "b0a3b911-4270-4983-d6bc-4e50cfa6c650"
      },
      "execution_count": null,
      "outputs": [
        {
          "name": "stdout",
          "output_type": "stream",
          "text": [
            "\n",
            "MINHA LISTA DE COMPRAS\n",
            "1-Inserir item ao final da lista\n",
            "2-Inserir item em posição específica\n",
            "3-Remover item por posição\n",
            "4-Remover item por valor (todas as ocorrências)\n",
            "5-Mostrar lista\n",
            "6-Fechar\n",
            "1\n",
            "\n",
            "Informe o item a ser inserido: caneta\n",
            "\n",
            "['CANETA']\n",
            "\n",
            "MINHA LISTA DE COMPRAS\n",
            "1-Inserir item ao final da lista\n",
            "2-Inserir item em posição específica\n",
            "3-Remover item por posição\n",
            "4-Remover item por valor (todas as ocorrências)\n",
            "5-Mostrar lista\n",
            "6-Fechar\n",
            "1\n",
            "\n",
            "Informe o item a ser inserido: lápis\n",
            "\n",
            "['CANETA', 'LÁPIS']\n",
            "\n",
            "MINHA LISTA DE COMPRAS\n",
            "1-Inserir item ao final da lista\n",
            "2-Inserir item em posição específica\n",
            "3-Remover item por posição\n",
            "4-Remover item por valor (todas as ocorrências)\n",
            "5-Mostrar lista\n",
            "6-Fechar\n",
            "1\n",
            "\n",
            "Informe o item a ser inserido: caneta\n",
            "\n",
            "['CANETA', 'LÁPIS', 'CANETA']\n",
            "\n",
            "MINHA LISTA DE COMPRAS\n",
            "1-Inserir item ao final da lista\n",
            "2-Inserir item em posição específica\n",
            "3-Remover item por posição\n",
            "4-Remover item por valor (todas as ocorrências)\n",
            "5-Mostrar lista\n",
            "6-Fechar\n",
            "2\n",
            "\n",
            "Informe a posição para inserir o item: 0\n",
            "Informe o item a ser inserido: caderno\n",
            "\n",
            "['CADERNO', 'CANETA', 'LÁPIS', 'CANETA']\n",
            "\n",
            "MINHA LISTA DE COMPRAS\n",
            "1-Inserir item ao final da lista\n",
            "2-Inserir item em posição específica\n",
            "3-Remover item por posição\n",
            "4-Remover item por valor (todas as ocorrências)\n",
            "5-Mostrar lista\n",
            "6-Fechar\n",
            "3\n",
            "\n",
            "Informe a posição para remover o item: 2\n",
            "\n",
            "['CADERNO', 'CANETA', 'CANETA']\n",
            "\n",
            "MINHA LISTA DE COMPRAS\n",
            "1-Inserir item ao final da lista\n",
            "2-Inserir item em posição específica\n",
            "3-Remover item por posição\n",
            "4-Remover item por valor (todas as ocorrências)\n",
            "5-Mostrar lista\n",
            "6-Fechar\n",
            "4\n",
            "\n",
            "Informe o valor a ser removido: caneta\n",
            "\n",
            "['CADERNO']\n",
            "\n",
            "MINHA LISTA DE COMPRAS\n",
            "1-Inserir item ao final da lista\n",
            "2-Inserir item em posição específica\n",
            "3-Remover item por posição\n",
            "4-Remover item por valor (todas as ocorrências)\n",
            "5-Mostrar lista\n",
            "6-Fechar\n",
            "6\n"
          ]
        }
      ]
    },
    {
      "cell_type": "markdown",
      "source": [
        "# DESAFIO (INDEX)\n",
        "\n",
        "Faça um programa que mostre todos os índices do elemento 100 na lista abaixo:"
      ],
      "metadata": {
        "id": "OP8-DPrt6RSx"
      }
    },
    {
      "cell_type": "code",
      "source": [
        "listapython = [56, 89, 99, 100, 100, 100, 100]\n",
        "\n",
        "indices = []\n",
        "\n",
        "qtd = listapython.count(100) #quantidade de itens 100 na lista\n",
        "cont = 0 #contador\n",
        "i = -1 #indices\n",
        "while cont < qtd: #repete a quantidade de vezes que o 100 está na lista (qtd)\n",
        "  i = listapython.index(100, i+1) #retorna a primeira ocorrência a partir de i+1 (a primeira vez será 0)\n",
        "  indices.append(i)\n",
        "  cont += 1\n",
        "  \n",
        "print(indices)"
      ],
      "metadata": {
        "colab": {
          "base_uri": "https://localhost:8080/"
        },
        "id": "nMVZSlQw6aYE",
        "outputId": "c163179a-9f49-4302-bda3-df173a46319b"
      },
      "execution_count": null,
      "outputs": [
        {
          "output_type": "stream",
          "name": "stdout",
          "text": [
            "[3, 4, 5, 6]\n"
          ]
        }
      ]
    },
    {
      "cell_type": "markdown",
      "source": [
        "# EXERCÍCIO 2"
      ],
      "metadata": {
        "id": "mWNs_IQ1djBq"
      }
    },
    {
      "cell_type": "markdown",
      "source": [
        "1. A célula abaixo gera uma lista com 20 valores aleatórios entre 1 e 100. Execute a célula abaixo:"
      ],
      "metadata": {
        "id": "tbPmULXbfXMO"
      }
    },
    {
      "cell_type": "code",
      "source": [
        "import random\n",
        "\n",
        "dados1 = []\n",
        "for i in range(20): #executa 20 vezes\n",
        "  dados1.append(random.randint(1, 100)) #gera um valor aleatório entre 1 e 100 e adiciona na lista\n",
        "\n",
        "print(dados1)"
      ],
      "metadata": {
        "colab": {
          "base_uri": "https://localhost:8080/"
        },
        "id": "LAJ2ge91dr-l",
        "outputId": "45d0bcd8-ff21-4590-e972-d575275927e3"
      },
      "execution_count": null,
      "outputs": [
        {
          "output_type": "stream",
          "name": "stdout",
          "text": [
            "[93, 67, 59, 22, 43, 24, 50, 9, 16, 89, 24, 76, 58, 9, 95, 15, 45, 93, 54, 36]\n"
          ]
        }
      ]
    },
    {
      "cell_type": "markdown",
      "source": [
        "2. Mostre o menor e o maior valor da lista e suas posições"
      ],
      "metadata": {
        "id": "-D3VR2Wbh3Uz"
      }
    },
    {
      "cell_type": "code",
      "source": [
        "maior = dados1[0]\n",
        "menor = dados1[0]\n",
        "for i in dados1[1:]:\n",
        "  if i > maior:\n",
        "    maior = i\n",
        "  if i < menor:\n",
        "    menor = i\n",
        "\n",
        "print(f'Maior valor: {maior} Posição: {dados1.index(maior)}')\n",
        "print(f'Menor valor: {menor} Posição: {dados1.index(menor)}')\n"
      ],
      "metadata": {
        "colab": {
          "base_uri": "https://localhost:8080/"
        },
        "id": "uhAZ_8tJiBtp",
        "outputId": "ac88d0e0-aaed-4dfc-cef8-3d822369948d"
      },
      "execution_count": null,
      "outputs": [
        {
          "output_type": "stream",
          "name": "stdout",
          "text": [
            "Maior valor: 95 Posição: 14\n",
            "Menor valor: 9 Posição: 7\n"
          ]
        }
      ]
    },
    {
      "cell_type": "markdown",
      "source": [
        "Usando funções embutidas do Python: \n",
        "https://docs.python.org/pt-br/3/library/functions.html"
      ],
      "metadata": {
        "id": "_J6s48DjjsXF"
      }
    },
    {
      "cell_type": "code",
      "source": [
        "maior = max(dados1)\n",
        "menor = min(dados1)\n",
        "\n",
        "print(f'Maior valor: {maior} Posição: {dados1.index(maior)}')\n",
        "print(f'Menor valor: {menor} Posição: {dados1.index(menor)}')\n"
      ],
      "metadata": {
        "colab": {
          "base_uri": "https://localhost:8080/"
        },
        "id": "teqZZAmljbOx",
        "outputId": "e7742bf5-62a9-45d2-a3e0-e76803d08dde"
      },
      "execution_count": null,
      "outputs": [
        {
          "output_type": "stream",
          "name": "stdout",
          "text": [
            "Maior valor: 100 Posição: 18\n",
            "Menor valor: 3 Posição: 2\n"
          ]
        }
      ]
    },
    {
      "cell_type": "markdown",
      "source": [
        "3. Gere outra lista (dados2) com 20 elementos aleatórios entre 1 e 200"
      ],
      "metadata": {
        "id": "Or7hHwAkkCzT"
      }
    },
    {
      "cell_type": "code",
      "source": [
        "dados2 = []\n",
        "for i in range(20):\n",
        "  dados2.append(random.randint(1, 200))\n",
        "\n",
        "print(dados2)"
      ],
      "metadata": {
        "colab": {
          "base_uri": "https://localhost:8080/"
        },
        "id": "OSaC6FqikKcH",
        "outputId": "dbdfa9e1-abca-41a6-832c-ef9efd3e2566"
      },
      "execution_count": null,
      "outputs": [
        {
          "output_type": "stream",
          "name": "stdout",
          "text": [
            "[170, 45, 50, 84, 4, 139, 114, 70, 2, 34, 187, 108, 100, 153, 179, 24, 120, 51, 197, 164]\n"
          ]
        }
      ]
    },
    {
      "cell_type": "markdown",
      "source": [
        "4. Una as duas listas em uma única variável (dados) e mostre os elementos repetidos e a quantidade de vezes em que eles se repetem"
      ],
      "metadata": {
        "id": "SU3f3zRkke5N"
      }
    },
    {
      "cell_type": "code",
      "source": [
        "dados = dados1 + dados2\n",
        "repet = []\n",
        "for i in dados:\n",
        "  if i not in repet:\n",
        "    cont = dados.count(i)\n",
        "    if cont > 1:\n",
        "      print(f'valor: {i} - {cont} vezes ')\n",
        "      repet.append(i)"
      ],
      "metadata": {
        "colab": {
          "base_uri": "https://localhost:8080/"
        },
        "id": "vKep7vJUkr5f",
        "outputId": "04160b24-ffaf-4e19-d479-d11c54051b18"
      },
      "execution_count": null,
      "outputs": [
        {
          "output_type": "stream",
          "name": "stdout",
          "text": [
            "valor: 4 - 2 vezes \n",
            "valor: 50 - 2 vezes \n",
            "valor: 100 - 2 vezes \n"
          ]
        }
      ]
    },
    {
      "cell_type": "markdown",
      "source": [
        "5. Gere 2 listas (pares e ímpares) onde 1 delas será preenchida com os elementos pares da lista `dados` e a outra com os elementos ímpares. Mostre as listas e seus tamanhos:"
      ],
      "metadata": {
        "id": "KA37IYByhWRg"
      }
    },
    {
      "cell_type": "code",
      "source": [
        "pares = []\n",
        "impares = []\n",
        "for i in dados:\n",
        "  if i % 2 == 0:\n",
        "    pares.append(i)\n",
        "  else:\n",
        "    impares.append(i)\n",
        "\n",
        "print(f'Pares: {pares} - {len(pares)} itens')\n",
        "print(f'ímpares: {impares} - {len(impares)} itens')"
      ],
      "metadata": {
        "colab": {
          "base_uri": "https://localhost:8080/"
        },
        "id": "1VG9HA0nfyDf",
        "outputId": "7e387d28-6aa0-4f73-b4e0-c6ff859f07c3"
      },
      "execution_count": null,
      "outputs": [
        {
          "output_type": "stream",
          "name": "stdout",
          "text": [
            "Pares: [88, 74, 62, 16, 76, 28, 4, 48, 50, 36, 40, 100, 58, 170, 50, 84, 4, 114, 70, 2, 34, 108, 100, 24, 120, 164] - 26 itens\n",
            "ímpares: [3, 11, 83, 69, 37, 53, 93, 45, 139, 187, 153, 179, 51, 197] - 14 itens\n"
          ]
        }
      ]
    },
    {
      "cell_type": "markdown",
      "source": [
        "6. Agora coloque as duas listas anteriores (pares e ímpares) em ordem crescente. Mostre o menor e maior valor de cada lista:"
      ],
      "metadata": {
        "id": "HOlkkybPhn2x"
      }
    },
    {
      "cell_type": "code",
      "source": [
        "pares.sort()\n",
        "impares.sort()\n",
        "print(pares)\n",
        "print(f'Menor: {pares[0]} Maior: {pares[-1]}')\n",
        "print(impares)\n",
        "print(f'Menor: {impares[0]} Maior: {impares[-1]}')"
      ],
      "metadata": {
        "colab": {
          "base_uri": "https://localhost:8080/"
        },
        "id": "AwQiAsLXhrKv",
        "outputId": "fecade0a-674c-44f9-e701-a82b3456005f"
      },
      "execution_count": null,
      "outputs": [
        {
          "output_type": "stream",
          "name": "stdout",
          "text": [
            "[2, 4, 4, 16, 24, 28, 34, 36, 40, 48, 50, 50, 58, 62, 70, 74, 76, 84, 88, 100, 100, 108, 114, 120, 164, 170]\n",
            "Menor: 2 Maior: 170\n",
            "[3, 11, 37, 45, 51, 53, 69, 83, 93, 139, 153, 179, 187, 197]\n",
            "Menor: 3 Maior: 197\n"
          ]
        }
      ]
    }
  ]
}
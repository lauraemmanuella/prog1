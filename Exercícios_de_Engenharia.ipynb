{
  "nbformat": 4,
  "nbformat_minor": 0,
  "metadata": {
    "colab": {
      "provenance": [],
      "authorship_tag": "ABX9TyPJBE9jJPNYBZJfwLPP3XZK",
      "include_colab_link": true
    },
    "kernelspec": {
      "name": "python3",
      "display_name": "Python 3"
    },
    "language_info": {
      "name": "python"
    }
  },
  "cells": [
    {
      "cell_type": "markdown",
      "metadata": {
        "id": "view-in-github",
        "colab_type": "text"
      },
      "source": [
        "<a href=\"https://colab.research.google.com/github/lauraemmanuella/prog1/blob/main/Exerc%C3%ADcios_de_Engenharia.ipynb\" target=\"_parent\"><img src=\"https://colab.research.google.com/assets/colab-badge.svg\" alt=\"Open In Colab\"/></a>"
      ]
    },
    {
      "cell_type": "markdown",
      "source": [
        "# Programando exercícios de Engenharia\n",
        "\n",
        "**Objetivo:** Exercitar a programação computacional de modo integrado às disciplinas do curso de Engenharia\n",
        "\n",
        "**Método:** Implementar em Python questões de disciplinas cursadas no mesmo período\n",
        "\n",
        "**Aluno:** Seu nome aqui"
      ],
      "metadata": {
        "id": "lpRqaBdnBJrm"
      }
    },
    {
      "cell_type": "markdown",
      "source": [
        "## Estrutura sequencial\n",
        "\n",
        "A questão deve conter: \n",
        "* Entrada\n",
        "* Processamento (operações aritméticas, relacionais e/ou lógicas)\n",
        "* Saída"
      ],
      "metadata": {
        "id": "M5YrBBO2DLNF"
      }
    },
    {
      "cell_type": "markdown",
      "source": [
        "**Questão 1:** Descreva sua questão aqui"
      ],
      "metadata": {
        "id": "vWbHFbqKDofV"
      }
    },
    {
      "cell_type": "code",
      "execution_count": null,
      "metadata": {
        "id": "euozhNiVBFGd"
      },
      "outputs": [],
      "source": [
        "#Implemente seu código aqui"
      ]
    },
    {
      "cell_type": "markdown",
      "source": [
        "## Estrutura condicional\n",
        "\n",
        "A questão deve conter pelo menos um bloco de código condicional"
      ],
      "metadata": {
        "id": "SypUfjZLDw7_"
      }
    },
    {
      "cell_type": "markdown",
      "source": [
        "**Questão 2:** Descreva sua questão aqui"
      ],
      "metadata": {
        "id": "SV6ubQUaDw7_"
      }
    },
    {
      "cell_type": "code",
      "execution_count": null,
      "metadata": {
        "id": "9qudsAqLDw8A"
      },
      "outputs": [],
      "source": [
        "#Implemente seu código aqui"
      ]
    },
    {
      "cell_type": "markdown",
      "source": [
        "## Estrutura de repetição\n",
        "\n",
        "A questão deve conter pelo menos um bloco de código de repetição"
      ],
      "metadata": {
        "id": "kND2NvdiEHyP"
      }
    },
    {
      "cell_type": "markdown",
      "source": [
        "**Questão 3:** Descreva sua questão aqui"
      ],
      "metadata": {
        "id": "sCULiLl0EHyS"
      }
    },
    {
      "cell_type": "code",
      "execution_count": null,
      "metadata": {
        "id": "-Hn26D7lEHyT"
      },
      "outputs": [],
      "source": [
        "#Implemente seu código aqui"
      ]
    },
    {
      "cell_type": "markdown",
      "source": [
        "## Estrutura de dados do tipo String\n",
        "\n",
        "A questão deve possuir pelo menos uma estrutura do tipo string"
      ],
      "metadata": {
        "id": "Il5kM9YoE3zb"
      }
    },
    {
      "cell_type": "markdown",
      "source": [
        "**Questão 4:** Descreva sua questão aqui"
      ],
      "metadata": {
        "id": "PsbczYbeEQJA"
      }
    },
    {
      "cell_type": "code",
      "execution_count": null,
      "metadata": {
        "id": "mkLMd_0cEQJB"
      },
      "outputs": [],
      "source": [
        "#Implemente seu código aqui"
      ]
    },
    {
      "cell_type": "markdown",
      "source": [
        "## Estrutura de dados do tipo Lista\n",
        "\n",
        "A questão deve possuir pelo menos uma estrutura do tipo lista"
      ],
      "metadata": {
        "id": "h3h8kMBUEQI9"
      }
    },
    {
      "cell_type": "markdown",
      "source": [
        "**Questão 5:** Descreva sua questão aqui"
      ],
      "metadata": {
        "id": "T_V-fxeLE3zq"
      }
    },
    {
      "cell_type": "code",
      "execution_count": null,
      "metadata": {
        "id": "iKY9HKVVE3zr"
      },
      "outputs": [],
      "source": [
        "#Implemente seu código aqui"
      ]
    },
    {
      "cell_type": "markdown",
      "source": [
        "## Estrutura de dados do tipo Dicionário\n",
        "\n",
        "A questão deve possuir pelo menos uma estrutura do tipo dicionário"
      ],
      "metadata": {
        "id": "ZGPljlJVunu9"
      }
    },
    {
      "cell_type": "markdown",
      "source": [
        "**Questão 6:** Descreva sua questão aqui"
      ],
      "metadata": {
        "id": "mMM0FihFus47"
      }
    },
    {
      "cell_type": "code",
      "execution_count": null,
      "metadata": {
        "id": "BQT6TNjGus48"
      },
      "outputs": [],
      "source": [
        "#Implemente seu código aqui"
      ]
    },
    {
      "cell_type": "markdown",
      "source": [
        "## Funções\n",
        "\n",
        "A questão deve possuir pelo menos três funções"
      ],
      "metadata": {
        "id": "Gdscn0OnFNoE"
      }
    },
    {
      "cell_type": "markdown",
      "source": [
        "**Questão 7:** Descreva sua questão aqui"
      ],
      "metadata": {
        "id": "Bc1GnqUoFNoF"
      }
    },
    {
      "cell_type": "code",
      "execution_count": null,
      "metadata": {
        "id": "MU-S36m7FNoF"
      },
      "outputs": [],
      "source": [
        "#Implemente seu código aqui"
      ]
    }
  ]
}